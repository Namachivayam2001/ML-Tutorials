{
 "cells": [
  {
   "cell_type": "markdown",
   "id": "a4376053-d29d-49c1-bae0-578f74b10d16",
   "metadata": {},
   "source": [
    "use `nltk.download('stopwords')` if you get `Attempted to load corpora/stopwords` error"
   ]
  },
  {
   "cell_type": "code",
   "execution_count": 353,
   "id": "009f16f3-1b06-4ce9-a0b6-337de1259426",
   "metadata": {},
   "outputs": [],
   "source": [
    "# Import required packages\n",
    "import pandas as pd\n",
    "import numpy as np\n",
    "import matplotlib.pyplot as plt\n",
    "import seaborn as sns\n",
    "import json\n",
    "import nltk\n",
    "from nltk.sentiment import SentimentIntensityAnalyzer\n",
    "from sklearn.preprocessing import LabelEncoder, StandardScaler\n",
    "from sklearn.cluster import KMeans\n",
    "from sklearn.decomposition import PCA"
   ]
  },
  {
   "cell_type": "markdown",
   "id": "7bd8eb24-b479-4eb0-844f-5dfd082cdddb",
   "metadata": {},
   "source": [
    "### Find the information about dataset from the below Link \n",
    "- https://www.kaggle.com/datasets/samps74/e-commerce-customer-behavior-dataset/data"
   ]
  },
  {
   "cell_type": "code",
   "execution_count": 354,
   "id": "9ba5145e-ea2f-4e85-a91c-086fd59f10d3",
   "metadata": {},
   "outputs": [],
   "source": [
    "df = pd.read_csv('https://github.com/Namachivayam2001/Public_Datasets/raw/main/E-commerce.csv')"
   ]
  },
  {
   "cell_type": "markdown",
   "id": "d806dfe6-82f3-48d1-b8c8-bdc97eaa1732",
   "metadata": {},
   "source": [
    "## 1. Data Inspection"
   ]
  },
  {
   "cell_type": "code",
   "execution_count": 355,
   "id": "f80f9e66-7e2b-4b7c-bcf0-ac4d4ee89821",
   "metadata": {},
   "outputs": [
    {
     "data": {
      "text/html": [
       "<div>\n",
       "<style scoped>\n",
       "    .dataframe tbody tr th:only-of-type {\n",
       "        vertical-align: middle;\n",
       "    }\n",
       "\n",
       "    .dataframe tbody tr th {\n",
       "        vertical-align: top;\n",
       "    }\n",
       "\n",
       "    .dataframe thead th {\n",
       "        text-align: right;\n",
       "    }\n",
       "</style>\n",
       "<table border=\"1\" class=\"dataframe\">\n",
       "  <thead>\n",
       "    <tr style=\"text-align: right;\">\n",
       "      <th></th>\n",
       "      <th>Customer ID</th>\n",
       "      <th>Age</th>\n",
       "      <th>Gender</th>\n",
       "      <th>Location</th>\n",
       "      <th>Annual Income</th>\n",
       "      <th>Purchase History</th>\n",
       "      <th>Browsing History</th>\n",
       "      <th>Product Reviews</th>\n",
       "      <th>Time on Site</th>\n",
       "    </tr>\n",
       "  </thead>\n",
       "  <tbody>\n",
       "    <tr>\n",
       "      <th>0</th>\n",
       "      <td>1001</td>\n",
       "      <td>25</td>\n",
       "      <td>Female</td>\n",
       "      <td>City D</td>\n",
       "      <td>45000</td>\n",
       "      <td>[{\"Date\": \"2022-03-05\", \"Category\": \"Clothing\"...</td>\n",
       "      <td>[{\"Timestamp\": \"2022-03-10T14:30:00Z\"}, {\"Time...</td>\n",
       "      <td>Great pair of jeans, very comfortable. Rating:...</td>\n",
       "      <td>32.50</td>\n",
       "    </tr>\n",
       "    <tr>\n",
       "      <th>1</th>\n",
       "      <td>1001</td>\n",
       "      <td>28</td>\n",
       "      <td>Female</td>\n",
       "      <td>City D</td>\n",
       "      <td>52000</td>\n",
       "      <td>[{\"Product Category\": \"Clothing\", \"Purchase Da...</td>\n",
       "      <td>[{\"Product Category\": \"Home &amp; Garden\", \"Timest...</td>\n",
       "      <td>Great customer service!</td>\n",
       "      <td>123.45</td>\n",
       "    </tr>\n",
       "    <tr>\n",
       "      <th>2</th>\n",
       "      <td>1001</td>\n",
       "      <td>28</td>\n",
       "      <td>Female</td>\n",
       "      <td>City D</td>\n",
       "      <td>65000</td>\n",
       "      <td>[{\"Product Category\": \"Electronics\", \"Purchase...</td>\n",
       "      <td>[{\"Product Category\": \"Clothing\", \"Timestamp\":...</td>\n",
       "      <td>Great electronics. The sound quality is excell...</td>\n",
       "      <td>125.60</td>\n",
       "    </tr>\n",
       "    <tr>\n",
       "      <th>3</th>\n",
       "      <td>1001</td>\n",
       "      <td>45</td>\n",
       "      <td>Female</td>\n",
       "      <td>City D</td>\n",
       "      <td>70000</td>\n",
       "      <td>{'Purchase Date': '2022-08-15', 'Product Categ...</td>\n",
       "      <td>{'Timestamp': '2022-09-03 14:30:00'}</td>\n",
       "      <td>{\"Product 1\": {\"Rating\": 4, \"Review\": \"Great e...</td>\n",
       "      <td>327.60</td>\n",
       "    </tr>\n",
       "    <tr>\n",
       "      <th>4</th>\n",
       "      <td>1002</td>\n",
       "      <td>34</td>\n",
       "      <td>Male</td>\n",
       "      <td>City E</td>\n",
       "      <td>45000</td>\n",
       "      <td>{'Purchase Date': '2022-07-25', 'Product Categ...</td>\n",
       "      <td>{'Timestamp': '2022-08-10 17:15:00'}</td>\n",
       "      <td>{\"Product 1\": {\"Rating\": 3, \"Review\": \"Good pr...</td>\n",
       "      <td>214.90</td>\n",
       "    </tr>\n",
       "  </tbody>\n",
       "</table>\n",
       "</div>"
      ],
      "text/plain": [
       "   Customer ID  Age  Gender Location  Annual Income  \\\n",
       "0         1001   25  Female   City D          45000   \n",
       "1         1001   28  Female   City D          52000   \n",
       "2         1001   28  Female   City D          65000   \n",
       "3         1001   45  Female   City D          70000   \n",
       "4         1002   34    Male   City E          45000   \n",
       "\n",
       "                                    Purchase History  \\\n",
       "0  [{\"Date\": \"2022-03-05\", \"Category\": \"Clothing\"...   \n",
       "1  [{\"Product Category\": \"Clothing\", \"Purchase Da...   \n",
       "2  [{\"Product Category\": \"Electronics\", \"Purchase...   \n",
       "3  {'Purchase Date': '2022-08-15', 'Product Categ...   \n",
       "4  {'Purchase Date': '2022-07-25', 'Product Categ...   \n",
       "\n",
       "                                    Browsing History  \\\n",
       "0  [{\"Timestamp\": \"2022-03-10T14:30:00Z\"}, {\"Time...   \n",
       "1  [{\"Product Category\": \"Home & Garden\", \"Timest...   \n",
       "2  [{\"Product Category\": \"Clothing\", \"Timestamp\":...   \n",
       "3               {'Timestamp': '2022-09-03 14:30:00'}   \n",
       "4               {'Timestamp': '2022-08-10 17:15:00'}   \n",
       "\n",
       "                                     Product Reviews  Time on Site  \n",
       "0  Great pair of jeans, very comfortable. Rating:...         32.50  \n",
       "1                            Great customer service!        123.45  \n",
       "2  Great electronics. The sound quality is excell...        125.60  \n",
       "3  {\"Product 1\": {\"Rating\": 4, \"Review\": \"Great e...        327.60  \n",
       "4  {\"Product 1\": {\"Rating\": 3, \"Review\": \"Good pr...        214.90  "
      ]
     },
     "execution_count": 355,
     "metadata": {},
     "output_type": "execute_result"
    }
   ],
   "source": [
    "# view the first 5 rows of the dataset\n",
    "df.head()"
   ]
  },
  {
   "cell_type": "code",
   "execution_count": 356,
   "id": "f0698c88-a679-4fc2-97fb-a6139cdc5f82",
   "metadata": {},
   "outputs": [
    {
     "data": {
      "text/plain": [
       "(50, 9)"
      ]
     },
     "execution_count": 356,
     "metadata": {},
     "output_type": "execute_result"
    }
   ],
   "source": [
    "# Check the number of rows and columns in a dataset\n",
    "df.shape"
   ]
  },
  {
   "cell_type": "code",
   "execution_count": 357,
   "id": "31c77675-a4f4-4f5e-920c-ba1581d2f0a7",
   "metadata": {},
   "outputs": [
    {
     "name": "stdout",
     "output_type": "stream",
     "text": [
      "<class 'pandas.core.frame.DataFrame'>\n",
      "RangeIndex: 50 entries, 0 to 49\n",
      "Data columns (total 9 columns):\n",
      " #   Column            Non-Null Count  Dtype  \n",
      "---  ------            --------------  -----  \n",
      " 0   Customer ID       50 non-null     int64  \n",
      " 1   Age               50 non-null     int64  \n",
      " 2   Gender            50 non-null     object \n",
      " 3   Location          50 non-null     object \n",
      " 4   Annual Income     50 non-null     int64  \n",
      " 5   Purchase History  50 non-null     object \n",
      " 6   Browsing History  50 non-null     object \n",
      " 7   Product Reviews   50 non-null     object \n",
      " 8   Time on Site      50 non-null     float64\n",
      "dtypes: float64(1), int64(3), object(5)\n",
      "memory usage: 3.6+ KB\n"
     ]
    }
   ],
   "source": [
    "# check the datatypes and not-null count\n",
    "df.info()"
   ]
  },
  {
   "cell_type": "markdown",
   "id": "3b9048fc-4a38-47e2-b7a7-381411c779d9",
   "metadata": {},
   "source": [
    "## 2. After data inspection we confirm there is no null values in a dataset"
   ]
  },
  {
   "cell_type": "markdown",
   "id": "4ada39de-8bf0-4874-aa5a-cf4ffdc400ab",
   "metadata": {},
   "source": [
    "## 3. Check Duplicates "
   ]
  },
  {
   "cell_type": "code",
   "execution_count": 358,
   "id": "27fa96c8-d2f9-498f-9bd2-b6f87417ea74",
   "metadata": {},
   "outputs": [
    {
     "data": {
      "text/plain": [
       "np.int64(0)"
      ]
     },
     "execution_count": 358,
     "metadata": {},
     "output_type": "execute_result"
    }
   ],
   "source": [
    "df.duplicated().sum()"
   ]
  },
  {
   "cell_type": "markdown",
   "id": "307fa63d-483e-4a5d-ae45-3c4a47c68007",
   "metadata": {},
   "source": [
    "**There is no duplicates in dataset**"
   ]
  },
  {
   "cell_type": "markdown",
   "id": "ea0f20b4-1f6d-4b53-ada8-9e9456939d51",
   "metadata": {},
   "source": [
    "## 4. Check OutLiers"
   ]
  },
  {
   "cell_type": "code",
   "execution_count": 359,
   "id": "2cd0e0dc-6c39-4f03-8250-c0ce8e18abf1",
   "metadata": {},
   "outputs": [
    {
     "data": {
      "image/png": "[encoded data removed]",
      "text/plain": [
       "<Figure size 1500x800 with 6 Axes>"
      ]
     },
     "metadata": {},
     "output_type": "display_data"
    }
   ],
   "source": [
    "numarical_columns = df.select_dtypes(include=['number']).columns.tolist()\n",
    "\n",
    "cols = 3\n",
    "rows = (len(numarical_columns) + cols - 1) // cols\n",
    "\n",
    "fig, axis = plt.subplots(rows, cols, figsize=(5*cols, 4*rows))\n",
    "axis = axis.flatten()\n",
    "\n",
    "for i, column in enumerate(numarical_columns):\n",
    "    sns.boxplot(x=df[column], ax=axis[i])\n",
    "\n",
    "plt.tight_layout()\n",
    "plt.show()"
   ]
  },
  {
   "cell_type": "code",
   "execution_count": 360,
   "id": "9b1ae7fa-f886-4d45-bb42-4717866dec36",
   "metadata": {},
   "outputs": [],
   "source": [
    "# return the text data without numbers and special charecters\n",
    "def simplify_text(text):\n",
    "    text = text.lower()\n",
    "    text = text.strip()\n",
    "    text = ''.join(char for char in text if char.isalpha() or char.isspace())\n",
    "    \n",
    "    return text"
   ]
  },
  {
   "cell_type": "code",
   "execution_count": 361,
   "id": "5d602d88-fa51-42df-a94c-d8db6493d34d",
   "metadata": {},
   "outputs": [],
   "source": [
    "# clean the product review\n",
    "df['Product Reviews'] = df['Product Reviews'].apply(simplify_text)"
   ]
  },
  {
   "cell_type": "code",
   "execution_count": 362,
   "id": "4207d0d0-fcc5-4034-b0c7-9d58f7c2aeb8",
   "metadata": {},
   "outputs": [
    {
     "data": {
      "text/plain": [
       "0     great pair of jeans very comfortable rating  s...\n",
       "1                                great customer service\n",
       "2     great electronics the sound quality is excelle...\n",
       "3     product  rating  review great experience buyin...\n",
       "4     product  rating  review good product but could...\n",
       "5     product  rating  review awesome product highly...\n",
       "6     product  rating  review great product will def...\n",
       "7     product  rating  review good product but not w...\n",
       "8     product  rating  review outstanding product ex...\n",
       "9     product  rating  review good product but could...\n",
       "10    product  rating  review good product but not w...\n",
       "11    product  rating  review great product will def...\n",
       "12            review text great quality clothes rating \n",
       "13    review text good product but could be cheaper ...\n",
       "14    review text very satisfied with my purchase ra...\n",
       "Name: Product Reviews, dtype: object"
      ]
     },
     "execution_count": 362,
     "metadata": {},
     "output_type": "execute_result"
    }
   ],
   "source": [
    "df['Product Reviews'].head(15)"
   ]
  },
  {
   "cell_type": "markdown",
   "id": "0fcbf803-eb6c-4e94-afaf-66e7bc1b16c1",
   "metadata": {},
   "source": [
    "---\n",
    "use `nltk.download('vader_lexicon')` if you got `Attempted to load sentiment/vader_lexicon.zip/vader_lexicon/vader_lexicon.txt` Error"
   ]
  },
  {
   "cell_type": "code",
   "execution_count": 363,
   "id": "d8170060-a63f-4790-a58a-14d04b40181d",
   "metadata": {},
   "outputs": [],
   "source": [
    "# create sentiment feature using SentimentIntensityAnalyzer\n",
    "sia = SentimentIntensityAnalyzer()"
   ]
  },
  {
   "cell_type": "markdown",
   "id": "607a6cb6-0f8d-4d5d-8942-da4d6f683f07",
   "metadata": {},
   "source": [
    "**🔍 What is compound in sia.polarity_scores()?**\n",
    "- It is a normalized score that ranges from -1 (most negative) to +1 (most positive).\n",
    "- It is computed using the sum of the valence scores of each word in the text, then normalized to range between -1 and +1."
   ]
  },
  {
   "cell_type": "code",
   "execution_count": 364,
   "id": "7b7a14fa-39d7-4fbc-a091-2c087fd5efcb",
   "metadata": {},
   "outputs": [],
   "source": [
    "# return the compound score\n",
    "def nltk_analyze(text):\n",
    "    return sia.polarity_scores(text)['compound']\n",
    "\n",
    "# create sentiment column with compound score\n",
    "df['sentiment_rate'] = df['Product Reviews'].apply(nltk_analyze)"
   ]
  },
  {
   "cell_type": "code",
   "execution_count": 365,
   "id": "f42107fd-1d47-404f-9a09-77d590795b48",
   "metadata": {},
   "outputs": [
    {
     "data": {
      "text/html": [
       "<div>\n",
       "<style scoped>\n",
       "    .dataframe tbody tr th:only-of-type {\n",
       "        vertical-align: middle;\n",
       "    }\n",
       "\n",
       "    .dataframe tbody tr th {\n",
       "        vertical-align: top;\n",
       "    }\n",
       "\n",
       "    .dataframe thead th {\n",
       "        text-align: right;\n",
       "    }\n",
       "</style>\n",
       "<table border=\"1\" class=\"dataframe\">\n",
       "  <thead>\n",
       "    <tr style=\"text-align: right;\">\n",
       "      <th></th>\n",
       "      <th>Customer ID</th>\n",
       "      <th>Age</th>\n",
       "      <th>Gender</th>\n",
       "      <th>Location</th>\n",
       "      <th>Annual Income</th>\n",
       "      <th>Purchase History</th>\n",
       "      <th>Browsing History</th>\n",
       "      <th>Product Reviews</th>\n",
       "      <th>Time on Site</th>\n",
       "      <th>sentiment_rate</th>\n",
       "    </tr>\n",
       "  </thead>\n",
       "  <tbody>\n",
       "    <tr>\n",
       "      <th>0</th>\n",
       "      <td>1001</td>\n",
       "      <td>25</td>\n",
       "      <td>Female</td>\n",
       "      <td>City D</td>\n",
       "      <td>45000</td>\n",
       "      <td>[{\"Date\": \"2022-03-05\", \"Category\": \"Clothing\"...</td>\n",
       "      <td>[{\"Timestamp\": \"2022-03-10T14:30:00Z\"}, {\"Time...</td>\n",
       "      <td>great pair of jeans very comfortable rating  s...</td>\n",
       "      <td>32.50</td>\n",
       "      <td>0.8268</td>\n",
       "    </tr>\n",
       "    <tr>\n",
       "      <th>1</th>\n",
       "      <td>1001</td>\n",
       "      <td>28</td>\n",
       "      <td>Female</td>\n",
       "      <td>City D</td>\n",
       "      <td>52000</td>\n",
       "      <td>[{\"Product Category\": \"Clothing\", \"Purchase Da...</td>\n",
       "      <td>[{\"Product Category\": \"Home &amp; Garden\", \"Timest...</td>\n",
       "      <td>great customer service</td>\n",
       "      <td>123.45</td>\n",
       "      <td>0.6249</td>\n",
       "    </tr>\n",
       "    <tr>\n",
       "      <th>2</th>\n",
       "      <td>1001</td>\n",
       "      <td>28</td>\n",
       "      <td>Female</td>\n",
       "      <td>City D</td>\n",
       "      <td>65000</td>\n",
       "      <td>[{\"Product Category\": \"Electronics\", \"Purchase...</td>\n",
       "      <td>[{\"Product Category\": \"Clothing\", \"Timestamp\":...</td>\n",
       "      <td>great electronics the sound quality is excelle...</td>\n",
       "      <td>125.60</td>\n",
       "      <td>0.8908</td>\n",
       "    </tr>\n",
       "    <tr>\n",
       "      <th>3</th>\n",
       "      <td>1001</td>\n",
       "      <td>45</td>\n",
       "      <td>Female</td>\n",
       "      <td>City D</td>\n",
       "      <td>70000</td>\n",
       "      <td>{'Purchase Date': '2022-08-15', 'Product Categ...</td>\n",
       "      <td>{'Timestamp': '2022-09-03 14:30:00'}</td>\n",
       "      <td>product  rating  review great experience buyin...</td>\n",
       "      <td>327.60</td>\n",
       "      <td>0.8316</td>\n",
       "    </tr>\n",
       "    <tr>\n",
       "      <th>4</th>\n",
       "      <td>1002</td>\n",
       "      <td>34</td>\n",
       "      <td>Male</td>\n",
       "      <td>City E</td>\n",
       "      <td>45000</td>\n",
       "      <td>{'Purchase Date': '2022-07-25', 'Product Categ...</td>\n",
       "      <td>{'Timestamp': '2022-08-10 17:15:00'}</td>\n",
       "      <td>product  rating  review good product but could...</td>\n",
       "      <td>214.90</td>\n",
       "      <td>0.7003</td>\n",
       "    </tr>\n",
       "  </tbody>\n",
       "</table>\n",
       "</div>"
      ],
      "text/plain": [
       "   Customer ID  Age  Gender Location  Annual Income  \\\n",
       "0         1001   25  Female   City D          45000   \n",
       "1         1001   28  Female   City D          52000   \n",
       "2         1001   28  Female   City D          65000   \n",
       "3         1001   45  Female   City D          70000   \n",
       "4         1002   34    Male   City E          45000   \n",
       "\n",
       "                                    Purchase History  \\\n",
       "0  [{\"Date\": \"2022-03-05\", \"Category\": \"Clothing\"...   \n",
       "1  [{\"Product Category\": \"Clothing\", \"Purchase Da...   \n",
       "2  [{\"Product Category\": \"Electronics\", \"Purchase...   \n",
       "3  {'Purchase Date': '2022-08-15', 'Product Categ...   \n",
       "4  {'Purchase Date': '2022-07-25', 'Product Categ...   \n",
       "\n",
       "                                    Browsing History  \\\n",
       "0  [{\"Timestamp\": \"2022-03-10T14:30:00Z\"}, {\"Time...   \n",
       "1  [{\"Product Category\": \"Home & Garden\", \"Timest...   \n",
       "2  [{\"Product Category\": \"Clothing\", \"Timestamp\":...   \n",
       "3               {'Timestamp': '2022-09-03 14:30:00'}   \n",
       "4               {'Timestamp': '2022-08-10 17:15:00'}   \n",
       "\n",
       "                                     Product Reviews  Time on Site  \\\n",
       "0  great pair of jeans very comfortable rating  s...         32.50   \n",
       "1                             great customer service        123.45   \n",
       "2  great electronics the sound quality is excelle...        125.60   \n",
       "3  product  rating  review great experience buyin...        327.60   \n",
       "4  product  rating  review good product but could...        214.90   \n",
       "\n",
       "   sentiment_rate  \n",
       "0          0.8268  \n",
       "1          0.6249  \n",
       "2          0.8908  \n",
       "3          0.8316  \n",
       "4          0.7003  "
      ]
     },
     "execution_count": 365,
     "metadata": {},
     "output_type": "execute_result"
    }
   ],
   "source": [
    "df.head()"
   ]
  },
  {
   "cell_type": "code",
   "execution_count": 366,
   "id": "6958a8eb-2a4d-4430-997b-878fba99fd6b",
   "metadata": {},
   "outputs": [],
   "source": [
    "# categarize the review based on compumnd score\n",
    "def categorize_sentiment(compound):\n",
    "    if compound <= 0:\n",
    "        return 'Negative'\n",
    "    elif compound <= 0.5:\n",
    "        return 'Neutral'\n",
    "    else:\n",
    "        return 'Positive'"
   ]
  },
  {
   "cell_type": "code",
   "execution_count": 367,
   "id": "1afcb5a3-8e61-491b-9a84-f80bc997881b",
   "metadata": {},
   "outputs": [],
   "source": [
    "df['sentiment_category'] = df['sentiment_rate'].apply(categorize_sentiment)"
   ]
  },
  {
   "cell_type": "code",
   "execution_count": 368,
   "id": "d1a4fd5a-7684-4cd7-8de7-f850d17d501e",
   "metadata": {},
   "outputs": [
    {
     "data": {
      "text/html": [
       "<div>\n",
       "<style scoped>\n",
       "    .dataframe tbody tr th:only-of-type {\n",
       "        vertical-align: middle;\n",
       "    }\n",
       "\n",
       "    .dataframe tbody tr th {\n",
       "        vertical-align: top;\n",
       "    }\n",
       "\n",
       "    .dataframe thead th {\n",
       "        text-align: right;\n",
       "    }\n",
       "</style>\n",
       "<table border=\"1\" class=\"dataframe\">\n",
       "  <thead>\n",
       "    <tr style=\"text-align: right;\">\n",
       "      <th></th>\n",
       "      <th>Customer ID</th>\n",
       "      <th>Age</th>\n",
       "      <th>Gender</th>\n",
       "      <th>Location</th>\n",
       "      <th>Annual Income</th>\n",
       "      <th>Purchase History</th>\n",
       "      <th>Browsing History</th>\n",
       "      <th>Product Reviews</th>\n",
       "      <th>Time on Site</th>\n",
       "      <th>sentiment_rate</th>\n",
       "      <th>sentiment_category</th>\n",
       "    </tr>\n",
       "  </thead>\n",
       "  <tbody>\n",
       "    <tr>\n",
       "      <th>0</th>\n",
       "      <td>1001</td>\n",
       "      <td>25</td>\n",
       "      <td>Female</td>\n",
       "      <td>City D</td>\n",
       "      <td>45000</td>\n",
       "      <td>[{\"Date\": \"2022-03-05\", \"Category\": \"Clothing\"...</td>\n",
       "      <td>[{\"Timestamp\": \"2022-03-10T14:30:00Z\"}, {\"Time...</td>\n",
       "      <td>great pair of jeans very comfortable rating  s...</td>\n",
       "      <td>32.50</td>\n",
       "      <td>0.8268</td>\n",
       "      <td>Positive</td>\n",
       "    </tr>\n",
       "    <tr>\n",
       "      <th>1</th>\n",
       "      <td>1001</td>\n",
       "      <td>28</td>\n",
       "      <td>Female</td>\n",
       "      <td>City D</td>\n",
       "      <td>52000</td>\n",
       "      <td>[{\"Product Category\": \"Clothing\", \"Purchase Da...</td>\n",
       "      <td>[{\"Product Category\": \"Home &amp; Garden\", \"Timest...</td>\n",
       "      <td>great customer service</td>\n",
       "      <td>123.45</td>\n",
       "      <td>0.6249</td>\n",
       "      <td>Positive</td>\n",
       "    </tr>\n",
       "    <tr>\n",
       "      <th>2</th>\n",
       "      <td>1001</td>\n",
       "      <td>28</td>\n",
       "      <td>Female</td>\n",
       "      <td>City D</td>\n",
       "      <td>65000</td>\n",
       "      <td>[{\"Product Category\": \"Electronics\", \"Purchase...</td>\n",
       "      <td>[{\"Product Category\": \"Clothing\", \"Timestamp\":...</td>\n",
       "      <td>great electronics the sound quality is excelle...</td>\n",
       "      <td>125.60</td>\n",
       "      <td>0.8908</td>\n",
       "      <td>Positive</td>\n",
       "    </tr>\n",
       "    <tr>\n",
       "      <th>3</th>\n",
       "      <td>1001</td>\n",
       "      <td>45</td>\n",
       "      <td>Female</td>\n",
       "      <td>City D</td>\n",
       "      <td>70000</td>\n",
       "      <td>{'Purchase Date': '2022-08-15', 'Product Categ...</td>\n",
       "      <td>{'Timestamp': '2022-09-03 14:30:00'}</td>\n",
       "      <td>product  rating  review great experience buyin...</td>\n",
       "      <td>327.60</td>\n",
       "      <td>0.8316</td>\n",
       "      <td>Positive</td>\n",
       "    </tr>\n",
       "    <tr>\n",
       "      <th>4</th>\n",
       "      <td>1002</td>\n",
       "      <td>34</td>\n",
       "      <td>Male</td>\n",
       "      <td>City E</td>\n",
       "      <td>45000</td>\n",
       "      <td>{'Purchase Date': '2022-07-25', 'Product Categ...</td>\n",
       "      <td>{'Timestamp': '2022-08-10 17:15:00'}</td>\n",
       "      <td>product  rating  review good product but could...</td>\n",
       "      <td>214.90</td>\n",
       "      <td>0.7003</td>\n",
       "      <td>Positive</td>\n",
       "    </tr>\n",
       "  </tbody>\n",
       "</table>\n",
       "</div>"
      ],
      "text/plain": [
       "   Customer ID  Age  Gender Location  Annual Income  \\\n",
       "0         1001   25  Female   City D          45000   \n",
       "1         1001   28  Female   City D          52000   \n",
       "2         1001   28  Female   City D          65000   \n",
       "3         1001   45  Female   City D          70000   \n",
       "4         1002   34    Male   City E          45000   \n",
       "\n",
       "                                    Purchase History  \\\n",
       "0  [{\"Date\": \"2022-03-05\", \"Category\": \"Clothing\"...   \n",
       "1  [{\"Product Category\": \"Clothing\", \"Purchase Da...   \n",
       "2  [{\"Product Category\": \"Electronics\", \"Purchase...   \n",
       "3  {'Purchase Date': '2022-08-15', 'Product Categ...   \n",
       "4  {'Purchase Date': '2022-07-25', 'Product Categ...   \n",
       "\n",
       "                                    Browsing History  \\\n",
       "0  [{\"Timestamp\": \"2022-03-10T14:30:00Z\"}, {\"Time...   \n",
       "1  [{\"Product Category\": \"Home & Garden\", \"Timest...   \n",
       "2  [{\"Product Category\": \"Clothing\", \"Timestamp\":...   \n",
       "3               {'Timestamp': '2022-09-03 14:30:00'}   \n",
       "4               {'Timestamp': '2022-08-10 17:15:00'}   \n",
       "\n",
       "                                     Product Reviews  Time on Site  \\\n",
       "0  great pair of jeans very comfortable rating  s...         32.50   \n",
       "1                             great customer service        123.45   \n",
       "2  great electronics the sound quality is excelle...        125.60   \n",
       "3  product  rating  review great experience buyin...        327.60   \n",
       "4  product  rating  review good product but could...        214.90   \n",
       "\n",
       "   sentiment_rate sentiment_category  \n",
       "0          0.8268           Positive  \n",
       "1          0.6249           Positive  \n",
       "2          0.8908           Positive  \n",
       "3          0.8316           Positive  \n",
       "4          0.7003           Positive  "
      ]
     },
     "execution_count": 368,
     "metadata": {},
     "output_type": "execute_result"
    }
   ],
   "source": [
    "df.head()"
   ]
  },
  {
   "cell_type": "code",
   "execution_count": 369,
   "id": "0caebbf1-af43-496d-8a0a-beb6b8726508",
   "metadata": {},
   "outputs": [],
   "source": [
    "# def extract_product_category(history):\n",
    "#     try:\n",
    "#         history_list = json.loads(history)\n",
    "#         if isinstance(history_list, list):\n",
    "#             return [item.get('Product Category', '') for item in history_list if 'Product Category' in item]\n",
    "#     except (json.JSONDecodeError, TypeError):\n",
    "       \n",
    "#         return None\n",
    "\n",
    "def extract_product_category(history):\n",
    "    try:\n",
    "        history_list = json.loads(history)\n",
    "        if isinstance(history_list, list):\n",
    "            return [item.get('Product Category', '') for item in history_list if 'Product Category' in item]\n",
    "    except (json.JSONDecodeError, TypeError):\n",
    "        # Fix malformed string: wrap in brackets and replace single quotes with double quotes\n",
    "        try:\n",
    "            fixed_history = '[' + history + ']'\n",
    "            fixed_history = fixed_history.replace(\"'\", '\"')\n",
    "            history_list = json.loads(fixed_history)\n",
    "            if isinstance(history_list, list):\n",
    "                return [item.get('Product Category', '') for item in history_list if 'Product Category' in item]\n",
    "        except Exception:\n",
    "            return None\n"
   ]
  },
  {
   "cell_type": "code",
   "execution_count": 370,
   "id": "5b8edcce-5ca7-422e-a6ba-e6a0aaba4a84",
   "metadata": {},
   "outputs": [
    {
     "data": {
      "text/plain": [
       "Product Categories\n",
       "[Clothing, Home & Garden]                              13\n",
       "[Electronics, Clothing, Home & Garden]                  9\n",
       "[Electronics, Home & Garden]                            8\n",
       "[Electronics, Clothing]                                 5\n",
       "[Clothing, Electronics]                                 4\n",
       "[Home & Garden, Electronics]                            4\n",
       "[Electronics]                                           2\n",
       "[]                                                      1\n",
       "[Electronics, Clothing, Home & Garden, Electronics]     1\n",
       "[Clothing, Home & Garden, Electronics]                  1\n",
       "[Clothing]                                              1\n",
       "[Clothing, Electronics, Home & Garden]                  1\n",
       "Name: count, dtype: int64"
      ]
     },
     "execution_count": 370,
     "metadata": {},
     "output_type": "execute_result"
    }
   ],
   "source": [
    "df['Product Categories'] = df['Purchase History'].apply(extract_product_category)\n",
    "df['Product Categories'].value_counts()"
   ]
  },
  {
   "cell_type": "code",
   "execution_count": 371,
   "id": "2de15d2f-5788-4ab3-8149-3b7c2bd10245",
   "metadata": {},
   "outputs": [
    {
     "data": {
      "text/html": [
       "<div>\n",
       "<style scoped>\n",
       "    .dataframe tbody tr th:only-of-type {\n",
       "        vertical-align: middle;\n",
       "    }\n",
       "\n",
       "    .dataframe tbody tr th {\n",
       "        vertical-align: top;\n",
       "    }\n",
       "\n",
       "    .dataframe thead th {\n",
       "        text-align: right;\n",
       "    }\n",
       "</style>\n",
       "<table border=\"1\" class=\"dataframe\">\n",
       "  <thead>\n",
       "    <tr style=\"text-align: right;\">\n",
       "      <th></th>\n",
       "      <th>Customer ID</th>\n",
       "      <th>Age</th>\n",
       "      <th>Gender</th>\n",
       "      <th>Location</th>\n",
       "      <th>Annual Income</th>\n",
       "      <th>Purchase History</th>\n",
       "      <th>Browsing History</th>\n",
       "      <th>Product Reviews</th>\n",
       "      <th>Time on Site</th>\n",
       "      <th>sentiment_rate</th>\n",
       "      <th>sentiment_category</th>\n",
       "      <th>Product Categories</th>\n",
       "    </tr>\n",
       "  </thead>\n",
       "  <tbody>\n",
       "    <tr>\n",
       "      <th>0</th>\n",
       "      <td>1001</td>\n",
       "      <td>25</td>\n",
       "      <td>Female</td>\n",
       "      <td>City D</td>\n",
       "      <td>45000</td>\n",
       "      <td>[{\"Date\": \"2022-03-05\", \"Category\": \"Clothing\"...</td>\n",
       "      <td>[{\"Timestamp\": \"2022-03-10T14:30:00Z\"}, {\"Time...</td>\n",
       "      <td>great pair of jeans very comfortable rating  s...</td>\n",
       "      <td>32.50</td>\n",
       "      <td>0.8268</td>\n",
       "      <td>Positive</td>\n",
       "      <td>[]</td>\n",
       "    </tr>\n",
       "    <tr>\n",
       "      <th>1</th>\n",
       "      <td>1001</td>\n",
       "      <td>28</td>\n",
       "      <td>Female</td>\n",
       "      <td>City D</td>\n",
       "      <td>52000</td>\n",
       "      <td>[{\"Product Category\": \"Clothing\", \"Purchase Da...</td>\n",
       "      <td>[{\"Product Category\": \"Home &amp; Garden\", \"Timest...</td>\n",
       "      <td>great customer service</td>\n",
       "      <td>123.45</td>\n",
       "      <td>0.6249</td>\n",
       "      <td>Positive</td>\n",
       "      <td>[Clothing, Electronics]</td>\n",
       "    </tr>\n",
       "    <tr>\n",
       "      <th>2</th>\n",
       "      <td>1001</td>\n",
       "      <td>28</td>\n",
       "      <td>Female</td>\n",
       "      <td>City D</td>\n",
       "      <td>65000</td>\n",
       "      <td>[{\"Product Category\": \"Electronics\", \"Purchase...</td>\n",
       "      <td>[{\"Product Category\": \"Clothing\", \"Timestamp\":...</td>\n",
       "      <td>great electronics the sound quality is excelle...</td>\n",
       "      <td>125.60</td>\n",
       "      <td>0.8908</td>\n",
       "      <td>Positive</td>\n",
       "      <td>[Electronics, Home &amp; Garden]</td>\n",
       "    </tr>\n",
       "    <tr>\n",
       "      <th>3</th>\n",
       "      <td>1001</td>\n",
       "      <td>45</td>\n",
       "      <td>Female</td>\n",
       "      <td>City D</td>\n",
       "      <td>70000</td>\n",
       "      <td>{'Purchase Date': '2022-08-15', 'Product Categ...</td>\n",
       "      <td>{'Timestamp': '2022-09-03 14:30:00'}</td>\n",
       "      <td>product  rating  review great experience buyin...</td>\n",
       "      <td>327.60</td>\n",
       "      <td>0.8316</td>\n",
       "      <td>Positive</td>\n",
       "      <td>[Electronics, Clothing, Home &amp; Garden, Electro...</td>\n",
       "    </tr>\n",
       "    <tr>\n",
       "      <th>4</th>\n",
       "      <td>1002</td>\n",
       "      <td>34</td>\n",
       "      <td>Male</td>\n",
       "      <td>City E</td>\n",
       "      <td>45000</td>\n",
       "      <td>{'Purchase Date': '2022-07-25', 'Product Categ...</td>\n",
       "      <td>{'Timestamp': '2022-08-10 17:15:00'}</td>\n",
       "      <td>product  rating  review good product but could...</td>\n",
       "      <td>214.90</td>\n",
       "      <td>0.7003</td>\n",
       "      <td>Positive</td>\n",
       "      <td>[Clothing, Home &amp; Garden, Electronics]</td>\n",
       "    </tr>\n",
       "  </tbody>\n",
       "</table>\n",
       "</div>"
      ],
      "text/plain": [
       "   Customer ID  Age  Gender Location  Annual Income  \\\n",
       "0         1001   25  Female   City D          45000   \n",
       "1         1001   28  Female   City D          52000   \n",
       "2         1001   28  Female   City D          65000   \n",
       "3         1001   45  Female   City D          70000   \n",
       "4         1002   34    Male   City E          45000   \n",
       "\n",
       "                                    Purchase History  \\\n",
       "0  [{\"Date\": \"2022-03-05\", \"Category\": \"Clothing\"...   \n",
       "1  [{\"Product Category\": \"Clothing\", \"Purchase Da...   \n",
       "2  [{\"Product Category\": \"Electronics\", \"Purchase...   \n",
       "3  {'Purchase Date': '2022-08-15', 'Product Categ...   \n",
       "4  {'Purchase Date': '2022-07-25', 'Product Categ...   \n",
       "\n",
       "                                    Browsing History  \\\n",
       "0  [{\"Timestamp\": \"2022-03-10T14:30:00Z\"}, {\"Time...   \n",
       "1  [{\"Product Category\": \"Home & Garden\", \"Timest...   \n",
       "2  [{\"Product Category\": \"Clothing\", \"Timestamp\":...   \n",
       "3               {'Timestamp': '2022-09-03 14:30:00'}   \n",
       "4               {'Timestamp': '2022-08-10 17:15:00'}   \n",
       "\n",
       "                                     Product Reviews  Time on Site  \\\n",
       "0  great pair of jeans very comfortable rating  s...         32.50   \n",
       "1                             great customer service        123.45   \n",
       "2  great electronics the sound quality is excelle...        125.60   \n",
       "3  product  rating  review great experience buyin...        327.60   \n",
       "4  product  rating  review good product but could...        214.90   \n",
       "\n",
       "   sentiment_rate sentiment_category  \\\n",
       "0          0.8268           Positive   \n",
       "1          0.6249           Positive   \n",
       "2          0.8908           Positive   \n",
       "3          0.8316           Positive   \n",
       "4          0.7003           Positive   \n",
       "\n",
       "                                  Product Categories  \n",
       "0                                                 []  \n",
       "1                            [Clothing, Electronics]  \n",
       "2                       [Electronics, Home & Garden]  \n",
       "3  [Electronics, Clothing, Home & Garden, Electro...  \n",
       "4             [Clothing, Home & Garden, Electronics]  "
      ]
     },
     "execution_count": 371,
     "metadata": {},
     "output_type": "execute_result"
    }
   ],
   "source": [
    "df.head()"
   ]
  },
  {
   "cell_type": "code",
   "execution_count": 372,
   "id": "14b4ef9b-3292-49a6-b7e2-8f7e7da90121",
   "metadata": {},
   "outputs": [
    {
     "data": {
      "text/plain": [
       "1         Clothing\n",
       "1      Electronics\n",
       "2      Electronics\n",
       "2    Home & Garden\n",
       "3      Electronics\n",
       "Name: Product Categories, dtype: object"
      ]
     },
     "execution_count": 372,
     "metadata": {},
     "output_type": "execute_result"
    }
   ],
   "source": [
    "df_exploded = df['Product Categories'].explode()\n",
    "non_empty_categories = df_exploded.dropna()    \n",
    "non_empty_categories.head()"
   ]
  },
  {
   "cell_type": "code",
   "execution_count": 373,
   "id": "cbac6809-3902-41bb-b771-61db42b7ad98",
   "metadata": {},
   "outputs": [
    {
     "data": {
      "image/png": "[encoded data removed]",
      "text/plain": [
       "<Figure size 600x600 with 1 Axes>"
      ]
     },
     "metadata": {},
     "output_type": "display_data"
    }
   ],
   "source": [
    "category_counts = non_empty_categories.value_counts()\n",
    "plt.figure(figsize=(6, 6))\n",
    "plt.pie(category_counts.values,labels=category_counts.index, autopct='%1.0f%%', startangle=90)\n",
    "plt.title('Product Categories Distribution')\n",
    "plt.show()"
   ]
  },
  {
   "cell_type": "markdown",
   "id": "3a076ac2-dd14-4616-ada3-02df599a7ddd",
   "metadata": {},
   "source": [
    "The pie chart indicates that the Clothing, Home & Garden and Electronics categories are performing equaly"
   ]
  },
  {
   "cell_type": "code",
   "execution_count": 374,
   "id": "e264e7de-3722-4f59-bca3-f69f79dfb31e",
   "metadata": {},
   "outputs": [
    {
     "name": "stdout",
     "output_type": "stream",
     "text": [
      "Browsing Categories\n",
      "[]                              39\n",
      "[Home & Garden, Electronics]     4\n",
      "[Clothing, Electronics]          3\n",
      "[Electronics, Clothing]          2\n",
      "[Home & Garden, Clothing]        1\n",
      "[Home & Garden]                  1\n",
      "Name: count, dtype: int64\n"
     ]
    }
   ],
   "source": [
    "df['Browsing Categories'] = df['Browsing History'].apply(extract_product_category)\n",
    "print(df['Browsing Categories'].value_counts())"
   ]
  },
  {
   "cell_type": "code",
   "execution_count": 375,
   "id": "8d700fc4-34e3-443c-a3e9-ed649e93d4bf",
   "metadata": {},
   "outputs": [
    {
     "data": {
      "text/plain": [
       "1     Home & Garden\n",
       "1       Electronics\n",
       "2          Clothing\n",
       "2       Electronics\n",
       "38    Home & Garden\n",
       "Name: Browsing Categories, dtype: object"
      ]
     },
     "execution_count": 375,
     "metadata": {},
     "output_type": "execute_result"
    }
   ],
   "source": [
    "df_exploded2 = df['Browsing Categories'].explode()\n",
    "non_empty_categories = df_exploded2.dropna()    \n",
    "non_empty_categories.head()"
   ]
  },
  {
   "cell_type": "code",
   "execution_count": 376,
   "id": "02eca1fa-c306-45e4-9e4c-d8210049867b",
   "metadata": {},
   "outputs": [
    {
     "data": {
      "image/png": "[encoded data removed]",
      "text/plain": [
       "<Figure size 600x600 with 1 Axes>"
      ]
     },
     "metadata": {},
     "output_type": "display_data"
    }
   ],
   "source": [
    "category_counts = non_empty_categories.value_counts()\n",
    "plt.figure(figsize=(6, 6))\n",
    "plt.pie(category_counts.values,labels=category_counts.index, autopct='%1.0f%%', startangle=90)\n",
    "plt.title('Browsing Categories Distribution')\n",
    "plt.show()"
   ]
  },
  {
   "cell_type": "code",
   "execution_count": 377,
   "id": "bf53177d-964a-41fa-a489-f4e8de5a9dd7",
   "metadata": {},
   "outputs": [
    {
     "data": {
      "image/png": "[encoded data removed]",
      "text/plain": [
       "<Figure size 800x400 with 1 Axes>"
      ]
     },
     "metadata": {},
     "output_type": "display_data"
    }
   ],
   "source": [
    "plt.figure(figsize=(8, 4))\n",
    "#sns.scatterplot(x='Age', y='Annual Income', data=df, color='green', alpha=0.5)\n",
    "sns.boxplot(x='Age', y='Annual Income', data=df, color='lightgreen')\n",
    "plt.title('Annual Income by Age', fontsize=14)\n",
    "plt.xlabel('Age', fontsize=12)\n",
    "plt.ylabel('Annual Income', fontsize=12)\n",
    "plt.grid(True)\n",
    "plt.show()"
   ]
  },
  {
   "cell_type": "code",
   "execution_count": 378,
   "id": "7251589e-206e-45e3-9d4e-6cbe3ebf991f",
   "metadata": {},
   "outputs": [
    {
     "data": {
      "image/png": "[encoded data removed]",
      "text/plain": [
       "<Figure size 600x600 with 1 Axes>"
      ]
     },
     "metadata": {},
     "output_type": "display_data"
    }
   ],
   "source": [
    "plt.figure(figsize=(6, 6))\n",
    "sns.scatterplot(data=df, x='Age', y='Time on Site', hue='Gender')\n",
    "plt.title('Time on Site by Age and Gender', fontsize=14)\n",
    "plt.xlabel('Age', fontsize=12)\n",
    "plt.ylabel('Time on Site (mins)', fontsize=12)\n",
    "plt.legend()\n",
    "plt.grid(color='gray', linestyle='--', linewidth=0.6)\n",
    "plt.show()"
   ]
  },
  {
   "cell_type": "code",
   "execution_count": 379,
   "id": "b318e190-26f4-4e00-b776-cec36e3b04fa",
   "metadata": {},
   "outputs": [
    {
     "data": {
      "text/html": [
       "<div>\n",
       "<style scoped>\n",
       "    .dataframe tbody tr th:only-of-type {\n",
       "        vertical-align: middle;\n",
       "    }\n",
       "\n",
       "    .dataframe tbody tr th {\n",
       "        vertical-align: top;\n",
       "    }\n",
       "\n",
       "    .dataframe thead th {\n",
       "        text-align: right;\n",
       "    }\n",
       "</style>\n",
       "<table border=\"1\" class=\"dataframe\">\n",
       "  <thead>\n",
       "    <tr style=\"text-align: right;\">\n",
       "      <th></th>\n",
       "      <th>Customer ID</th>\n",
       "      <th>Age</th>\n",
       "      <th>Gender</th>\n",
       "      <th>Location</th>\n",
       "      <th>Annual Income</th>\n",
       "      <th>Purchase History</th>\n",
       "      <th>Browsing History</th>\n",
       "      <th>Product Reviews</th>\n",
       "      <th>Time on Site</th>\n",
       "      <th>sentiment_rate</th>\n",
       "      <th>sentiment_category</th>\n",
       "      <th>Product Categories</th>\n",
       "      <th>Browsing Categories</th>\n",
       "    </tr>\n",
       "  </thead>\n",
       "  <tbody>\n",
       "    <tr>\n",
       "      <th>0</th>\n",
       "      <td>1001</td>\n",
       "      <td>25</td>\n",
       "      <td>Female</td>\n",
       "      <td>City D</td>\n",
       "      <td>45000</td>\n",
       "      <td>[{\"Date\": \"2022-03-05\", \"Category\": \"Clothing\"...</td>\n",
       "      <td>[{\"Timestamp\": \"2022-03-10T14:30:00Z\"}, {\"Time...</td>\n",
       "      <td>great pair of jeans very comfortable rating  s...</td>\n",
       "      <td>32.50</td>\n",
       "      <td>0.8268</td>\n",
       "      <td>Positive</td>\n",
       "      <td>[]</td>\n",
       "      <td>[]</td>\n",
       "    </tr>\n",
       "    <tr>\n",
       "      <th>1</th>\n",
       "      <td>1001</td>\n",
       "      <td>28</td>\n",
       "      <td>Female</td>\n",
       "      <td>City D</td>\n",
       "      <td>52000</td>\n",
       "      <td>[{\"Product Category\": \"Clothing\", \"Purchase Da...</td>\n",
       "      <td>[{\"Product Category\": \"Home &amp; Garden\", \"Timest...</td>\n",
       "      <td>great customer service</td>\n",
       "      <td>123.45</td>\n",
       "      <td>0.6249</td>\n",
       "      <td>Positive</td>\n",
       "      <td>[Clothing, Electronics]</td>\n",
       "      <td>[Home &amp; Garden, Electronics]</td>\n",
       "    </tr>\n",
       "    <tr>\n",
       "      <th>2</th>\n",
       "      <td>1001</td>\n",
       "      <td>28</td>\n",
       "      <td>Female</td>\n",
       "      <td>City D</td>\n",
       "      <td>65000</td>\n",
       "      <td>[{\"Product Category\": \"Electronics\", \"Purchase...</td>\n",
       "      <td>[{\"Product Category\": \"Clothing\", \"Timestamp\":...</td>\n",
       "      <td>great electronics the sound quality is excelle...</td>\n",
       "      <td>125.60</td>\n",
       "      <td>0.8908</td>\n",
       "      <td>Positive</td>\n",
       "      <td>[Electronics, Home &amp; Garden]</td>\n",
       "      <td>[Clothing, Electronics]</td>\n",
       "    </tr>\n",
       "    <tr>\n",
       "      <th>3</th>\n",
       "      <td>1001</td>\n",
       "      <td>45</td>\n",
       "      <td>Female</td>\n",
       "      <td>City D</td>\n",
       "      <td>70000</td>\n",
       "      <td>{'Purchase Date': '2022-08-15', 'Product Categ...</td>\n",
       "      <td>{'Timestamp': '2022-09-03 14:30:00'}</td>\n",
       "      <td>product  rating  review great experience buyin...</td>\n",
       "      <td>327.60</td>\n",
       "      <td>0.8316</td>\n",
       "      <td>Positive</td>\n",
       "      <td>[Electronics, Clothing, Home &amp; Garden, Electro...</td>\n",
       "      <td>[]</td>\n",
       "    </tr>\n",
       "    <tr>\n",
       "      <th>4</th>\n",
       "      <td>1002</td>\n",
       "      <td>34</td>\n",
       "      <td>Male</td>\n",
       "      <td>City E</td>\n",
       "      <td>45000</td>\n",
       "      <td>{'Purchase Date': '2022-07-25', 'Product Categ...</td>\n",
       "      <td>{'Timestamp': '2022-08-10 17:15:00'}</td>\n",
       "      <td>product  rating  review good product but could...</td>\n",
       "      <td>214.90</td>\n",
       "      <td>0.7003</td>\n",
       "      <td>Positive</td>\n",
       "      <td>[Clothing, Home &amp; Garden, Electronics]</td>\n",
       "      <td>[]</td>\n",
       "    </tr>\n",
       "  </tbody>\n",
       "</table>\n",
       "</div>"
      ],
      "text/plain": [
       "   Customer ID  Age  Gender Location  Annual Income  \\\n",
       "0         1001   25  Female   City D          45000   \n",
       "1         1001   28  Female   City D          52000   \n",
       "2         1001   28  Female   City D          65000   \n",
       "3         1001   45  Female   City D          70000   \n",
       "4         1002   34    Male   City E          45000   \n",
       "\n",
       "                                    Purchase History  \\\n",
       "0  [{\"Date\": \"2022-03-05\", \"Category\": \"Clothing\"...   \n",
       "1  [{\"Product Category\": \"Clothing\", \"Purchase Da...   \n",
       "2  [{\"Product Category\": \"Electronics\", \"Purchase...   \n",
       "3  {'Purchase Date': '2022-08-15', 'Product Categ...   \n",
       "4  {'Purchase Date': '2022-07-25', 'Product Categ...   \n",
       "\n",
       "                                    Browsing History  \\\n",
       "0  [{\"Timestamp\": \"2022-03-10T14:30:00Z\"}, {\"Time...   \n",
       "1  [{\"Product Category\": \"Home & Garden\", \"Timest...   \n",
       "2  [{\"Product Category\": \"Clothing\", \"Timestamp\":...   \n",
       "3               {'Timestamp': '2022-09-03 14:30:00'}   \n",
       "4               {'Timestamp': '2022-08-10 17:15:00'}   \n",
       "\n",
       "                                     Product Reviews  Time on Site  \\\n",
       "0  great pair of jeans very comfortable rating  s...         32.50   \n",
       "1                             great customer service        123.45   \n",
       "2  great electronics the sound quality is excelle...        125.60   \n",
       "3  product  rating  review great experience buyin...        327.60   \n",
       "4  product  rating  review good product but could...        214.90   \n",
       "\n",
       "   sentiment_rate sentiment_category  \\\n",
       "0          0.8268           Positive   \n",
       "1          0.6249           Positive   \n",
       "2          0.8908           Positive   \n",
       "3          0.8316           Positive   \n",
       "4          0.7003           Positive   \n",
       "\n",
       "                                  Product Categories  \\\n",
       "0                                                 []   \n",
       "1                            [Clothing, Electronics]   \n",
       "2                       [Electronics, Home & Garden]   \n",
       "3  [Electronics, Clothing, Home & Garden, Electro...   \n",
       "4             [Clothing, Home & Garden, Electronics]   \n",
       "\n",
       "            Browsing Categories  \n",
       "0                            []  \n",
       "1  [Home & Garden, Electronics]  \n",
       "2       [Clothing, Electronics]  \n",
       "3                            []  \n",
       "4                            []  "
      ]
     },
     "execution_count": 379,
     "metadata": {},
     "output_type": "execute_result"
    }
   ],
   "source": [
    "df.head()"
   ]
  },
  {
   "cell_type": "markdown",
   "id": "3f9aa23e-cc83-4d25-ac33-524f5ef2f131",
   "metadata": {},
   "source": [
    "## Drop Unwanted columns"
   ]
  },
  {
   "cell_type": "code",
   "execution_count": 380,
   "id": "12e74b32-cd61-4e2c-bcf2-8617c8b2d5ca",
   "metadata": {},
   "outputs": [],
   "source": [
    "drop_columns = ['Customer ID', 'Purchase History', 'Browsing History', 'Product Reviews', 'sentiment_rate']\n",
    "df.drop(columns=drop_columns, inplace=True)"
   ]
  },
  {
   "cell_type": "code",
   "execution_count": 381,
   "id": "687682ef-2518-4329-b58b-14835731c43d",
   "metadata": {},
   "outputs": [
    {
     "data": {
      "text/html": [
       "<div>\n",
       "<style scoped>\n",
       "    .dataframe tbody tr th:only-of-type {\n",
       "        vertical-align: middle;\n",
       "    }\n",
       "\n",
       "    .dataframe tbody tr th {\n",
       "        vertical-align: top;\n",
       "    }\n",
       "\n",
       "    .dataframe thead th {\n",
       "        text-align: right;\n",
       "    }\n",
       "</style>\n",
       "<table border=\"1\" class=\"dataframe\">\n",
       "  <thead>\n",
       "    <tr style=\"text-align: right;\">\n",
       "      <th></th>\n",
       "      <th>Age</th>\n",
       "      <th>Gender</th>\n",
       "      <th>Location</th>\n",
       "      <th>Annual Income</th>\n",
       "      <th>Time on Site</th>\n",
       "      <th>sentiment_category</th>\n",
       "      <th>Product Categories</th>\n",
       "      <th>Browsing Categories</th>\n",
       "    </tr>\n",
       "  </thead>\n",
       "  <tbody>\n",
       "    <tr>\n",
       "      <th>0</th>\n",
       "      <td>25</td>\n",
       "      <td>Female</td>\n",
       "      <td>City D</td>\n",
       "      <td>45000</td>\n",
       "      <td>32.50</td>\n",
       "      <td>Positive</td>\n",
       "      <td>[]</td>\n",
       "      <td>[]</td>\n",
       "    </tr>\n",
       "    <tr>\n",
       "      <th>1</th>\n",
       "      <td>28</td>\n",
       "      <td>Female</td>\n",
       "      <td>City D</td>\n",
       "      <td>52000</td>\n",
       "      <td>123.45</td>\n",
       "      <td>Positive</td>\n",
       "      <td>[Clothing, Electronics]</td>\n",
       "      <td>[Home &amp; Garden, Electronics]</td>\n",
       "    </tr>\n",
       "    <tr>\n",
       "      <th>2</th>\n",
       "      <td>28</td>\n",
       "      <td>Female</td>\n",
       "      <td>City D</td>\n",
       "      <td>65000</td>\n",
       "      <td>125.60</td>\n",
       "      <td>Positive</td>\n",
       "      <td>[Electronics, Home &amp; Garden]</td>\n",
       "      <td>[Clothing, Electronics]</td>\n",
       "    </tr>\n",
       "    <tr>\n",
       "      <th>3</th>\n",
       "      <td>45</td>\n",
       "      <td>Female</td>\n",
       "      <td>City D</td>\n",
       "      <td>70000</td>\n",
       "      <td>327.60</td>\n",
       "      <td>Positive</td>\n",
       "      <td>[Electronics, Clothing, Home &amp; Garden, Electro...</td>\n",
       "      <td>[]</td>\n",
       "    </tr>\n",
       "    <tr>\n",
       "      <th>4</th>\n",
       "      <td>34</td>\n",
       "      <td>Male</td>\n",
       "      <td>City E</td>\n",
       "      <td>45000</td>\n",
       "      <td>214.90</td>\n",
       "      <td>Positive</td>\n",
       "      <td>[Clothing, Home &amp; Garden, Electronics]</td>\n",
       "      <td>[]</td>\n",
       "    </tr>\n",
       "  </tbody>\n",
       "</table>\n",
       "</div>"
      ],
      "text/plain": [
       "   Age  Gender Location  Annual Income  Time on Site sentiment_category  \\\n",
       "0   25  Female   City D          45000         32.50           Positive   \n",
       "1   28  Female   City D          52000        123.45           Positive   \n",
       "2   28  Female   City D          65000        125.60           Positive   \n",
       "3   45  Female   City D          70000        327.60           Positive   \n",
       "4   34    Male   City E          45000        214.90           Positive   \n",
       "\n",
       "                                  Product Categories  \\\n",
       "0                                                 []   \n",
       "1                            [Clothing, Electronics]   \n",
       "2                       [Electronics, Home & Garden]   \n",
       "3  [Electronics, Clothing, Home & Garden, Electro...   \n",
       "4             [Clothing, Home & Garden, Electronics]   \n",
       "\n",
       "            Browsing Categories  \n",
       "0                            []  \n",
       "1  [Home & Garden, Electronics]  \n",
       "2       [Clothing, Electronics]  \n",
       "3                            []  \n",
       "4                            []  "
      ]
     },
     "execution_count": 381,
     "metadata": {},
     "output_type": "execute_result"
    }
   ],
   "source": [
    "# dataframe after deleting unwanted columns\n",
    "df.head()"
   ]
  },
  {
   "cell_type": "code",
   "execution_count": 382,
   "id": "b2fa3cc0-adc1-482f-9389-ce1b7e869aa5",
   "metadata": {},
   "outputs": [
    {
     "name": "stdout",
     "output_type": "stream",
     "text": [
      "<class 'pandas.core.frame.DataFrame'>\n",
      "RangeIndex: 50 entries, 0 to 49\n",
      "Data columns (total 8 columns):\n",
      " #   Column               Non-Null Count  Dtype  \n",
      "---  ------               --------------  -----  \n",
      " 0   Age                  50 non-null     int64  \n",
      " 1   Gender               50 non-null     object \n",
      " 2   Location             50 non-null     object \n",
      " 3   Annual Income        50 non-null     int64  \n",
      " 4   Time on Site         50 non-null     float64\n",
      " 5   sentiment_category   50 non-null     object \n",
      " 6   Product Categories   50 non-null     object \n",
      " 7   Browsing Categories  50 non-null     object \n",
      "dtypes: float64(1), int64(2), object(5)\n",
      "memory usage: 3.3+ KB\n"
     ]
    }
   ],
   "source": [
    "df.info()"
   ]
  },
  {
   "cell_type": "markdown",
   "id": "64ca1a1c-165d-40b0-b0c5-d9ccc907ee45",
   "metadata": {},
   "source": [
    "## 5. Label the categorical columns"
   ]
  },
  {
   "cell_type": "code",
   "execution_count": 383,
   "id": "f96c6c8f-e8b8-4a50-a819-ec83e9bd340f",
   "metadata": {},
   "outputs": [],
   "source": [
    "category_mappings = {}  # To store column-wise mappings\n",
    "encoder = LabelEncoder()\n",
    "\n",
    "cat_col = ['Gender', 'Location', 'sentiment_category']\n",
    "\n",
    "for column in cat_col:\n",
    "  encoder.fit(df[column].unique())\n",
    "  df[column] = encoder.transform(df[column])\n",
    "\n",
    "  # Store mapping: category -> encoded value\n",
    "  mapping = dict(zip(encoder.classes_, encoder.transform(encoder.classes_)))\n",
    "  category_mappings[column] = mapping"
   ]
  },
  {
   "cell_type": "code",
   "execution_count": 384,
   "id": "6fd64655-9239-4137-8e65-e74918d167bb",
   "metadata": {},
   "outputs": [
    {
     "data": {
      "text/plain": [
       "{'Gender': {'Female': np.int64(0), 'Male': np.int64(1), 'Other': np.int64(2)},\n",
       " 'Location': {'City A': np.int64(0),\n",
       "  'City B': np.int64(1),\n",
       "  'City C': np.int64(2),\n",
       "  'City D': np.int64(3),\n",
       "  'City E': np.int64(4),\n",
       "  'City F': np.int64(5),\n",
       "  'City G': np.int64(6),\n",
       "  'City H': np.int64(7),\n",
       "  'City I': np.int64(8),\n",
       "  'City J': np.int64(9),\n",
       "  'City K': np.int64(10),\n",
       "  'City L': np.int64(11),\n",
       "  'City M': np.int64(12),\n",
       "  'City N': np.int64(13),\n",
       "  'City O': np.int64(14),\n",
       "  'City P': np.int64(15)},\n",
       " 'sentiment_category': {'Negative': np.int64(0),\n",
       "  'Neutral': np.int64(1),\n",
       "  'Positive': np.int64(2)}}"
      ]
     },
     "execution_count": 384,
     "metadata": {},
     "output_type": "execute_result"
    }
   ],
   "source": [
    "category_mappings"
   ]
  },
  {
   "cell_type": "code",
   "execution_count": 385,
   "id": "aca4fdff-b3f7-4a59-b9f1-2dd82f0bef80",
   "metadata": {},
   "outputs": [],
   "source": [
    "# Number of product categories interacted with\n",
    "df['Num_Product_Categories'] = df['Product Categories'].apply(lambda x: len(x))\n",
    "\n",
    "# Number of Browsing categories interacted with\n",
    "df['Num_Browsing_Categories'] = df['Browsing Categories'].apply(lambda x: len(x))\n",
    "\n",
    "df.drop(columns=['Product Categories', 'Browsing Categories'], inplace=True)"
   ]
  },
  {
   "cell_type": "code",
   "execution_count": 386,
   "id": "e1a95291-f472-4e10-967b-04e89f4dd331",
   "metadata": {},
   "outputs": [
    {
     "data": {
      "text/html": [
       "<div>\n",
       "<style scoped>\n",
       "    .dataframe tbody tr th:only-of-type {\n",
       "        vertical-align: middle;\n",
       "    }\n",
       "\n",
       "    .dataframe tbody tr th {\n",
       "        vertical-align: top;\n",
       "    }\n",
       "\n",
       "    .dataframe thead th {\n",
       "        text-align: right;\n",
       "    }\n",
       "</style>\n",
       "<table border=\"1\" class=\"dataframe\">\n",
       "  <thead>\n",
       "    <tr style=\"text-align: right;\">\n",
       "      <th></th>\n",
       "      <th>Age</th>\n",
       "      <th>Gender</th>\n",
       "      <th>Location</th>\n",
       "      <th>Annual Income</th>\n",
       "      <th>Time on Site</th>\n",
       "      <th>sentiment_category</th>\n",
       "      <th>Num_Product_Categories</th>\n",
       "      <th>Num_Browsing_Categories</th>\n",
       "    </tr>\n",
       "  </thead>\n",
       "  <tbody>\n",
       "    <tr>\n",
       "      <th>0</th>\n",
       "      <td>25</td>\n",
       "      <td>0</td>\n",
       "      <td>3</td>\n",
       "      <td>45000</td>\n",
       "      <td>32.50</td>\n",
       "      <td>2</td>\n",
       "      <td>0</td>\n",
       "      <td>0</td>\n",
       "    </tr>\n",
       "    <tr>\n",
       "      <th>1</th>\n",
       "      <td>28</td>\n",
       "      <td>0</td>\n",
       "      <td>3</td>\n",
       "      <td>52000</td>\n",
       "      <td>123.45</td>\n",
       "      <td>2</td>\n",
       "      <td>2</td>\n",
       "      <td>2</td>\n",
       "    </tr>\n",
       "    <tr>\n",
       "      <th>2</th>\n",
       "      <td>28</td>\n",
       "      <td>0</td>\n",
       "      <td>3</td>\n",
       "      <td>65000</td>\n",
       "      <td>125.60</td>\n",
       "      <td>2</td>\n",
       "      <td>2</td>\n",
       "      <td>2</td>\n",
       "    </tr>\n",
       "    <tr>\n",
       "      <th>3</th>\n",
       "      <td>45</td>\n",
       "      <td>0</td>\n",
       "      <td>3</td>\n",
       "      <td>70000</td>\n",
       "      <td>327.60</td>\n",
       "      <td>2</td>\n",
       "      <td>4</td>\n",
       "      <td>0</td>\n",
       "    </tr>\n",
       "    <tr>\n",
       "      <th>4</th>\n",
       "      <td>34</td>\n",
       "      <td>1</td>\n",
       "      <td>4</td>\n",
       "      <td>45000</td>\n",
       "      <td>214.90</td>\n",
       "      <td>2</td>\n",
       "      <td>3</td>\n",
       "      <td>0</td>\n",
       "    </tr>\n",
       "  </tbody>\n",
       "</table>\n",
       "</div>"
      ],
      "text/plain": [
       "   Age  Gender  Location  Annual Income  Time on Site  sentiment_category  \\\n",
       "0   25       0         3          45000         32.50                   2   \n",
       "1   28       0         3          52000        123.45                   2   \n",
       "2   28       0         3          65000        125.60                   2   \n",
       "3   45       0         3          70000        327.60                   2   \n",
       "4   34       1         4          45000        214.90                   2   \n",
       "\n",
       "   Num_Product_Categories  Num_Browsing_Categories  \n",
       "0                       0                        0  \n",
       "1                       2                        2  \n",
       "2                       2                        2  \n",
       "3                       4                        0  \n",
       "4                       3                        0  "
      ]
     },
     "execution_count": 386,
     "metadata": {},
     "output_type": "execute_result"
    }
   ],
   "source": [
    "# DataFrame after Encoding\n",
    "df.head()"
   ]
  },
  {
   "cell_type": "markdown",
   "id": "6c985e40-7b07-431f-8bf6-4ea7e6373463",
   "metadata": {},
   "source": [
    "## 6. Scale the features"
   ]
  },
  {
   "cell_type": "code",
   "execution_count": 387,
   "id": "f81b6bd4-f68d-4236-941c-6c5351742c2b",
   "metadata": {},
   "outputs": [],
   "source": [
    "scaler = StandardScaler()"
   ]
  },
  {
   "cell_type": "code",
   "execution_count": 388,
   "id": "cda869de-6da8-4281-873d-97d98d7fcd6d",
   "metadata": {},
   "outputs": [],
   "source": [
    "df[df.columns] = scaler.fit_transform(df)"
   ]
  },
  {
   "cell_type": "code",
   "execution_count": 389,
   "id": "2d4467d2-c904-4518-a065-dd400285da78",
   "metadata": {},
   "outputs": [
    {
     "data": {
      "text/html": [
       "<div>\n",
       "<style scoped>\n",
       "    .dataframe tbody tr th:only-of-type {\n",
       "        vertical-align: middle;\n",
       "    }\n",
       "\n",
       "    .dataframe tbody tr th {\n",
       "        vertical-align: top;\n",
       "    }\n",
       "\n",
       "    .dataframe thead th {\n",
       "        text-align: right;\n",
       "    }\n",
       "</style>\n",
       "<table border=\"1\" class=\"dataframe\">\n",
       "  <thead>\n",
       "    <tr style=\"text-align: right;\">\n",
       "      <th></th>\n",
       "      <th>Age</th>\n",
       "      <th>Gender</th>\n",
       "      <th>Location</th>\n",
       "      <th>Annual Income</th>\n",
       "      <th>Time on Site</th>\n",
       "      <th>sentiment_category</th>\n",
       "      <th>Num_Product_Categories</th>\n",
       "      <th>Num_Browsing_Categories</th>\n",
       "    </tr>\n",
       "  </thead>\n",
       "  <tbody>\n",
       "    <tr>\n",
       "      <th>0</th>\n",
       "      <td>-1.365436</td>\n",
       "      <td>-0.866025</td>\n",
       "      <td>-0.905656</td>\n",
       "      <td>-1.230444</td>\n",
       "      <td>-1.843065</td>\n",
       "      <td>0.437981</td>\n",
       "      <td>-3.355397</td>\n",
       "      <td>-0.523530</td>\n",
       "    </tr>\n",
       "    <tr>\n",
       "      <th>1</th>\n",
       "      <td>-1.091619</td>\n",
       "      <td>-0.866025</td>\n",
       "      <td>-0.905656</td>\n",
       "      <td>-0.815954</td>\n",
       "      <td>-1.005338</td>\n",
       "      <td>0.437981</td>\n",
       "      <td>-0.248548</td>\n",
       "      <td>1.969469</td>\n",
       "    </tr>\n",
       "    <tr>\n",
       "      <th>2</th>\n",
       "      <td>-1.091619</td>\n",
       "      <td>-0.866025</td>\n",
       "      <td>-0.905656</td>\n",
       "      <td>-0.046186</td>\n",
       "      <td>-0.985534</td>\n",
       "      <td>0.437981</td>\n",
       "      <td>-0.248548</td>\n",
       "      <td>1.969469</td>\n",
       "    </tr>\n",
       "    <tr>\n",
       "      <th>3</th>\n",
       "      <td>0.460013</td>\n",
       "      <td>-0.866025</td>\n",
       "      <td>-0.905656</td>\n",
       "      <td>0.249878</td>\n",
       "      <td>0.875059</td>\n",
       "      <td>0.437981</td>\n",
       "      <td>2.858301</td>\n",
       "      <td>-0.523530</td>\n",
       "    </tr>\n",
       "    <tr>\n",
       "      <th>4</th>\n",
       "      <td>-0.543984</td>\n",
       "      <td>0.577350</td>\n",
       "      <td>-0.619056</td>\n",
       "      <td>-1.230444</td>\n",
       "      <td>-0.163005</td>\n",
       "      <td>0.437981</td>\n",
       "      <td>1.304877</td>\n",
       "      <td>-0.523530</td>\n",
       "    </tr>\n",
       "  </tbody>\n",
       "</table>\n",
       "</div>"
      ],
      "text/plain": [
       "        Age    Gender  Location  Annual Income  Time on Site  \\\n",
       "0 -1.365436 -0.866025 -0.905656      -1.230444     -1.843065   \n",
       "1 -1.091619 -0.866025 -0.905656      -0.815954     -1.005338   \n",
       "2 -1.091619 -0.866025 -0.905656      -0.046186     -0.985534   \n",
       "3  0.460013 -0.866025 -0.905656       0.249878      0.875059   \n",
       "4 -0.543984  0.577350 -0.619056      -1.230444     -0.163005   \n",
       "\n",
       "   sentiment_category  Num_Product_Categories  Num_Browsing_Categories  \n",
       "0            0.437981               -3.355397                -0.523530  \n",
       "1            0.437981               -0.248548                 1.969469  \n",
       "2            0.437981               -0.248548                 1.969469  \n",
       "3            0.437981                2.858301                -0.523530  \n",
       "4            0.437981                1.304877                -0.523530  "
      ]
     },
     "execution_count": 389,
     "metadata": {},
     "output_type": "execute_result"
    }
   ],
   "source": [
    "df.head()"
   ]
  },
  {
   "cell_type": "markdown",
   "id": "af83b12f-d8bc-42ca-b33f-0949829ee22c",
   "metadata": {},
   "source": [
    "## 7. Reduce the Dimansion"
   ]
  },
  {
   "cell_type": "code",
   "execution_count": 390,
   "id": "4bede123-d955-4cce-8e36-bbcc7cf0b23b",
   "metadata": {},
   "outputs": [],
   "source": [
    "pca = PCA(n_components=2)  # Keep only 1 principal component\n",
    "pca_performed_df = pca.fit_transform(df.iloc[:, :-1])"
   ]
  },
  {
   "cell_type": "code",
   "execution_count": 391,
   "id": "baca3399-b155-4ceb-b091-2317ce15e432",
   "metadata": {},
   "outputs": [
    {
     "name": "stdout",
     "output_type": "stream",
     "text": [
      "Explained variance ratio: [0.39428423 0.20492504]\n",
      "Number of components selected: 2\n"
     ]
    }
   ],
   "source": [
    "# Check how much variance is explained\n",
    "print(\"Explained variance ratio:\", pca.explained_variance_ratio_)\n",
    "print(\"Number of components selected:\", pca.n_components_)"
   ]
  },
  {
   "cell_type": "markdown",
   "id": "94133d1d-4f2c-4b93-ad74-88fe86223e3d",
   "metadata": {},
   "source": [
    "## Identify the K"
   ]
  },
  {
   "cell_type": "code",
   "execution_count": 392,
   "id": "31941683-2714-402d-bf35-3668ad453bba",
   "metadata": {},
   "outputs": [],
   "source": [
    "# Range of clusters to try\n",
    "inertia = []\n",
    "ranges = range(1, 10)\n",
    "\n",
    "for k in ranges:\n",
    "    kmeans = KMeans(n_clusters=k, random_state=42, n_init=\"auto\")\n",
    "    kmeans.fit(pca_performed_df)\n",
    "    inertia.append(kmeans.inertia_)"
   ]
  },
  {
   "cell_type": "code",
   "execution_count": 393,
   "id": "8200d315-5022-44ec-aafa-f88a239ebca8",
   "metadata": {},
   "outputs": [
    {
     "data": {
      "text/html": [
       "<div>\n",
       "<style scoped>\n",
       "    .dataframe tbody tr th:only-of-type {\n",
       "        vertical-align: middle;\n",
       "    }\n",
       "\n",
       "    .dataframe tbody tr th {\n",
       "        vertical-align: top;\n",
       "    }\n",
       "\n",
       "    .dataframe thead th {\n",
       "        text-align: right;\n",
       "    }\n",
       "</style>\n",
       "<table border=\"1\" class=\"dataframe\">\n",
       "  <thead>\n",
       "    <tr style=\"text-align: right;\">\n",
       "      <th></th>\n",
       "      <th>n_clusters</th>\n",
       "      <th>Inertia</th>\n",
       "    </tr>\n",
       "  </thead>\n",
       "  <tbody>\n",
       "    <tr>\n",
       "      <th>0</th>\n",
       "      <td>1</td>\n",
       "      <td>209.723243</td>\n",
       "    </tr>\n",
       "    <tr>\n",
       "      <th>1</th>\n",
       "      <td>2</td>\n",
       "      <td>108.209420</td>\n",
       "    </tr>\n",
       "    <tr>\n",
       "      <th>2</th>\n",
       "      <td>3</td>\n",
       "      <td>71.662198</td>\n",
       "    </tr>\n",
       "    <tr>\n",
       "      <th>3</th>\n",
       "      <td>4</td>\n",
       "      <td>59.698860</td>\n",
       "    </tr>\n",
       "    <tr>\n",
       "      <th>4</th>\n",
       "      <td>5</td>\n",
       "      <td>50.486203</td>\n",
       "    </tr>\n",
       "    <tr>\n",
       "      <th>5</th>\n",
       "      <td>6</td>\n",
       "      <td>41.845011</td>\n",
       "    </tr>\n",
       "    <tr>\n",
       "      <th>6</th>\n",
       "      <td>7</td>\n",
       "      <td>33.437622</td>\n",
       "    </tr>\n",
       "    <tr>\n",
       "      <th>7</th>\n",
       "      <td>8</td>\n",
       "      <td>27.556527</td>\n",
       "    </tr>\n",
       "    <tr>\n",
       "      <th>8</th>\n",
       "      <td>9</td>\n",
       "      <td>23.473837</td>\n",
       "    </tr>\n",
       "  </tbody>\n",
       "</table>\n",
       "</div>"
      ],
      "text/plain": [
       "   n_clusters     Inertia\n",
       "0           1  209.723243\n",
       "1           2  108.209420\n",
       "2           3   71.662198\n",
       "3           4   59.698860\n",
       "4           5   50.486203\n",
       "5           6   41.845011\n",
       "6           7   33.437622\n",
       "7           8   27.556527\n",
       "8           9   23.473837"
      ]
     },
     "execution_count": 393,
     "metadata": {},
     "output_type": "execute_result"
    }
   ],
   "source": [
    "# Create a DataFrame for Seaborn plotting\n",
    "elbow_df = pd.DataFrame({\n",
    "    'n_clusters': list(range(1, 10)),\n",
    "    'Inertia': inertia\n",
    "})\n",
    "elbow_df"
   ]
  },
  {
   "cell_type": "code",
   "execution_count": 394,
   "id": "5d701f95-5d0c-4fb4-96b3-b31ebd0fb899",
   "metadata": {},
   "outputs": [
    {
     "data": {
      "image/png": "[encoded data removed]",
      "text/plain": [
       "<Figure size 800x500 with 1 Axes>"
      ]
     },
     "metadata": {},
     "output_type": "display_data"
    }
   ],
   "source": [
    "# Plot the Elbow Method chart\n",
    "plt.figure(figsize=(8, 5))\n",
    "sns.pointplot(x='n_clusters', y='Inertia', data=elbow_df, marker='o', color='blue')\n",
    "plt.xlabel('Number of Clusters (k)')\n",
    "plt.ylabel('Inertia')\n",
    "plt.title('Elbow Method for Optimal k')\n",
    "plt.grid(True)\n",
    "plt.show()"
   ]
  },
  {
   "cell_type": "markdown",
   "id": "768e73b7-6d9a-4b22-9166-9a5538867436",
   "metadata": {},
   "source": [
    "## 8. Build the Model with K=5"
   ]
  },
  {
   "cell_type": "code",
   "execution_count": 395,
   "id": "a805bed0-fc06-4ec5-8503-f8442a2ab82b",
   "metadata": {},
   "outputs": [],
   "source": [
    "kmeans = KMeans(n_clusters=5, random_state=42, n_init=\"auto\")\n",
    "df['Cluster'] = kmeans.fit_predict(pca_performed_df)"
   ]
  },
  {
   "cell_type": "code",
   "execution_count": 396,
   "id": "4e0d1d2a-5ab5-4d56-b91f-414ce0c34ac8",
   "metadata": {},
   "outputs": [
    {
     "name": "stdout",
     "output_type": "stream",
     "text": [
      "cluster centers: [[-0.71029989 -1.87706226]\n",
      " [ 1.26716112  1.28316907]\n",
      " [-1.27196853  0.37242163]\n",
      " [ 1.60985269 -0.19588417]\n",
      " [-2.93761745  1.32671529]]\n"
     ]
    }
   ],
   "source": [
    "print(f'cluster centers: {kmeans.cluster_centers_}')"
   ]
  },
  {
   "cell_type": "code",
   "execution_count": 397,
   "id": "fa2bf6f1-e4d1-44e7-b623-e58bf1a773a6",
   "metadata": {},
   "outputs": [
    {
     "data": {
      "text/html": [
       "<div>\n",
       "<style scoped>\n",
       "    .dataframe tbody tr th:only-of-type {\n",
       "        vertical-align: middle;\n",
       "    }\n",
       "\n",
       "    .dataframe tbody tr th {\n",
       "        vertical-align: top;\n",
       "    }\n",
       "\n",
       "    .dataframe thead th {\n",
       "        text-align: right;\n",
       "    }\n",
       "</style>\n",
       "<table border=\"1\" class=\"dataframe\">\n",
       "  <thead>\n",
       "    <tr style=\"text-align: right;\">\n",
       "      <th></th>\n",
       "      <th>Age</th>\n",
       "      <th>Gender</th>\n",
       "      <th>Location</th>\n",
       "      <th>Annual Income</th>\n",
       "      <th>Time on Site</th>\n",
       "      <th>sentiment_category</th>\n",
       "      <th>Num_Product_Categories</th>\n",
       "      <th>Num_Browsing_Categories</th>\n",
       "      <th>Cluster</th>\n",
       "    </tr>\n",
       "  </thead>\n",
       "  <tbody>\n",
       "    <tr>\n",
       "      <th>0</th>\n",
       "      <td>-1.365436</td>\n",
       "      <td>-0.866025</td>\n",
       "      <td>-0.905656</td>\n",
       "      <td>-1.230444</td>\n",
       "      <td>-1.843065</td>\n",
       "      <td>0.437981</td>\n",
       "      <td>-3.355397</td>\n",
       "      <td>-0.523530</td>\n",
       "      <td>4</td>\n",
       "    </tr>\n",
       "    <tr>\n",
       "      <th>1</th>\n",
       "      <td>-1.091619</td>\n",
       "      <td>-0.866025</td>\n",
       "      <td>-0.905656</td>\n",
       "      <td>-0.815954</td>\n",
       "      <td>-1.005338</td>\n",
       "      <td>0.437981</td>\n",
       "      <td>-0.248548</td>\n",
       "      <td>1.969469</td>\n",
       "      <td>2</td>\n",
       "    </tr>\n",
       "    <tr>\n",
       "      <th>2</th>\n",
       "      <td>-1.091619</td>\n",
       "      <td>-0.866025</td>\n",
       "      <td>-0.905656</td>\n",
       "      <td>-0.046186</td>\n",
       "      <td>-0.985534</td>\n",
       "      <td>0.437981</td>\n",
       "      <td>-0.248548</td>\n",
       "      <td>1.969469</td>\n",
       "      <td>2</td>\n",
       "    </tr>\n",
       "    <tr>\n",
       "      <th>3</th>\n",
       "      <td>0.460013</td>\n",
       "      <td>-0.866025</td>\n",
       "      <td>-0.905656</td>\n",
       "      <td>0.249878</td>\n",
       "      <td>0.875059</td>\n",
       "      <td>0.437981</td>\n",
       "      <td>2.858301</td>\n",
       "      <td>-0.523530</td>\n",
       "      <td>3</td>\n",
       "    </tr>\n",
       "    <tr>\n",
       "      <th>4</th>\n",
       "      <td>-0.543984</td>\n",
       "      <td>0.577350</td>\n",
       "      <td>-0.619056</td>\n",
       "      <td>-1.230444</td>\n",
       "      <td>-0.163005</td>\n",
       "      <td>0.437981</td>\n",
       "      <td>1.304877</td>\n",
       "      <td>-0.523530</td>\n",
       "      <td>0</td>\n",
       "    </tr>\n",
       "  </tbody>\n",
       "</table>\n",
       "</div>"
      ],
      "text/plain": [
       "        Age    Gender  Location  Annual Income  Time on Site  \\\n",
       "0 -1.365436 -0.866025 -0.905656      -1.230444     -1.843065   \n",
       "1 -1.091619 -0.866025 -0.905656      -0.815954     -1.005338   \n",
       "2 -1.091619 -0.866025 -0.905656      -0.046186     -0.985534   \n",
       "3  0.460013 -0.866025 -0.905656       0.249878      0.875059   \n",
       "4 -0.543984  0.577350 -0.619056      -1.230444     -0.163005   \n",
       "\n",
       "   sentiment_category  Num_Product_Categories  Num_Browsing_Categories  \\\n",
       "0            0.437981               -3.355397                -0.523530   \n",
       "1            0.437981               -0.248548                 1.969469   \n",
       "2            0.437981               -0.248548                 1.969469   \n",
       "3            0.437981                2.858301                -0.523530   \n",
       "4            0.437981                1.304877                -0.523530   \n",
       "\n",
       "   Cluster  \n",
       "0        4  \n",
       "1        2  \n",
       "2        2  \n",
       "3        3  \n",
       "4        0  "
      ]
     },
     "execution_count": 397,
     "metadata": {},
     "output_type": "execute_result"
    }
   ],
   "source": [
    "df.head()"
   ]
  },
  {
   "cell_type": "code",
   "execution_count": null,
   "id": "6cb5fd0c-76b1-438b-9551-2d3efeb9e8aa",
   "metadata": {},
   "outputs": [],
   "source": []
  }
 ],
 "metadata": {
  "kernelspec": {
   "display_name": "Python 3 (ipykernel)",
   "language": "python",
   "name": "python3"
  },
  "language_info": {
   "codemirror_mode": {
    "name": "ipython",
    "version": 3
   },
   "file_extension": ".py",
   "mimetype": "text/x-python",
   "name": "python",
   "nbconvert_exporter": "python",
   "pygments_lexer": "ipython3",
   "version": "3.12.3"
  }
 },
 "nbformat": 4,
 "nbformat_minor": 5
}
