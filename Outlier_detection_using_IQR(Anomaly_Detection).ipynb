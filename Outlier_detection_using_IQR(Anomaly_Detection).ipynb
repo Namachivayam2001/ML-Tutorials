{
 "cells": [
  {
   "cell_type": "markdown",
   "id": "5d7bc63d-72d5-4b85-a27d-d96f401cfa18",
   "metadata": {},
   "source": [
    "## Anomaly Detection\n",
    "**Anomaly Detection** is the process of identifying data points, patterns, or events that do not fit the expected behavior or normal patterns of a dataset. These unusual points are called `anomalies`, `outliers`, or `novelties`."
   ]
  },
  {
   "cell_type": "markdown",
   "id": "4aed956b-9b01-4a4d-b1a7-ab07f72ad3b5",
   "metadata": {},
   "source": [
    "---\n",
    "# Detecting Outliers using Interquartile Range (IQR)\n",
    "\n",
    "To detect outliers using the Interquartile Range (IQR), follow these steps:\n",
    "\n",
    "1. **Sort the Data**:\n",
    "   - Arrange the data in ascending order.\n",
    "\n",
    "2. **Find Q1 (First Quartile) and Q3 (Third Quartile)**:\n",
    "   - **Q1** is the median of the lower half of the dataset.\n",
    "   - **Q3** is the median of the upper half of the dataset.\n",
    "\n",
    "3. **Calculate the IQR**:\n",
    "   - **IQR = Q3 - Q1**\n",
    "\n",
    "4. **Determine the Outlier Boundaries**:\n",
    "   - **Lower boundary = Q1 - 1.5 * IQR**\n",
    "   - **Upper boundary = Q3 + 1.5 * IQR**\n",
    "\n",
    "5. **Identify Outliers**:\n",
    "   - Any data point below the lower boundary or above the upper boundary is considered an outlier.\n"
   ]
  },
  {
   "cell_type": "code",
   "execution_count": 17,
   "id": "08f82773-0486-4609-8748-e9f3623ed50b",
   "metadata": {},
   "outputs": [],
   "source": [
    "# Import required Packages\n",
    "import pandas as pd\n",
    "import numpy as np\n",
    "import matplotlib.pyplot as plt\n",
    "import seaborn as sns"
   ]
  },
  {
   "cell_type": "code",
   "execution_count": 4,
   "id": "4da5c794-5358-4ac0-8039-a0cbf64bfb7c",
   "metadata": {},
   "outputs": [],
   "source": [
    "# Read the inputs\n",
    "input_data = pd.DataFrame([10, 12, 14, 15, 16, 18, 20, 24, 30, 100], columns=['input'])"
   ]
  },
  {
   "cell_type": "code",
   "execution_count": 6,
   "id": "722dc5f0-01ac-4a56-9d93-d7fa7ad5cef6",
   "metadata": {},
   "outputs": [
    {
     "data": {
      "text/html": [
       "<div>\n",
       "<style scoped>\n",
       "    .dataframe tbody tr th:only-of-type {\n",
       "        vertical-align: middle;\n",
       "    }\n",
       "\n",
       "    .dataframe tbody tr th {\n",
       "        vertical-align: top;\n",
       "    }\n",
       "\n",
       "    .dataframe thead th {\n",
       "        text-align: right;\n",
       "    }\n",
       "</style>\n",
       "<table border=\"1\" class=\"dataframe\">\n",
       "  <thead>\n",
       "    <tr style=\"text-align: right;\">\n",
       "      <th></th>\n",
       "      <th>input</th>\n",
       "    </tr>\n",
       "  </thead>\n",
       "  <tbody>\n",
       "    <tr>\n",
       "      <th>0</th>\n",
       "      <td>10</td>\n",
       "    </tr>\n",
       "    <tr>\n",
       "      <th>1</th>\n",
       "      <td>12</td>\n",
       "    </tr>\n",
       "    <tr>\n",
       "      <th>2</th>\n",
       "      <td>14</td>\n",
       "    </tr>\n",
       "    <tr>\n",
       "      <th>3</th>\n",
       "      <td>15</td>\n",
       "    </tr>\n",
       "    <tr>\n",
       "      <th>4</th>\n",
       "      <td>16</td>\n",
       "    </tr>\n",
       "    <tr>\n",
       "      <th>5</th>\n",
       "      <td>18</td>\n",
       "    </tr>\n",
       "    <tr>\n",
       "      <th>6</th>\n",
       "      <td>20</td>\n",
       "    </tr>\n",
       "    <tr>\n",
       "      <th>7</th>\n",
       "      <td>24</td>\n",
       "    </tr>\n",
       "    <tr>\n",
       "      <th>8</th>\n",
       "      <td>30</td>\n",
       "    </tr>\n",
       "    <tr>\n",
       "      <th>9</th>\n",
       "      <td>100</td>\n",
       "    </tr>\n",
       "  </tbody>\n",
       "</table>\n",
       "</div>"
      ],
      "text/plain": [
       "   input\n",
       "0     10\n",
       "1     12\n",
       "2     14\n",
       "3     15\n",
       "4     16\n",
       "5     18\n",
       "6     20\n",
       "7     24\n",
       "8     30\n",
       "9    100"
      ]
     },
     "execution_count": 6,
     "metadata": {},
     "output_type": "execute_result"
    }
   ],
   "source": [
    "# View the inputs\n",
    "input_data"
   ]
  },
  {
   "cell_type": "markdown",
   "id": "915d9dc0-36a3-4772-973f-f4c5e4c4310a",
   "metadata": {},
   "source": [
    "# Manual Calculation for Detecting Outliers using IQR\n",
    "\n",
    "1. **Sort the Dataset**:\n",
    "`[10, 12, 14, 15, 16, 18, 20, 24, 30, 100]`\n",
    "\n",
    "2. **Find Q1 and Q3**:\n",
    "\n",
    "- **Q1 (First Quartile)**: The median of the first half of the sorted data:\n",
    "  ```\n",
    "  [10, 12, 14, 15, 16] → Median of this group = 14\n",
    "  ```\n",
    "\n",
    "- **Q3 (Third Quartile)**: The median of the second half of the sorted data:\n",
    "  ```\n",
    "  [18, 20, 24, 30, 100] → Median of this group = 24\n",
    "  ```\n",
    "\n",
    "3. **Calculate the IQR**:\n",
    "- IQR = Q3 - Q1 = 24 - 14 = 10\n",
    "\n",
    "4. **Calculate the Lower and Upper Boundaries**:\n",
    "- **Lower Boundary**:\n",
    "  ```\n",
    "  Lower boundary = Q1 - 1.5 * IQR = 14 - 1.5 * 10 = 14 - 15 = -1\n",
    "  ```\n",
    "\n",
    "- **Upper Boundary**:\n",
    "  ```\n",
    "  Upper boundary = Q3 + 1.5 * IQR = 24 + 1.5 * 10 = 24 + 15 = 39\n",
    "  ```\n",
    "\n",
    "5. **Identify Outliers**:\n",
    "- Any value below -1 or above 39 is considered an outlier.\n",
    "- The dataset has the value `100`, which is above 39, so **100 is an outlier**.\n"
   ]
  },
  {
   "cell_type": "markdown",
   "id": "d0e48d9e-a492-4d3f-99fc-f990b0f1f381",
   "metadata": {},
   "source": [
    "# Detuct the Outliers using Box-plot\n",
    "a boxplot uses the Interquartile Range (IQR) to visually display the distribution of data and detect outliers."
   ]
  },
  {
   "cell_type": "code",
   "execution_count": 21,
   "id": "1507a489-dfb5-4a33-b843-e53575be3a27",
   "metadata": {},
   "outputs": [
    {
     "data": {
      "image/png": "[encoded data removed]",
      "text/plain": [
       "<Figure size 500x400 with 1 Axes>"
      ]
     },
     "metadata": {},
     "output_type": "display_data"
    }
   ],
   "source": [
    "plt.figure(figsize=(5, 4))\n",
    "sns.boxplot(data=input_data, x='input')\n",
    "plt.show()"
   ]
  },
  {
   "cell_type": "code",
   "execution_count": null,
   "id": "2613bdc2-1613-4465-9615-54f0ed906ccf",
   "metadata": {},
   "outputs": [],
   "source": []
  }
 ],
 "metadata": {
  "kernelspec": {
   "display_name": "Python 3 (ipykernel)",
   "language": "python",
   "name": "python3"
  },
  "language_info": {
   "codemirror_mode": {
    "name": "ipython",
    "version": 3
   },
   "file_extension": ".py",
   "mimetype": "text/x-python",
   "name": "python",
   "nbconvert_exporter": "python",
   "pygments_lexer": "ipython3",
   "version": "3.12.3"
  }
 },
 "nbformat": 4,
 "nbformat_minor": 5
}
