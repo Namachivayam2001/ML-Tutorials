{
 "cells": [
  {
   "cell_type": "markdown",
   "id": "68ba9d87-63c4-40a5-8ea6-f4d4aff99427",
   "metadata": {},
   "source": [
    "## Anomaly Detection\n",
    "**Anomaly Detection** is the process of identifying data points, patterns, or events that do not fit the expected behavior or normal patterns of a dataset. These unusual points are called `anomalies`, `outliers`, or `novelties`."
   ]
  },
  {
   "cell_type": "markdown",
   "id": "fe488a90-1dfb-4e0f-95ef-3f36a266a065",
   "metadata": {},
   "source": [
    "---\n",
    "# 🎯 What is Z-Score?\n",
    "\n",
    "👉 A **Z-Score** tells **how far** (and in which direction) a data point is from the **mean** (average) **in units of standard deviation**.\n",
    "\n",
    "## 📈 Formula:\n",
    "$$\n",
    "Z = \\frac{x - \\mu}{\\sigma}\n",
    "$$\n",
    "\n",
    "Where:\n",
    "- $(x)$ = data point\n",
    "- $(\\mu)$ = mean of the data\n",
    "- $(\\sigma)$ = standard deviation of the data\n",
    "\n",
    "---\n",
    "\n",
    "## 💡 Intuitive Meaning:\n",
    "\n",
    "| Z-Score | Meaning |\n",
    "|:-------:|:--------|\n",
    "| 0       | Exactly at the mean |\n",
    "| +1      | 1 standard deviation above the mean |\n",
    "| -1      | 1 standard deviation below the mean |\n",
    "| +2      | 2 standard deviations above the mean |\n",
    "| -2      | 2 standard deviations below the mean |\n",
    "\n",
    "---\n",
    "\n",
    "✅ So, **Z-Score measures how \"unusual\" or \"normal\" a value is** in the context of the whole dataset.\n"
   ]
  },
  {
   "cell_type": "code",
   "execution_count": 1,
   "id": "ebc79d62-9acc-410a-b113-998df8dd9436",
   "metadata": {},
   "outputs": [],
   "source": [
    "# Import required Packages\n",
    "import pandas as pd\n",
    "import numpy as np\n",
    "import matplotlib.pyplot as plt\n",
    "import seaborn as sns\n",
    "from scipy.stats import zscore"
   ]
  },
  {
   "cell_type": "code",
   "execution_count": 2,
   "id": "53c2d8d0-5c51-41d7-ae83-c0adf41aa228",
   "metadata": {},
   "outputs": [],
   "source": [
    "# Read the inputs\n",
    "input_data = pd.DataFrame([10, 12, 14, 15, 16, 18, 20, 24, 30, 100], columns=['input'])"
   ]
  },
  {
   "cell_type": "code",
   "execution_count": 3,
   "id": "8be72a50-c192-4430-b256-e4e17faf5222",
   "metadata": {},
   "outputs": [
    {
     "data": {
      "text/html": [
       "<div>\n",
       "<style scoped>\n",
       "    .dataframe tbody tr th:only-of-type {\n",
       "        vertical-align: middle;\n",
       "    }\n",
       "\n",
       "    .dataframe tbody tr th {\n",
       "        vertical-align: top;\n",
       "    }\n",
       "\n",
       "    .dataframe thead th {\n",
       "        text-align: right;\n",
       "    }\n",
       "</style>\n",
       "<table border=\"1\" class=\"dataframe\">\n",
       "  <thead>\n",
       "    <tr style=\"text-align: right;\">\n",
       "      <th></th>\n",
       "      <th>input</th>\n",
       "    </tr>\n",
       "  </thead>\n",
       "  <tbody>\n",
       "    <tr>\n",
       "      <th>0</th>\n",
       "      <td>10</td>\n",
       "    </tr>\n",
       "    <tr>\n",
       "      <th>1</th>\n",
       "      <td>12</td>\n",
       "    </tr>\n",
       "    <tr>\n",
       "      <th>2</th>\n",
       "      <td>14</td>\n",
       "    </tr>\n",
       "    <tr>\n",
       "      <th>3</th>\n",
       "      <td>15</td>\n",
       "    </tr>\n",
       "    <tr>\n",
       "      <th>4</th>\n",
       "      <td>16</td>\n",
       "    </tr>\n",
       "    <tr>\n",
       "      <th>5</th>\n",
       "      <td>18</td>\n",
       "    </tr>\n",
       "    <tr>\n",
       "      <th>6</th>\n",
       "      <td>20</td>\n",
       "    </tr>\n",
       "    <tr>\n",
       "      <th>7</th>\n",
       "      <td>24</td>\n",
       "    </tr>\n",
       "    <tr>\n",
       "      <th>8</th>\n",
       "      <td>30</td>\n",
       "    </tr>\n",
       "    <tr>\n",
       "      <th>9</th>\n",
       "      <td>100</td>\n",
       "    </tr>\n",
       "  </tbody>\n",
       "</table>\n",
       "</div>"
      ],
      "text/plain": [
       "   input\n",
       "0     10\n",
       "1     12\n",
       "2     14\n",
       "3     15\n",
       "4     16\n",
       "5     18\n",
       "6     20\n",
       "7     24\n",
       "8     30\n",
       "9    100"
      ]
     },
     "execution_count": 3,
     "metadata": {},
     "output_type": "execute_result"
    }
   ],
   "source": [
    "# View the inputs\n",
    "input_data"
   ]
  },
  {
   "cell_type": "markdown",
   "id": "ee3456c7-4291-4c82-9445-8b37373971c2",
   "metadata": {},
   "source": [
    "# Manual Calculation for Detecting Outliers using Z-Score\n",
    "## Step 1: Calculate Mean (μ)\n",
    "\n",
    "$$\n",
    "\\text{Mean} = \\frac{10 + 12 + 14 + 15 + 16 + 18 + 20 + 24 + 30 + 100}{10} = \\frac{259}{10} = 25.9\n",
    "$$\n",
    "\n",
    "✅ **Mean (μ) = 25.9**\n",
    "\n",
    "---\n",
    "\n",
    "## Step 2: Calculate Standard Deviation (σ)\n",
    "\n",
    "### Formula:\n",
    "\n",
    "$$\n",
    "\\sigma = \\sqrt{\\frac{1}{N} \\sum (x_i - \\mu)^2}\n",
    "$$\n",
    "\n",
    "First, let's find $((x_i - \\mu)^2)$ for each value:\n",
    "\n",
    "| Value (x) | \\(x - 25.9\\) | \\((x - 25.9)^2\\) |\n",
    "|:---------:|:------------:|:----------------:|\n",
    "| 10        | -15.9        | 252.81            |\n",
    "| 12        | -13.9        | 193.21            |\n",
    "| 14        | -11.9        | 141.61            |\n",
    "| 15        | -10.9        | 118.81            |\n",
    "| 16        | -9.9         | 98.01             |\n",
    "| 18        | -7.9         | 62.41             |\n",
    "| 20        | -5.9         | 34.81             |\n",
    "| 24        | -1.9         | 3.61              |\n",
    "| 30        | 4.1          | 16.81             |\n",
    "| 100       | 74.1         | 5480.81           |\n",
    "\n",
    "Sum of squares = **6402.9**\n",
    "\n",
    "Now,\n",
    "\n",
    "$$\n",
    "\\sigma = \\sqrt{\\frac{6402.9}{10}} = \\sqrt{640.29} \\approx 25.3\n",
    "$$\n",
    "\n",
    "✅ **Standard Deviation (σ) ≈ 25.3**\n",
    "\n",
    "---\n",
    "\n",
    "## Step 3: Calculate Z-Score for Each Value\n",
    "\n",
    "### Formula:\n",
    "\n",
    "$$\n",
    "Z = \\frac{x - \\mu}{\\sigma}\n",
    "$$\n",
    "\n",
    "Now calculating:\n",
    "\n",
    "| Value (x) | Z-Score |\n",
    "|:---------:|:-------:|\n",
    "| 10        | (10 - 25.9)/25.3 ≈ -0.627 |\n",
    "| 12        | (12 - 25.9)/25.3 ≈ -0.552 |\n",
    "| 14        | (14 - 25.9)/25.3 ≈ -0.467 |\n",
    "| 15        | (15 - 25.9)/25.3 ≈ -0.428 |\n",
    "| 16        | (16 - 25.9)/25.3 ≈ -0.391 |\n",
    "| 18        | (18 - 25.9)/25.3 ≈ -0.312 |\n",
    "| 20        | (20 - 25.9)/25.3 ≈ -0.233 |\n",
    "| 24        | (24 - 25.9)/25.3 ≈ -0.075 |\n",
    "| 30        | (30 - 25.9)/25.3 ≈ 0.162 |\n",
    "| 100       | (100 - 25.9)/25.3 ≈ 2.937 |\n",
    "\n",
    "---\n"
   ]
  },
  {
   "cell_type": "markdown",
   "id": "59ddee89-6c7f-4801-a664-db2b2f42be77",
   "metadata": {},
   "source": [
    "# 🔹 Finding Lower and Upper Bounds using Z-score\n",
    "\n",
    "There are two common situations:\n",
    "\n",
    "## 1. If you are given a mean and standard deviation, and a z-score:\n",
    "\n",
    "You can find the **raw value** (actual lower and upper bounds) using:\n",
    "\n",
    "$$\n",
    "x = \\mu + (z \\times \\sigma)\n",
    "$$\n",
    "\n",
    "where:\n",
    "- $( x )$ = raw score (bound)\n",
    "- $( \\mu )$ = mean\n",
    "- $( \\sigma )$ = standard deviation\n",
    "- $( z )$ = z-score\n",
    "\n",
    "### Let's assume we use the common z-scores for a 95% confidence level:\n",
    "\n",
    "- Lower bound z-score: $( z = -1.96 )$\n",
    "- Upper bound z-score: $( z = 1.96 )$\n",
    "\n",
    "#### Lower Bound:\n",
    "$$\n",
    "x_{\\text{lower}} = 25.9 + (-1.96 \\times 25.3) = 25.9 - 49.6 = -23.7\n",
    "$$\n",
    "\n",
    "#### Upper Bound:\n",
    "$$\n",
    "x_{\\text{upper}} = 25.9 + (1.96 \\times 25.3) = 25.9 + 49.6 = 75.5\n",
    "$$\n",
    "\n",
    "---\n",
    "## Step 4: Detect Outliers\n",
    "\n",
    "👉 **Threshold**: $(|Z| > 3)$ → considered an outlier.\n",
    "\n",
    "- 100 has a Z-score ≈ 2.937 (almost 3!) and `grater than 75`\n",
    "\n",
    "✅ **So, 100 is an outlier!**"
   ]
  },
  {
   "cell_type": "code",
   "execution_count": 4,
   "id": "36c7ea81-2013-4c33-a1cb-f8c23a11f081",
   "metadata": {},
   "outputs": [],
   "source": [
    "# Calculate Z-scores using scipy\n",
    "z_scores = zscore(input_data)"
   ]
  },
  {
   "cell_type": "code",
   "execution_count": 5,
   "id": "1d4b6a13-3c36-4cc5-96bc-c2b09be249c5",
   "metadata": {},
   "outputs": [
    {
     "data": {
      "text/plain": [
       "array([[-0.62787023],\n",
       "       [-0.54889284],\n",
       "       [-0.46991545],\n",
       "       [-0.43042676],\n",
       "       [-0.39093807],\n",
       "       [-0.31196068],\n",
       "       [-0.23298329],\n",
       "       [-0.07502852],\n",
       "       [ 0.16190364],\n",
       "       [ 2.92611219]])"
      ]
     },
     "execution_count": 5,
     "metadata": {},
     "output_type": "execute_result"
    }
   ],
   "source": [
    "z_scores"
   ]
  },
  {
   "cell_type": "code",
   "execution_count": 6,
   "id": "e0933e23-f5ee-4af7-8b14-0951f32752bb",
   "metadata": {},
   "outputs": [],
   "source": [
    "# Detect outliers (|Z| > 1.9)\n",
    "# Let's assume we use the common z-scores for a 95% confidence level\n",
    "outliers = input_data[np.abs(z_scores) > 1.9]"
   ]
  },
  {
   "cell_type": "code",
   "execution_count": 7,
   "id": "1ed3a10b-2238-4039-bac5-0c3e025fb353",
   "metadata": {},
   "outputs": [
    {
     "data": {
      "text/html": [
       "<div>\n",
       "<style scoped>\n",
       "    .dataframe tbody tr th:only-of-type {\n",
       "        vertical-align: middle;\n",
       "    }\n",
       "\n",
       "    .dataframe tbody tr th {\n",
       "        vertical-align: top;\n",
       "    }\n",
       "\n",
       "    .dataframe thead th {\n",
       "        text-align: right;\n",
       "    }\n",
       "</style>\n",
       "<table border=\"1\" class=\"dataframe\">\n",
       "  <thead>\n",
       "    <tr style=\"text-align: right;\">\n",
       "      <th></th>\n",
       "      <th>input</th>\n",
       "    </tr>\n",
       "  </thead>\n",
       "  <tbody>\n",
       "    <tr>\n",
       "      <th>9</th>\n",
       "      <td>100</td>\n",
       "    </tr>\n",
       "  </tbody>\n",
       "</table>\n",
       "</div>"
      ],
      "text/plain": [
       "   input\n",
       "9    100"
      ]
     },
     "execution_count": 7,
     "metadata": {},
     "output_type": "execute_result"
    }
   ],
   "source": [
    "outliers"
   ]
  },
  {
   "cell_type": "code",
   "execution_count": null,
   "id": "8ab6aeb4-1770-4192-b7e2-59ebe6bc1858",
   "metadata": {},
   "outputs": [],
   "source": []
  }
 ],
 "metadata": {
  "kernelspec": {
   "display_name": "Python 3 (ipykernel)",
   "language": "python",
   "name": "python3"
  },
  "language_info": {
   "codemirror_mode": {
    "name": "ipython",
    "version": 3
   },
   "file_extension": ".py",
   "mimetype": "text/x-python",
   "name": "python",
   "nbconvert_exporter": "python",
   "pygments_lexer": "ipython3",
   "version": "3.12.3"
  }
 },
 "nbformat": 4,
 "nbformat_minor": 5
}
