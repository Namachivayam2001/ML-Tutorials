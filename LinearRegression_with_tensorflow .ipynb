{
 "cells": [
  {
   "cell_type": "markdown",
   "id": "7bf11975-e104-4380-beac-b2736305b1b5",
   "metadata": {},
   "source": [
    "# 🔄 TensorFlow Workflow for Training a Model\n",
    "\n",
    "## Step 1: Prepare Data\n",
    "Use tools like:\n",
    "- **NumPy**\n",
    "- **Pandas**\n",
    "- **`tf.data` API**\n",
    "\n",
    "To **load** and **preprocess** your data.\n",
    "\n",
    "---\n",
    "\n",
    "## Step 2: Build a Model\n",
    "Choose one of the following approaches:\n",
    "\n",
    "- **Sequential API** – Easy and beginner-friendly  \n",
    "- **Functional API** – More flexible  \n",
    "- **Subclassing `tf.keras.Model`** – For advanced use cases\n",
    "\n",
    "---\n",
    "\n",
    "## Step 3: Compile the Model\n",
    "Set the following:\n",
    "\n",
    "- **Loss function**  \n",
    "- **Optimizer** (e.g., `Adam`, `SGD`)  \n",
    "- **Metrics** (e.g., `accuracy`)\n",
    "\n",
    "---\n",
    "\n",
    "## Step 4: Train the Model\n",
    "Use:\n",
    "\n",
    "```python\n",
    "model.fit(x_train, y_train, epochs=10, batch_size=32)\n"
   ]
  },
  {
   "cell_type": "code",
   "execution_count": 44,
   "id": "f5df159b-ba09-4ab7-af47-25b95de2e1be",
   "metadata": {},
   "outputs": [],
   "source": [
    "# Import required packages\n",
    "import pandas as pd\n",
    "import numpy as np\n",
    "import matplotlib.pyplot as plt\n",
    "import seaborn as sns\n",
    "import tensorflow as tf\n",
    "from tensorflow import keras\n",
    "from tensorflow.keras import layers\n",
    "from sklearn.preprocessing import StandardScaler\n",
    "from sklearn.model_selection import train_test_split"
   ]
  },
  {
   "cell_type": "markdown",
   "id": "4ee39a90-45ea-451b-af3c-8d0fd1678f72",
   "metadata": {},
   "source": [
    "**I use preprocessed dataset in this project, I f you want to see the PreProcessing steps of the dataset kindly refer -** https://github.com/Namachivayam2001/ML-Tutorials/blob/main/House_price_Prediction_using_LinerRegression.ipynb"
   ]
  },
  {
   "cell_type": "code",
   "execution_count": 45,
   "id": "d7ce07dc-7a6f-49e4-961e-6862d3d122f3",
   "metadata": {},
   "outputs": [],
   "source": [
    "# read the dataframe \n",
    "df = pd.read_csv('https://github.com/Namachivayam2001/Public_Datasets/raw/main/Preprocessed_House_Price_Dataset.csv')"
   ]
  },
  {
   "cell_type": "markdown",
   "id": "4d49df42-26db-4a05-92d1-db654f94bf10",
   "metadata": {},
   "source": [
    "## Data inspection"
   ]
  },
  {
   "cell_type": "code",
   "execution_count": 46,
   "id": "3dde4af2-500b-4beb-888f-d7450c7d3e8f",
   "metadata": {},
   "outputs": [
    {
     "data": {
      "text/html": [
       "<div>\n",
       "<style scoped>\n",
       "    .dataframe tbody tr th:only-of-type {\n",
       "        vertical-align: middle;\n",
       "    }\n",
       "\n",
       "    .dataframe tbody tr th {\n",
       "        vertical-align: top;\n",
       "    }\n",
       "\n",
       "    .dataframe thead th {\n",
       "        text-align: right;\n",
       "    }\n",
       "</style>\n",
       "<table border=\"1\" class=\"dataframe\">\n",
       "  <thead>\n",
       "    <tr style=\"text-align: right;\">\n",
       "      <th></th>\n",
       "      <th>price</th>\n",
       "      <th>bedrooms</th>\n",
       "      <th>bathrooms</th>\n",
       "      <th>sqft_living</th>\n",
       "      <th>sqft_lot</th>\n",
       "      <th>floors</th>\n",
       "      <th>waterfront</th>\n",
       "      <th>view</th>\n",
       "      <th>condition</th>\n",
       "      <th>sqft_above</th>\n",
       "      <th>Address</th>\n",
       "      <th>age_house</th>\n",
       "      <th>is_basement</th>\n",
       "      <th>is_renovated</th>\n",
       "    </tr>\n",
       "  </thead>\n",
       "  <tbody>\n",
       "    <tr>\n",
       "      <th>0</th>\n",
       "      <td>313000.0</td>\n",
       "      <td>3.0</td>\n",
       "      <td>1.50</td>\n",
       "      <td>1340</td>\n",
       "      <td>7912</td>\n",
       "      <td>1.5</td>\n",
       "      <td>0</td>\n",
       "      <td>0</td>\n",
       "      <td>3</td>\n",
       "      <td>1340</td>\n",
       "      <td>1522</td>\n",
       "      <td>70</td>\n",
       "      <td>0</td>\n",
       "      <td>1</td>\n",
       "    </tr>\n",
       "    <tr>\n",
       "      <th>1</th>\n",
       "      <td>2384000.0</td>\n",
       "      <td>5.0</td>\n",
       "      <td>2.50</td>\n",
       "      <td>3650</td>\n",
       "      <td>9050</td>\n",
       "      <td>2.0</td>\n",
       "      <td>0</td>\n",
       "      <td>4</td>\n",
       "      <td>5</td>\n",
       "      <td>3370</td>\n",
       "      <td>3899</td>\n",
       "      <td>104</td>\n",
       "      <td>1</td>\n",
       "      <td>0</td>\n",
       "    </tr>\n",
       "    <tr>\n",
       "      <th>2</th>\n",
       "      <td>342000.0</td>\n",
       "      <td>3.0</td>\n",
       "      <td>2.00</td>\n",
       "      <td>1930</td>\n",
       "      <td>11947</td>\n",
       "      <td>1.0</td>\n",
       "      <td>0</td>\n",
       "      <td>0</td>\n",
       "      <td>4</td>\n",
       "      <td>1930</td>\n",
       "      <td>2291</td>\n",
       "      <td>59</td>\n",
       "      <td>0</td>\n",
       "      <td>0</td>\n",
       "    </tr>\n",
       "    <tr>\n",
       "      <th>3</th>\n",
       "      <td>420000.0</td>\n",
       "      <td>3.0</td>\n",
       "      <td>2.25</td>\n",
       "      <td>2000</td>\n",
       "      <td>8030</td>\n",
       "      <td>1.0</td>\n",
       "      <td>0</td>\n",
       "      <td>0</td>\n",
       "      <td>4</td>\n",
       "      <td>1000</td>\n",
       "      <td>4263</td>\n",
       "      <td>62</td>\n",
       "      <td>1</td>\n",
       "      <td>0</td>\n",
       "    </tr>\n",
       "    <tr>\n",
       "      <th>4</th>\n",
       "      <td>550000.0</td>\n",
       "      <td>4.0</td>\n",
       "      <td>2.50</td>\n",
       "      <td>1940</td>\n",
       "      <td>10500</td>\n",
       "      <td>1.0</td>\n",
       "      <td>0</td>\n",
       "      <td>0</td>\n",
       "      <td>4</td>\n",
       "      <td>1140</td>\n",
       "      <td>4352</td>\n",
       "      <td>49</td>\n",
       "      <td>1</td>\n",
       "      <td>1</td>\n",
       "    </tr>\n",
       "  </tbody>\n",
       "</table>\n",
       "</div>"
      ],
      "text/plain": [
       "       price  bedrooms  bathrooms  sqft_living  sqft_lot  floors  waterfront  \\\n",
       "0   313000.0       3.0       1.50         1340      7912     1.5           0   \n",
       "1  2384000.0       5.0       2.50         3650      9050     2.0           0   \n",
       "2   342000.0       3.0       2.00         1930     11947     1.0           0   \n",
       "3   420000.0       3.0       2.25         2000      8030     1.0           0   \n",
       "4   550000.0       4.0       2.50         1940     10500     1.0           0   \n",
       "\n",
       "   view  condition  sqft_above  Address  age_house  is_basement  is_renovated  \n",
       "0     0          3        1340     1522         70            0             1  \n",
       "1     4          5        3370     3899        104            1             0  \n",
       "2     0          4        1930     2291         59            0             0  \n",
       "3     0          4        1000     4263         62            1             0  \n",
       "4     0          4        1140     4352         49            1             1  "
      ]
     },
     "execution_count": 46,
     "metadata": {},
     "output_type": "execute_result"
    }
   ],
   "source": [
    "df.head()"
   ]
  },
  {
   "cell_type": "code",
   "execution_count": 47,
   "id": "bf5f0b64-af8c-4ccd-875f-fd8991fb1260",
   "metadata": {},
   "outputs": [
    {
     "data": {
      "text/plain": [
       "(4600, 14)"
      ]
     },
     "execution_count": 47,
     "metadata": {},
     "output_type": "execute_result"
    }
   ],
   "source": [
    "df.shape"
   ]
  },
  {
   "cell_type": "code",
   "execution_count": 48,
   "id": "abceabd9-725b-44e9-9495-4e7164eb84e3",
   "metadata": {},
   "outputs": [
    {
     "name": "stdout",
     "output_type": "stream",
     "text": [
      "<class 'pandas.core.frame.DataFrame'>\n",
      "RangeIndex: 4600 entries, 0 to 4599\n",
      "Data columns (total 14 columns):\n",
      " #   Column        Non-Null Count  Dtype  \n",
      "---  ------        --------------  -----  \n",
      " 0   price         4600 non-null   float64\n",
      " 1   bedrooms      4600 non-null   float64\n",
      " 2   bathrooms     4600 non-null   float64\n",
      " 3   sqft_living   4600 non-null   int64  \n",
      " 4   sqft_lot      4600 non-null   int64  \n",
      " 5   floors        4600 non-null   float64\n",
      " 6   waterfront    4600 non-null   int64  \n",
      " 7   view          4600 non-null   int64  \n",
      " 8   condition     4600 non-null   int64  \n",
      " 9   sqft_above    4600 non-null   int64  \n",
      " 10  Address       4600 non-null   int64  \n",
      " 11  age_house     4600 non-null   int64  \n",
      " 12  is_basement   4600 non-null   int64  \n",
      " 13  is_renovated  4600 non-null   int64  \n",
      "dtypes: float64(4), int64(10)\n",
      "memory usage: 503.3 KB\n"
     ]
    }
   ],
   "source": [
    "df.info()"
   ]
  },
  {
   "cell_type": "markdown",
   "id": "31912f51-b279-4dfb-bc7e-5131d87f7ad1",
   "metadata": {},
   "source": [
    "## Split the dataset for training and testing"
   ]
  },
  {
   "cell_type": "code",
   "execution_count": 51,
   "id": "ede0f646-f629-414f-b429-4c6d7f331765",
   "metadata": {},
   "outputs": [],
   "source": [
    "features = df.iloc[:, 1:]\n",
    "target = df.iloc[:, 0]\n",
    "\n",
    "features_train, features_test, target_train, target_test = train_test_split(features, target, test_size=0.2)"
   ]
  },
  {
   "cell_type": "markdown",
   "id": "a77c78fa-9e79-4c46-9933-5884998863a8",
   "metadata": {},
   "source": [
    "## Standerdize the Dataset"
   ]
  },
  {
   "cell_type": "code",
   "execution_count": 53,
   "id": "4a5c9663-69e6-4ff5-b3ad-edb3dcca8578",
   "metadata": {},
   "outputs": [],
   "source": [
    "scaler = StandardScaler()\n",
    "\n",
    "features_train_scaled = scaler.fit_transform(features_train)\n",
    "features_test_scaled = scaler.fit_transform(features_test)"
   ]
  },
  {
   "cell_type": "markdown",
   "id": "cc89cfc8-a8ff-47f7-a66f-641b781e95e9",
   "metadata": {},
   "source": [
    "## Build LinearRegression Model Using Tensorflow"
   ]
  },
  {
   "cell_type": "code",
   "execution_count": 58,
   "id": "d974393f-3d0e-46c7-af5a-f1d79110c4a2",
   "metadata": {},
   "outputs": [],
   "source": [
    "# Create a model with activation function\n",
    "model = keras.Sequential([\n",
    "    keras.Input(shape=(features_train_scaled.shape[1],)),  # Define input shape here\n",
    "    layers.Dense(64, activation='relu'),\n",
    "    layers.Dense(32, activation='relu'),\n",
    "    layers.Dense(1)  # Output layer for regression\n",
    "])"
   ]
  },
  {
   "cell_type": "code",
   "execution_count": 72,
   "id": "eaede53c-0a43-43b3-bfcb-a3e649bafbd2",
   "metadata": {},
   "outputs": [],
   "source": [
    "# Compile the model\n",
    "model.compile(\n",
    "    optimizer='adam',\n",
    "    loss='mean_squared_error',\n",
    "    metrics=['mae']\n",
    ")"
   ]
  },
  {
   "cell_type": "code",
   "execution_count": 73,
   "id": "16911c81-7726-4972-8d90-4de115f8ebdb",
   "metadata": {},
   "outputs": [],
   "source": [
    "# Train the model\n",
    "history = model.fit(\n",
    "    features_train_scaled, target_train,\n",
    "    epochs=100,\n",
    "    validation_data=(features_test_scaled, target_test),\n",
    "    verbose=0\n",
    ")"
   ]
  },
  {
   "cell_type": "code",
   "execution_count": null,
   "id": "800233cd-f136-45f4-ab3c-d49964fb6651",
   "metadata": {},
   "outputs": [],
   "source": [
    "# Create a dataframe with taining and testing evaluation metrics\n"
   ]
  },
  {
   "cell_type": "code",
   "execution_count": 69,
   "id": "96ec294d-1fd0-489c-8164-0209f28e48b1",
   "metadata": {},
   "outputs": [
    {
     "data": {
      "image/png": "[encoded data removed]",
      "text/plain": [
       "<Figure size 640x480 with 1 Axes>"
      ]
     },
     "metadata": {},
     "output_type": "display_data"
    },
    {
     "data": {
      "image/png": "[encoded data removed]",
      "text/plain": [
       "<Figure size 640x480 with 1 Axes>"
      ]
     },
     "metadata": {},
     "output_type": "display_data"
    }
   ],
   "source": [
    "# Plot loss\n",
    "plt.plot(history.history['loss'], label='Training Loss')\n",
    "plt.plot(history.history['val_loss'], label='Validation Loss')\n",
    "plt.xlabel('Epochs')\n",
    "plt.ylabel('Loss')\n",
    "plt.title('Loss over Time')\n",
    "plt.legend()\n",
    "plt.show()\n",
    "\n",
    "# Plot MAE\n",
    "plt.plot(history.history['mae'], label='Training MAE')\n",
    "plt.plot(history.history['val_mae'], label='Validation MAE')\n",
    "plt.xlabel('Epochs')\n",
    "plt.ylabel('Mean Absolute Error')\n",
    "plt.title('MAE over Time')\n",
    "plt.legend()\n",
    "plt.show()"
   ]
  },
  {
   "cell_type": "code",
   "execution_count": null,
   "id": "2a470d06-a176-4049-8172-f4b53a0675ae",
   "metadata": {},
   "outputs": [],
   "source": []
  }
 ],
 "metadata": {
  "kernelspec": {
   "display_name": "Python 3 (ipykernel)",
   "language": "python",
   "name": "python3"
  },
  "language_info": {
   "codemirror_mode": {
    "name": "ipython",
    "version": 3
   },
   "file_extension": ".py",
   "mimetype": "text/x-python",
   "name": "python",
   "nbconvert_exporter": "python",
   "pygments_lexer": "ipython3",
   "version": "3.12.3"
  }
 },
 "nbformat": 4,
 "nbformat_minor": 5
}
