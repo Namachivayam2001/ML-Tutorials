{
 "cells": [
  {
   "cell_type": "markdown",
   "metadata": {
    "id": "A1u3AheMb9Pf"
   },
   "source": [
    "### Importing Necessary"
   ]
  },
  {
   "cell_type": "code",
   "execution_count": 2,
   "metadata": {
    "id": "RBy2736FZfUc"
   },
   "outputs": [],
   "source": [
    "# Importing Necessary Modules\n",
    "import pandas as pd\n",
    "import matplotlib.pyplot as plt\n",
    "import seaborn as sns\n",
    "from sklearn.preprocessing import LabelEncoder\n",
    "from sklearn.linear_model import LinearRegression\n",
    "from sklearn.model_selection import train_test_split\n",
    "from sklearn.metrics import mean_absolute_error, mean_squared_error, r2_score\n",
    "import numpy as np"
   ]
  },
  {
   "cell_type": "markdown",
   "metadata": {
    "id": "DkJdIgWXcvcK"
   },
   "source": [
    "#### Find the information about dataset from the below Lind\n",
    "- https://www.kaggle.com/datasets/ertugrulesol/online-retail-data"
   ]
  },
  {
   "cell_type": "code",
   "execution_count": 3,
   "metadata": {
    "id": "qAPKi5U_ZjPq"
   },
   "outputs": [],
   "source": [
    "df = pd.read_csv('https://github.com/Namachivayam2001/Public_Datasets/raw/main/synthetic_online_retail_data.csv')"
   ]
  },
  {
   "cell_type": "code",
   "execution_count": 4,
   "metadata": {
    "colab": {
     "base_uri": "https://localhost:8080/",
     "height": 278
    },
    "id": "z2dfPNZOZsvg",
    "outputId": "02013e9d-423a-451a-fe5d-2944f137f2e9"
   },
   "outputs": [
    {
     "data": {
      "text/html": [
       "<div>\n",
       "<style scoped>\n",
       "    .dataframe tbody tr th:only-of-type {\n",
       "        vertical-align: middle;\n",
       "    }\n",
       "\n",
       "    .dataframe tbody tr th {\n",
       "        vertical-align: top;\n",
       "    }\n",
       "\n",
       "    .dataframe thead th {\n",
       "        text-align: right;\n",
       "    }\n",
       "</style>\n",
       "<table border=\"1\" class=\"dataframe\">\n",
       "  <thead>\n",
       "    <tr style=\"text-align: right;\">\n",
       "      <th></th>\n",
       "      <th>customer_id</th>\n",
       "      <th>order_date</th>\n",
       "      <th>product_id</th>\n",
       "      <th>category_id</th>\n",
       "      <th>category_name</th>\n",
       "      <th>product_name</th>\n",
       "      <th>quantity</th>\n",
       "      <th>price</th>\n",
       "      <th>payment_method</th>\n",
       "      <th>city</th>\n",
       "      <th>review_score</th>\n",
       "      <th>gender</th>\n",
       "      <th>age</th>\n",
       "    </tr>\n",
       "  </thead>\n",
       "  <tbody>\n",
       "    <tr>\n",
       "      <th>0</th>\n",
       "      <td>13542</td>\n",
       "      <td>2024-12-17</td>\n",
       "      <td>784</td>\n",
       "      <td>10</td>\n",
       "      <td>Electronics</td>\n",
       "      <td>Smartphone</td>\n",
       "      <td>2</td>\n",
       "      <td>373.36</td>\n",
       "      <td>Credit Card</td>\n",
       "      <td>New Oliviaberg</td>\n",
       "      <td>1.0</td>\n",
       "      <td>F</td>\n",
       "      <td>56</td>\n",
       "    </tr>\n",
       "    <tr>\n",
       "      <th>1</th>\n",
       "      <td>23188</td>\n",
       "      <td>2024-06-01</td>\n",
       "      <td>682</td>\n",
       "      <td>50</td>\n",
       "      <td>Sports &amp; Outdoors</td>\n",
       "      <td>Soccer Ball</td>\n",
       "      <td>5</td>\n",
       "      <td>299.34</td>\n",
       "      <td>Credit Card</td>\n",
       "      <td>Port Matthew</td>\n",
       "      <td>NaN</td>\n",
       "      <td>M</td>\n",
       "      <td>59</td>\n",
       "    </tr>\n",
       "    <tr>\n",
       "      <th>2</th>\n",
       "      <td>55098</td>\n",
       "      <td>2025-02-04</td>\n",
       "      <td>684</td>\n",
       "      <td>50</td>\n",
       "      <td>Sports &amp; Outdoors</td>\n",
       "      <td>Tent</td>\n",
       "      <td>5</td>\n",
       "      <td>23.00</td>\n",
       "      <td>Credit Card</td>\n",
       "      <td>West Sarah</td>\n",
       "      <td>5.0</td>\n",
       "      <td>F</td>\n",
       "      <td>64</td>\n",
       "    </tr>\n",
       "    <tr>\n",
       "      <th>3</th>\n",
       "      <td>65208</td>\n",
       "      <td>2024-10-28</td>\n",
       "      <td>204</td>\n",
       "      <td>40</td>\n",
       "      <td>Books &amp; Stationery</td>\n",
       "      <td>Story Book</td>\n",
       "      <td>2</td>\n",
       "      <td>230.11</td>\n",
       "      <td>Bank Transfer</td>\n",
       "      <td>Hernandezburgh</td>\n",
       "      <td>5.0</td>\n",
       "      <td>M</td>\n",
       "      <td>34</td>\n",
       "    </tr>\n",
       "    <tr>\n",
       "      <th>4</th>\n",
       "      <td>63872</td>\n",
       "      <td>2024-05-10</td>\n",
       "      <td>202</td>\n",
       "      <td>20</td>\n",
       "      <td>Fashion</td>\n",
       "      <td>Skirt</td>\n",
       "      <td>4</td>\n",
       "      <td>176.72</td>\n",
       "      <td>Credit Card</td>\n",
       "      <td>Jenkinshaven</td>\n",
       "      <td>1.0</td>\n",
       "      <td>F</td>\n",
       "      <td>33</td>\n",
       "    </tr>\n",
       "  </tbody>\n",
       "</table>\n",
       "</div>"
      ],
      "text/plain": [
       "   customer_id  order_date  product_id  category_id       category_name  \\\n",
       "0        13542  2024-12-17         784           10         Electronics   \n",
       "1        23188  2024-06-01         682           50   Sports & Outdoors   \n",
       "2        55098  2025-02-04         684           50   Sports & Outdoors   \n",
       "3        65208  2024-10-28         204           40  Books & Stationery   \n",
       "4        63872  2024-05-10         202           20             Fashion   \n",
       "\n",
       "  product_name  quantity   price payment_method            city  review_score  \\\n",
       "0   Smartphone         2  373.36    Credit Card  New Oliviaberg           1.0   \n",
       "1  Soccer Ball         5  299.34    Credit Card    Port Matthew           NaN   \n",
       "2         Tent         5   23.00    Credit Card      West Sarah           5.0   \n",
       "3   Story Book         2  230.11  Bank Transfer  Hernandezburgh           5.0   \n",
       "4        Skirt         4  176.72    Credit Card    Jenkinshaven           1.0   \n",
       "\n",
       "  gender  age  \n",
       "0      F   56  \n",
       "1      M   59  \n",
       "2      F   64  \n",
       "3      M   34  \n",
       "4      F   33  "
      ]
     },
     "execution_count": 4,
     "metadata": {},
     "output_type": "execute_result"
    }
   ],
   "source": [
    "df.head()"
   ]
  },
  {
   "cell_type": "markdown",
   "metadata": {
    "id": "0Y_ZUGJafR0L"
   },
   "source": [
    "## Let's do data inspection"
   ]
  },
  {
   "cell_type": "code",
   "execution_count": 5,
   "metadata": {
    "colab": {
     "base_uri": "https://localhost:8080/"
    },
    "id": "2yOwkYCciUgE",
    "outputId": "448096f0-7abe-4689-977b-0f0b467ee849"
   },
   "outputs": [
    {
     "name": "stdout",
     "output_type": "stream",
     "text": [
      "Rows from the dataset: 1000\n",
      "Columns from the dataset: 13\n"
     ]
    }
   ],
   "source": [
    "print(f'Rows from the dataset: {df.shape[0]}')\n",
    "print(f'Columns from the dataset: {df.shape[1]}')"
   ]
  },
  {
   "cell_type": "code",
   "execution_count": 6,
   "metadata": {
    "id": "DsvB_eBNjhL6"
   },
   "outputs": [],
   "source": [
    "# Spliting numarical and categorical columns\n",
    "all_columns = df.columns.tolist()\n",
    "numarical_columns = df.select_dtypes(include=['number']).columns.tolist()\n",
    "categorical_columns = df.select_dtypes(include=['object']).columns.tolist()"
   ]
  },
  {
   "cell_type": "code",
   "execution_count": 7,
   "metadata": {
    "colab": {
     "base_uri": "https://localhost:8080/"
    },
    "id": "3AzcKuNOkO08",
    "outputId": "6f5bac62-d66e-4022-8b3a-052c7a75a5fb"
   },
   "outputs": [
    {
     "name": "stdout",
     "output_type": "stream",
     "text": [
      "columns: ['customer_id', 'order_date', 'product_id', 'category_id', 'category_name', 'product_name', 'quantity', 'price', 'payment_method', 'city', 'review_score', 'gender', 'age']\n",
      "Number of numarical columns in dataset: 7\n",
      "Numarical columns: ['customer_id', 'product_id', 'category_id', 'quantity', 'price', 'review_score', 'age']\n",
      "Number of categorical columns in dataset: 6\n",
      "Categorical columns: ['order_date', 'category_name', 'product_name', 'payment_method', 'city', 'gender']\n"
     ]
    }
   ],
   "source": [
    "print(f'columns: {all_columns}')\n",
    "print(f'Number of numarical columns in dataset: {len(numarical_columns)}')\n",
    "print(f'Numarical columns: {numarical_columns}')\n",
    "print(f'Number of categorical columns in dataset: {len(categorical_columns)}')\n",
    "print(f'Categorical columns: {categorical_columns}')"
   ]
  },
  {
   "cell_type": "code",
   "execution_count": 8,
   "metadata": {
    "colab": {
     "base_uri": "https://localhost:8080/"
    },
    "id": "jOrb6dmNZv2x",
    "outputId": "4b6da6b1-6e6d-44b1-8322-e25bc8a7004f"
   },
   "outputs": [
    {
     "name": "stdout",
     "output_type": "stream",
     "text": [
      "<class 'pandas.core.frame.DataFrame'>\n",
      "RangeIndex: 1000 entries, 0 to 999\n",
      "Data columns (total 13 columns):\n",
      " #   Column          Non-Null Count  Dtype  \n",
      "---  ------          --------------  -----  \n",
      " 0   customer_id     1000 non-null   int64  \n",
      " 1   order_date      1000 non-null   object \n",
      " 2   product_id      1000 non-null   int64  \n",
      " 3   category_id     1000 non-null   int64  \n",
      " 4   category_name   1000 non-null   object \n",
      " 5   product_name    1000 non-null   object \n",
      " 6   quantity        1000 non-null   int64  \n",
      " 7   price           1000 non-null   float64\n",
      " 8   payment_method  1000 non-null   object \n",
      " 9   city            1000 non-null   object \n",
      " 10  review_score    799 non-null    float64\n",
      " 11  gender          897 non-null    object \n",
      " 12  age             1000 non-null   int64  \n",
      "dtypes: float64(2), int64(5), object(6)\n",
      "memory usage: 101.7+ KB\n"
     ]
    }
   ],
   "source": [
    "df.info()"
   ]
  },
  {
   "cell_type": "code",
   "execution_count": 9,
   "metadata": {
    "colab": {
     "base_uri": "https://localhost:8080/",
     "height": 300
    },
    "id": "yrVgQ0jwfXIm",
    "outputId": "2ae31bcc-8d15-4a5b-8149-f757de58f2bd"
   },
   "outputs": [
    {
     "data": {
      "text/html": [
       "<div>\n",
       "<style scoped>\n",
       "    .dataframe tbody tr th:only-of-type {\n",
       "        vertical-align: middle;\n",
       "    }\n",
       "\n",
       "    .dataframe tbody tr th {\n",
       "        vertical-align: top;\n",
       "    }\n",
       "\n",
       "    .dataframe thead th {\n",
       "        text-align: right;\n",
       "    }\n",
       "</style>\n",
       "<table border=\"1\" class=\"dataframe\">\n",
       "  <thead>\n",
       "    <tr style=\"text-align: right;\">\n",
       "      <th></th>\n",
       "      <th>customer_id</th>\n",
       "      <th>product_id</th>\n",
       "      <th>category_id</th>\n",
       "      <th>quantity</th>\n",
       "      <th>price</th>\n",
       "      <th>review_score</th>\n",
       "      <th>age</th>\n",
       "    </tr>\n",
       "  </thead>\n",
       "  <tbody>\n",
       "    <tr>\n",
       "      <th>count</th>\n",
       "      <td>1000.000000</td>\n",
       "      <td>1000.000000</td>\n",
       "      <td>1000.000000</td>\n",
       "      <td>1000.000000</td>\n",
       "      <td>1000.000000</td>\n",
       "      <td>799.000000</td>\n",
       "      <td>1000.000000</td>\n",
       "    </tr>\n",
       "    <tr>\n",
       "      <th>mean</th>\n",
       "      <td>55490.723000</td>\n",
       "      <td>540.726000</td>\n",
       "      <td>30.030000</td>\n",
       "      <td>2.947000</td>\n",
       "      <td>251.850660</td>\n",
       "      <td>3.992491</td>\n",
       "      <td>46.382000</td>\n",
       "    </tr>\n",
       "    <tr>\n",
       "      <th>std</th>\n",
       "      <td>25910.185857</td>\n",
       "      <td>261.737704</td>\n",
       "      <td>14.370303</td>\n",
       "      <td>1.413573</td>\n",
       "      <td>139.194688</td>\n",
       "      <td>1.239469</td>\n",
       "      <td>16.569992</td>\n",
       "    </tr>\n",
       "    <tr>\n",
       "      <th>min</th>\n",
       "      <td>10201.000000</td>\n",
       "      <td>100.000000</td>\n",
       "      <td>10.000000</td>\n",
       "      <td>1.000000</td>\n",
       "      <td>10.720000</td>\n",
       "      <td>1.000000</td>\n",
       "      <td>18.000000</td>\n",
       "    </tr>\n",
       "    <tr>\n",
       "      <th>25%</th>\n",
       "      <td>33857.000000</td>\n",
       "      <td>311.750000</td>\n",
       "      <td>20.000000</td>\n",
       "      <td>2.000000</td>\n",
       "      <td>128.525000</td>\n",
       "      <td>3.000000</td>\n",
       "      <td>32.000000</td>\n",
       "    </tr>\n",
       "    <tr>\n",
       "      <th>50%</th>\n",
       "      <td>54619.500000</td>\n",
       "      <td>542.500000</td>\n",
       "      <td>30.000000</td>\n",
       "      <td>3.000000</td>\n",
       "      <td>250.220000</td>\n",
       "      <td>4.000000</td>\n",
       "      <td>47.000000</td>\n",
       "    </tr>\n",
       "    <tr>\n",
       "      <th>75%</th>\n",
       "      <td>77848.500000</td>\n",
       "      <td>770.750000</td>\n",
       "      <td>40.000000</td>\n",
       "      <td>4.000000</td>\n",
       "      <td>366.467500</td>\n",
       "      <td>5.000000</td>\n",
       "      <td>61.000000</td>\n",
       "    </tr>\n",
       "    <tr>\n",
       "      <th>max</th>\n",
       "      <td>99923.000000</td>\n",
       "      <td>995.000000</td>\n",
       "      <td>50.000000</td>\n",
       "      <td>5.000000</td>\n",
       "      <td>499.500000</td>\n",
       "      <td>5.000000</td>\n",
       "      <td>75.000000</td>\n",
       "    </tr>\n",
       "  </tbody>\n",
       "</table>\n",
       "</div>"
      ],
      "text/plain": [
       "        customer_id   product_id  category_id     quantity        price  \\\n",
       "count   1000.000000  1000.000000  1000.000000  1000.000000  1000.000000   \n",
       "mean   55490.723000   540.726000    30.030000     2.947000   251.850660   \n",
       "std    25910.185857   261.737704    14.370303     1.413573   139.194688   \n",
       "min    10201.000000   100.000000    10.000000     1.000000    10.720000   \n",
       "25%    33857.000000   311.750000    20.000000     2.000000   128.525000   \n",
       "50%    54619.500000   542.500000    30.000000     3.000000   250.220000   \n",
       "75%    77848.500000   770.750000    40.000000     4.000000   366.467500   \n",
       "max    99923.000000   995.000000    50.000000     5.000000   499.500000   \n",
       "\n",
       "       review_score          age  \n",
       "count    799.000000  1000.000000  \n",
       "mean       3.992491    46.382000  \n",
       "std        1.239469    16.569992  \n",
       "min        1.000000    18.000000  \n",
       "25%        3.000000    32.000000  \n",
       "50%        4.000000    47.000000  \n",
       "75%        5.000000    61.000000  \n",
       "max        5.000000    75.000000  "
      ]
     },
     "execution_count": 9,
     "metadata": {},
     "output_type": "execute_result"
    }
   ],
   "source": [
    "df.describe()"
   ]
  },
  {
   "cell_type": "code",
   "execution_count": 10,
   "metadata": {
    "colab": {
     "base_uri": "https://localhost:8080/",
     "height": 491
    },
    "id": "QhGcs-j_juh_",
    "outputId": "572e1320-ade7-4367-ecd9-23a4282ecf37"
   },
   "outputs": [
    {
     "data": {
      "text/plain": [
       "customer_id         0\n",
       "order_date          0\n",
       "product_id          0\n",
       "category_id         0\n",
       "category_name       0\n",
       "product_name        0\n",
       "quantity            0\n",
       "price               0\n",
       "payment_method      0\n",
       "city                0\n",
       "review_score      201\n",
       "gender            103\n",
       "age                 0\n",
       "dtype: int64"
      ]
     },
     "execution_count": 10,
     "metadata": {},
     "output_type": "execute_result"
    }
   ],
   "source": [
    "df.isnull().sum()"
   ]
  },
  {
   "cell_type": "markdown",
   "metadata": {
    "id": "zebePen0i1qg"
   },
   "source": [
    "### Let's Visualize the null values in a dataset"
   ]
  },
  {
   "cell_type": "code",
   "execution_count": 11,
   "metadata": {
    "colab": {
     "base_uri": "https://localhost:8080/",
     "height": 576
    },
    "id": "8ckLJxaOiSI4",
    "outputId": "48d16ed7-1bd5-478a-9ba8-c8c13232f4a7"
   },
   "outputs": [
    {
     "data": {
      "image/png": "[encoded data removed]",
      "text/plain": [
       "<Figure size 600x500 with 1 Axes>"
      ]
     },
     "metadata": {},
     "output_type": "display_data"
    }
   ],
   "source": [
    "plt.figure(figsize=(6, 5))\n",
    "sns.heatmap(df.isnull(), cbar=False, cmap='viridis')\n",
    "plt.title('Null Values Heatmap')\n",
    "plt.show()"
   ]
  },
  {
   "cell_type": "code",
   "execution_count": 12,
   "metadata": {
    "colab": {
     "base_uri": "https://localhost:8080/",
     "height": 333
    },
    "id": "ll-Q2OJBkWgx",
    "outputId": "528c7be3-2b88-4385-f1f4-3d3352a7d8bc"
   },
   "outputs": [
    {
     "data": {
      "image/png": "[encoded data removed]",
      "text/plain": [
       "<Figure size 500x300 with 1 Axes>"
      ]
     },
     "metadata": {},
     "output_type": "display_data"
    }
   ],
   "source": [
    "plt.figure(figsize=(5, 3))\n",
    "sns.histplot(df.review_score, kde=True)\n",
    "plt.title('Checking review_score distribution type')\n",
    "plt.show()"
   ]
  },
  {
   "cell_type": "code",
   "execution_count": 13,
   "metadata": {
    "colab": {
     "base_uri": "https://localhost:8080/"
    },
    "id": "ym9kOgLQoiNg",
    "outputId": "96d98abe-3df1-413d-b548-d340b2f12db9"
   },
   "outputs": [
    {
     "name": "stdout",
     "output_type": "stream",
     "text": [
      "Unique values in review_score: 5\n"
     ]
    }
   ],
   "source": [
    "print(f'Unique values in review_score: {df.review_score.nunique()}')"
   ]
  },
  {
   "cell_type": "markdown",
   "metadata": {
    "id": "ZGqnsFw7kNhC"
   },
   "source": [
    "After the histogram, We found **review_score is categorical** column **even the dtype is number**"
   ]
  },
  {
   "cell_type": "code",
   "execution_count": 14,
   "metadata": {
    "colab": {
     "base_uri": "https://localhost:8080/"
    },
    "id": "F6pfQaBcpBdz",
    "outputId": "19ee6ad8-232f-420a-8414-6077877498c2"
   },
   "outputs": [
    {
     "name": "stderr",
     "output_type": "stream",
     "text": [
      "C:\\Users\\Newton\\AppData\\Local\\Temp\\ipykernel_9460\\3517184067.py:3: FutureWarning: A value is trying to be set on a copy of a DataFrame or Series through chained assignment using an inplace method.\n",
      "The behavior will change in pandas 3.0. This inplace method will never work because the intermediate object on which we are setting values always behaves as a copy.\n",
      "\n",
      "For example, when doing 'df[col].method(value, inplace=True)', try using 'df.method({col: value}, inplace=True)' or df[col] = df[col].method(value) instead, to perform the operation inplace on the original object.\n",
      "\n",
      "\n",
      "  df[column].fillna(df[column].mode()[0], inplace=True)\n"
     ]
    }
   ],
   "source": [
    "null_columns = df.columns[df.isnull().any()]\n",
    "for column in null_columns:\n",
    "    df[column].fillna(df[column].mode()[0], inplace=True)"
   ]
  },
  {
   "cell_type": "code",
   "execution_count": 15,
   "metadata": {
    "colab": {
     "base_uri": "https://localhost:8080/",
     "height": 491
    },
    "id": "SOWAF3Aop4NT",
    "outputId": "1afad915-ac32-4dc3-da9c-6cbe25bc7198"
   },
   "outputs": [
    {
     "data": {
      "text/plain": [
       "customer_id       0\n",
       "order_date        0\n",
       "product_id        0\n",
       "category_id       0\n",
       "category_name     0\n",
       "product_name      0\n",
       "quantity          0\n",
       "price             0\n",
       "payment_method    0\n",
       "city              0\n",
       "review_score      0\n",
       "gender            0\n",
       "age               0\n",
       "dtype: int64"
      ]
     },
     "execution_count": 15,
     "metadata": {},
     "output_type": "execute_result"
    }
   ],
   "source": [
    "df.isnull().sum()"
   ]
  },
  {
   "cell_type": "code",
   "execution_count": 16,
   "metadata": {
    "colab": {
     "base_uri": "https://localhost:8080/",
     "height": 941
    },
    "id": "DWq1_VLRbh_S",
    "outputId": "a873bfff-61c1-4539-e00f-319627eda91a"
   },
   "outputs": [
    {
     "data": {
      "image/png": "[encoded data removed]",
      "text/plain": [
       "<Figure size 1500x1200 with 9 Axes>"
      ]
     },
     "metadata": {},
     "output_type": "display_data"
    }
   ],
   "source": [
    "cols = 3\n",
    "rows = (len(numarical_columns) + cols - 1) // cols\n",
    "\n",
    "fig, axis = plt.subplots(rows, cols, figsize=(5*cols, 4*rows))\n",
    "axis = axis.flatten()\n",
    "\n",
    "for i, column in enumerate(numarical_columns):\n",
    "    sns.boxplot(x=df[column], ax=axis[i])\n",
    "\n",
    "plt.tight_layout()\n",
    "plt.show()"
   ]
  },
  {
   "cell_type": "code",
   "execution_count": 17,
   "metadata": {
    "colab": {
     "base_uri": "https://localhost:8080/"
    },
    "id": "LkmE-Ye8gtMT",
    "outputId": "783ce568-5b37-45e3-ac4f-589b49a27be0"
   },
   "outputs": [
    {
     "data": {
      "text/plain": [
       "array([1., 5., 3., 4., 2.])"
      ]
     },
     "execution_count": 17,
     "metadata": {},
     "output_type": "execute_result"
    }
   ],
   "source": [
    "df.review_score.unique()"
   ]
  },
  {
   "cell_type": "markdown",
   "metadata": {
    "id": "7KUnovNjg8OD"
   },
   "source": [
    "More than **700** records are in **review_score** column is in **3 to 5** so the above graph shows **less than 3 is outliers**, but ethicaly **below 3 is not a outliers**"
   ]
  },
  {
   "cell_type": "code",
   "execution_count": 18,
   "metadata": {
    "id": "tHiq1pgAkHYV"
   },
   "outputs": [],
   "source": [
    "# encoder = LabelEncoder()\n",
    "\n",
    "# encoder.fit(df['category_name'].unique())\n",
    "# df['category_name'] = encoder.transform(df['category_name'])\n",
    "\n",
    "# print(f'classes: {encoder.classes_}')\n",
    "# print(f'Encoded values: {encoder.transform(encoder.classes_)}')"
   ]
  },
  {
   "cell_type": "code",
   "execution_count": 19,
   "metadata": {
    "colab": {
     "base_uri": "https://localhost:8080/"
    },
    "id": "pbQNw8iHoShP",
    "outputId": "8d78ebaa-3374-4129-9459-b6b09699dc48"
   },
   "outputs": [
    {
     "name": "stdout",
     "output_type": "stream",
     "text": [
      "order_date: 342 unique values (34.20%)\n",
      "category_name: 5 unique values (0.50%)\n",
      "product_name: 25 unique values (2.50%)\n",
      "payment_method: 3 unique values (0.30%)\n",
      "city: 962 unique values (96.20%)\n",
      "gender: 2 unique values (0.20%)\n"
     ]
    }
   ],
   "source": [
    "total_count = df[column].shape[0]\n",
    "\n",
    "for column in categorical_columns:\n",
    "    unique_count = df[column].nunique()\n",
    "    unique_percentage = (unique_count / total_count) * 100\n",
    "\n",
    "    print(f\"{column}: {unique_count} unique values ({unique_percentage:.2f}%)\")\n",
    "\n"
   ]
  },
  {
   "cell_type": "code",
   "execution_count": 20,
   "metadata": {
    "id": "Eu4JUjzKrUIn"
   },
   "outputs": [],
   "source": [
    "# Step 1: Convert the column to datetime\n",
    "df['order_date'] = pd.to_datetime(df['order_date'], errors='coerce')  # handles invalid formats gracefully\n",
    "\n",
    "# Step 2: Create a new column for month\n",
    "df['order_month'] = df['order_date'].dt.month  # gives month as number (1–12)\n",
    "\n",
    "# Optional: If you want the full month name\n",
    "# df['month_name'] = df['date'].dt.strftime('%B')"
   ]
  },
  {
   "cell_type": "code",
   "execution_count": 21,
   "metadata": {
    "colab": {
     "base_uri": "https://localhost:8080/",
     "height": 206
    },
    "id": "d0VEpVnVu2DI",
    "outputId": "d8b402cc-67ba-4ece-b4f8-8074c9ddafed"
   },
   "outputs": [
    {
     "data": {
      "text/html": [
       "<div>\n",
       "<style scoped>\n",
       "    .dataframe tbody tr th:only-of-type {\n",
       "        vertical-align: middle;\n",
       "    }\n",
       "\n",
       "    .dataframe tbody tr th {\n",
       "        vertical-align: top;\n",
       "    }\n",
       "\n",
       "    .dataframe thead th {\n",
       "        text-align: right;\n",
       "    }\n",
       "</style>\n",
       "<table border=\"1\" class=\"dataframe\">\n",
       "  <thead>\n",
       "    <tr style=\"text-align: right;\">\n",
       "      <th></th>\n",
       "      <th>quantity</th>\n",
       "      <th>price</th>\n",
       "      <th>review_score</th>\n",
       "      <th>age</th>\n",
       "      <th>order_month</th>\n",
       "      <th>category_name</th>\n",
       "      <th>product_name</th>\n",
       "      <th>payment_method</th>\n",
       "      <th>city</th>\n",
       "      <th>gender</th>\n",
       "    </tr>\n",
       "  </thead>\n",
       "  <tbody>\n",
       "    <tr>\n",
       "      <th>0</th>\n",
       "      <td>2</td>\n",
       "      <td>373.36</td>\n",
       "      <td>1.0</td>\n",
       "      <td>56</td>\n",
       "      <td>12</td>\n",
       "      <td>Electronics</td>\n",
       "      <td>Smartphone</td>\n",
       "      <td>Credit Card</td>\n",
       "      <td>New Oliviaberg</td>\n",
       "      <td>F</td>\n",
       "    </tr>\n",
       "    <tr>\n",
       "      <th>1</th>\n",
       "      <td>5</td>\n",
       "      <td>299.34</td>\n",
       "      <td>5.0</td>\n",
       "      <td>59</td>\n",
       "      <td>6</td>\n",
       "      <td>Sports &amp; Outdoors</td>\n",
       "      <td>Soccer Ball</td>\n",
       "      <td>Credit Card</td>\n",
       "      <td>Port Matthew</td>\n",
       "      <td>M</td>\n",
       "    </tr>\n",
       "    <tr>\n",
       "      <th>2</th>\n",
       "      <td>5</td>\n",
       "      <td>23.00</td>\n",
       "      <td>5.0</td>\n",
       "      <td>64</td>\n",
       "      <td>2</td>\n",
       "      <td>Sports &amp; Outdoors</td>\n",
       "      <td>Tent</td>\n",
       "      <td>Credit Card</td>\n",
       "      <td>West Sarah</td>\n",
       "      <td>F</td>\n",
       "    </tr>\n",
       "    <tr>\n",
       "      <th>3</th>\n",
       "      <td>2</td>\n",
       "      <td>230.11</td>\n",
       "      <td>5.0</td>\n",
       "      <td>34</td>\n",
       "      <td>10</td>\n",
       "      <td>Books &amp; Stationery</td>\n",
       "      <td>Story Book</td>\n",
       "      <td>Bank Transfer</td>\n",
       "      <td>Hernandezburgh</td>\n",
       "      <td>M</td>\n",
       "    </tr>\n",
       "    <tr>\n",
       "      <th>4</th>\n",
       "      <td>4</td>\n",
       "      <td>176.72</td>\n",
       "      <td>1.0</td>\n",
       "      <td>33</td>\n",
       "      <td>5</td>\n",
       "      <td>Fashion</td>\n",
       "      <td>Skirt</td>\n",
       "      <td>Credit Card</td>\n",
       "      <td>Jenkinshaven</td>\n",
       "      <td>F</td>\n",
       "    </tr>\n",
       "  </tbody>\n",
       "</table>\n",
       "</div>"
      ],
      "text/plain": [
       "   quantity   price  review_score  age  order_month       category_name  \\\n",
       "0         2  373.36           1.0   56           12         Electronics   \n",
       "1         5  299.34           5.0   59            6   Sports & Outdoors   \n",
       "2         5   23.00           5.0   64            2   Sports & Outdoors   \n",
       "3         2  230.11           5.0   34           10  Books & Stationery   \n",
       "4         4  176.72           1.0   33            5             Fashion   \n",
       "\n",
       "  product_name payment_method            city gender  \n",
       "0   Smartphone    Credit Card  New Oliviaberg      F  \n",
       "1  Soccer Ball    Credit Card    Port Matthew      M  \n",
       "2         Tent    Credit Card      West Sarah      F  \n",
       "3   Story Book  Bank Transfer  Hernandezburgh      M  \n",
       "4        Skirt    Credit Card    Jenkinshaven      F  "
      ]
     },
     "execution_count": 21,
     "metadata": {},
     "output_type": "execute_result"
    }
   ],
   "source": [
    "numarical_columns_with_order_month = numarical_columns + ['order_month']\n",
    "numarical_columns_with_order_month_without_ids = [col for col in numarical_columns_with_order_month if col not in ['customer_id', 'product_id', 'category_id'] ]\n",
    "categorical_columns_without_order_date = [col for col in categorical_columns if col != 'order_date']\n",
    "\n",
    "df[list(numarical_columns_with_order_month_without_ids + categorical_columns_without_order_date)].head()"
   ]
  },
  {
   "cell_type": "code",
   "execution_count": 22,
   "metadata": {
    "id": "-Fi6JrOEp4z4"
   },
   "outputs": [],
   "source": [
    "category_mappings = {}  # To store column-wise mappings\n",
    "encoder = LabelEncoder()\n",
    "\n",
    "\n",
    "for column in categorical_columns_without_order_date:\n",
    "  encoder.fit(df[column].unique())\n",
    "  df[column] = encoder.transform(df[column])\n",
    "\n",
    "  # Store mapping: category -> encoded value\n",
    "  mapping = dict(zip(encoder.classes_, encoder.transform(encoder.classes_)))\n",
    "  category_mappings[column] = mapping\n"
   ]
  },
  {
   "cell_type": "code",
   "execution_count": 23,
   "metadata": {
    "colab": {
     "base_uri": "https://localhost:8080/"
    },
    "id": "dOt2MV6Lx26U",
    "outputId": "a3a73ee2-0c8d-4f66-d481-52b35ca74ca1"
   },
   "outputs": [
    {
     "name": "stdout",
     "output_type": "stream",
     "text": [
      "category_name: {'Books & Stationery': np.int64(0), 'Electronics': np.int64(1), 'Fashion': np.int64(2), 'Home & Living': np.int64(3), 'Sports & Outdoors': np.int64(4)}\n",
      "product_name: {'Basketball': np.int64(0), 'Blanket': np.int64(1), 'Carpet': np.int64(2), 'Dress': np.int64(3), 'Eraser': np.int64(4), 'Headphones': np.int64(5), 'Laptop': np.int64(6), 'Notebook': np.int64(7), 'Novel': np.int64(8), 'Painting': np.int64(9), 'Pants': np.int64(10), 'Pen': np.int64(11), 'Pillow': np.int64(12), 'Running Shoes': np.int64(13), 'Shirt': np.int64(14), 'Skirt': np.int64(15), 'Smartphone': np.int64(16), 'Smartwatch': np.int64(17), 'Soccer Ball': np.int64(18), 'Story Book': np.int64(19), 'T-shirt': np.int64(20), 'Tablet': np.int64(21), 'Tent': np.int64(22), 'Vase': np.int64(23), 'Yoga Mat': np.int64(24)}\n",
      "payment_method: {'Bank Transfer': np.int64(0), 'Cash on Delivery': np.int64(1), 'Credit Card': np.int64(2)}\n",
      "city: {'Adamsbury': np.int64(0), 'Adamsfort': np.int64(1), 'Adrianmouth': np.int64(2), 'Alexanderberg': np.int64(3), 'Alexanderborough': np.int64(4), 'Aliciaberg': np.int64(5), 'Allisonland': np.int64(6), 'Alvaradoborough': np.int64(7), 'Alvaradobury': np.int64(8), 'Alvaradoview': np.int64(9), 'Amandaborough': np.int64(10), 'Amandafort': np.int64(11), 'Amandamouth': np.int64(12), 'Amyhaven': np.int64(13), 'Andersonchester': np.int64(14), 'Andersonfort': np.int64(15), 'Andersonshire': np.int64(16), 'Andersonside': np.int64(17), 'Andersonview': np.int64(18), 'Andreatown': np.int64(19), 'Andrewmouth': np.int64(20), 'Annaborough': np.int64(21), 'Anthonyborough': np.int64(22), 'Anthonybury': np.int64(23), 'Anthonyport': np.int64(24), 'Anthonyside': np.int64(25), 'Anthonyville': np.int64(26), 'Aprilshire': np.int64(27), 'Aprilton': np.int64(28), 'Armstrongberg': np.int64(29), 'Ashleychester': np.int64(30), 'Ashleyfort': np.int64(31), 'Ashleyside': np.int64(32), 'Audreystad': np.int64(33), 'Austinbury': np.int64(34), 'Bakerburgh': np.int64(35), 'Bakerside': np.int64(36), 'Barberside': np.int64(37), 'Barronborough': np.int64(38), 'Barryton': np.int64(39), 'Bateshaven': np.int64(40), 'Beckerview': np.int64(41), 'Benjaminburgh': np.int64(42), 'Blackchester': np.int64(43), 'Blakeshire': np.int64(44), 'Bowmanmouth': np.int64(45), 'Bradleyview': np.int64(46), 'Bradleyville': np.int64(47), 'Brandichester': np.int64(48), 'Brandonbury': np.int64(49), 'Brandyborough': np.int64(50), 'Brayfurt': np.int64(51), 'Brendaton': np.int64(52), 'Brentbury': np.int64(53), 'Brianburgh': np.int64(54), 'Brianfort': np.int64(55), 'Bridgetchester': np.int64(56), 'Brooksfort': np.int64(57), 'Brookshaven': np.int64(58), 'Brooksmouth': np.int64(59), 'Brownbury': np.int64(60), 'Brownchester': np.int64(61), 'Brownland': np.int64(62), 'Brownmouth': np.int64(63), 'Brownport': np.int64(64), 'Brownshire': np.int64(65), 'Bryceland': np.int64(66), 'Butlerton': np.int64(67), 'Cabrerashire': np.int64(68), 'Calebmouth': np.int64(69), 'Cameronside': np.int64(70), 'Cameronstad': np.int64(71), 'Cantumouth': np.int64(72), 'Carlville': np.int64(73), 'Cartermouth': np.int64(74), 'Cassandramouth': np.int64(75), 'Cassandraville': np.int64(76), 'Catherinebury': np.int64(77), 'Catherinestad': np.int64(78), 'Cervantesland': np.int64(79), 'Charlesview': np.int64(80), 'Chenmouth': np.int64(81), 'Christinaview': np.int64(82), 'Christopherburgh': np.int64(83), 'Christopherport': np.int64(84), 'Christophertown': np.int64(85), 'Christopherville': np.int64(86), 'Cindyberg': np.int64(87), 'Clayfort': np.int64(88), 'Codyburgh': np.int64(89), 'Colemanchester': np.int64(90), 'Colemanmouth': np.int64(91), 'Colemouth': np.int64(92), 'Connerburgh': np.int64(93), 'Connerstad': np.int64(94), 'Conniebury': np.int64(95), 'Coreyfort': np.int64(96), 'Coxfurt': np.int64(97), 'Craigmouth': np.int64(98), 'Crawfordport': np.int64(99), 'Crosbyfort': np.int64(100), 'Curryhaven': np.int64(101), 'Curtisshire': np.int64(102), 'Cynthiaburgh': np.int64(103), 'Cynthiaport': np.int64(104), 'Danielfurt': np.int64(105), 'Danielmouth': np.int64(106), 'Danielstad': np.int64(107), 'Danielton': np.int64(108), 'Davidborough': np.int64(109), 'Davidbury': np.int64(110), 'Davidton': np.int64(111), 'Davistown': np.int64(112), 'Deborahview': np.int64(113), 'Denisefurt': np.int64(114), 'Dennisburgh': np.int64(115), 'Derekside': np.int64(116), 'Devonmouth': np.int64(117), 'Donaldhaven': np.int64(118), 'Donaldside': np.int64(119), 'Dorseymouth': np.int64(120), 'Douglashaven': np.int64(121), 'Douglasport': np.int64(122), 'Douglastown': np.int64(123), 'Dukeborough': np.int64(124), 'East Alexandriashire': np.int64(125), 'East Alyssa': np.int64(126), 'East Amandaside': np.int64(127), 'East Ana': np.int64(128), 'East Andrea': np.int64(129), 'East Andrew': np.int64(130), 'East Annettemouth': np.int64(131), 'East Anthony': np.int64(132), 'East Anthonymouth': np.int64(133), 'East Blakeborough': np.int64(134), 'East Brittany': np.int64(135), 'East Bryanport': np.int64(136), 'East Carlos': np.int64(137), 'East Charles': np.int64(138), 'East Chris': np.int64(139), 'East Christopher': np.int64(140), 'East Christopherborough': np.int64(141), 'East Christopherfurt': np.int64(142), 'East Codyport': np.int64(143), 'East Corytown': np.int64(144), 'East Daleton': np.int64(145), 'East Daniel': np.int64(146), 'East David': np.int64(147), 'East Dawn': np.int64(148), 'East Donna': np.int64(149), 'East Ericview': np.int64(150), 'East Erikton': np.int64(151), 'East Frankhaven': np.int64(152), 'East Hannah': np.int64(153), 'East Hannahhaven': np.int64(154), 'East Jamesborough': np.int64(155), 'East Jason': np.int64(156), 'East Jennifershire': np.int64(157), 'East Johnton': np.int64(158), 'East Joseph': np.int64(159), 'East Josestad': np.int64(160), 'East Joshua': np.int64(161), 'East Justin': np.int64(162), 'East Justintown': np.int64(163), 'East Kevinchester': np.int64(164), 'East Kimberlyshire': np.int64(165), 'East Kristen': np.int64(166), 'East Kristin': np.int64(167), 'East Kylie': np.int64(168), 'East Lisaview': np.int64(169), 'East Loretta': np.int64(170), 'East Lucas': np.int64(171), 'East Mariebury': np.int64(172), 'East Martin': np.int64(173), 'East Maryland': np.int64(174), 'East Marymouth': np.int64(175), 'East Matthew': np.int64(176), 'East Michaelborough': np.int64(177), 'East Moniquefort': np.int64(178), 'East Nicole': np.int64(179), 'East Robert': np.int64(180), 'East Robynmouth': np.int64(181), 'East Russellville': np.int64(182), 'East Sarah': np.int64(183), 'East Stevenmouth': np.int64(184), 'East Tanyafurt': np.int64(185), 'East Tonyaberg': np.int64(186), 'East Veronicaville': np.int64(187), 'East Whitney': np.int64(188), 'East William': np.int64(189), 'Eddiefurt': np.int64(190), 'Edwardstad': np.int64(191), 'Edwardview': np.int64(192), 'Elizabethmouth': np.int64(193), 'Elliottfort': np.int64(194), 'Elliottmouth': np.int64(195), 'Ellisland': np.int64(196), 'Englishmouth': np.int64(197), 'Ericfurt': np.int64(198), 'Ericside': np.int64(199), 'Ericville': np.int64(200), 'Fernandezside': np.int64(201), 'Fishertown': np.int64(202), 'Floydchester': np.int64(203), 'Francofort': np.int64(204), 'Frankbury': np.int64(205), 'Franklinmouth': np.int64(206), 'Frazierbury': np.int64(207), 'Freemanport': np.int64(208), 'Fritzchester': np.int64(209), 'Fryeberg': np.int64(210), 'Fullerland': np.int64(211), 'Garciafurt': np.int64(212), 'Garciahaven': np.int64(213), 'Garciamouth': np.int64(214), 'Garciaville': np.int64(215), 'Gardnerberg': np.int64(216), 'Garrisonberg': np.int64(217), 'Garyville': np.int64(218), 'Garzachester': np.int64(219), 'Garzaport': np.int64(220), 'Georgestad': np.int64(221), 'Georgeville': np.int64(222), 'Gilmoreberg': np.int64(223), 'Gonzalesside': np.int64(224), 'Gonzalezshire': np.int64(225), 'Grahamhaven': np.int64(226), 'Graystad': np.int64(227), 'Greenborough': np.int64(228), 'Gregoryview': np.int64(229), 'Gregoryville': np.int64(230), 'Griffintown': np.int64(231), 'Gutierreztown': np.int64(232), 'Gutierrezville': np.int64(233), 'Guzmanside': np.int64(234), 'Haileyville': np.int64(235), 'Hallbury': np.int64(236), 'Hardingfort': np.int64(237), 'Harrisberg': np.int64(238), 'Harrytown': np.int64(239), 'Hawkinschester': np.int64(240), 'Hayesshire': np.int64(241), 'Henryborough': np.int64(242), 'Henrystad': np.int64(243), 'Hernandezburgh': np.int64(244), 'Hernandezfort': np.int64(245), 'Hernandezmouth': np.int64(246), 'Hickmanside': np.int64(247), 'Hobbston': np.int64(248), 'Hodgemouth': np.int64(249), 'Holmesland': np.int64(250), 'Holtbury': np.int64(251), 'Huffmanshire': np.int64(252), 'Hughesfort': np.int64(253), 'Hughesmouth': np.int64(254), 'Huntberg': np.int64(255), 'Huntershire': np.int64(256), 'Jackmouth': np.int64(257), 'Jackshire': np.int64(258), 'Jaclynview': np.int64(259), 'Jacobburgh': np.int64(260), 'Jacobfort': np.int64(261), 'Jacobfurt': np.int64(262), 'Jacobsside': np.int64(263), 'Jacobville': np.int64(264), 'Jamesfort': np.int64(265), 'Jamesland': np.int64(266), 'Jamesmouth': np.int64(267), 'Jamesside': np.int64(268), 'Jamesview': np.int64(269), 'Jamiefort': np.int64(270), 'Janetfort': np.int64(271), 'Jasonbury': np.int64(272), 'Jasonfort': np.int64(273), 'Jasontown': np.int64(274), 'Javierview': np.int64(275), 'Jaychester': np.int64(276), 'Jefferyborough': np.int64(277), 'Jefferyshire': np.int64(278), 'Jeffreyview': np.int64(279), 'Jeffreyville': np.int64(280), 'Jenkinshaven': np.int64(281), 'Jennachester': np.int64(282), 'Jenniferberg': np.int64(283), 'Jennifermouth': np.int64(284), 'Jenniferville': np.int64(285), 'Jensenstad': np.int64(286), 'Jeremyview': np.int64(287), 'Jesseburgh': np.int64(288), 'Jessicastad': np.int64(289), 'Joetown': np.int64(290), 'Johnburgh': np.int64(291), 'Johnfort': np.int64(292), 'Johnhaven': np.int64(293), 'Johnland': np.int64(294), 'Johnmouth': np.int64(295), 'Johnnystad': np.int64(296), 'Johnnyton': np.int64(297), 'Johnsonborough': np.int64(298), 'Johnstad': np.int64(299), 'Johntown': np.int64(300), 'Jonathanport': np.int64(301), 'Jonathanstad': np.int64(302), 'Jonesport': np.int64(303), 'Jonesville': np.int64(304), 'Jordanmouth': np.int64(305), 'Josephton': np.int64(306), 'Joshuaborough': np.int64(307), 'Joshuabury': np.int64(308), 'Joshuafort': np.int64(309), 'Joshuamouth': np.int64(310), 'Joshuastad': np.int64(311), 'Joshuaton': np.int64(312), 'Judithbury': np.int64(313), 'Julieborough': np.int64(314), 'Justinport': np.int64(315), 'Karenside': np.int64(316), 'Karenstad': np.int64(317), 'Katherineview': np.int64(318), 'Kathleenton': np.int64(319), 'Kathleenview': np.int64(320), 'Kathrynton': np.int64(321), 'Kathyton': np.int64(322), 'Keithland': np.int64(323), 'Kellymouth': np.int64(324), 'Kelseyton': np.int64(325), 'Kennethfort': np.int64(326), 'Kennethstad': np.int64(327), 'Kennethton': np.int64(328), 'Kevinland': np.int64(329), 'Kevinville': np.int64(330), 'Kiddmouth': np.int64(331), 'Kimberlymouth': np.int64(332), 'Kirbyport': np.int64(333), 'Kristenberg': np.int64(334), 'Kristenland': np.int64(335), 'Kruegerton': np.int64(336), 'Kurtfurt': np.int64(337), 'Kurtmouth': np.int64(338), 'Lake Alexandriachester': np.int64(339), 'Lake Alison': np.int64(340), 'Lake Annburgh': np.int64(341), 'Lake Anne': np.int64(342), 'Lake April': np.int64(343), 'Lake Bethmouth': np.int64(344), 'Lake Brent': np.int64(345), 'Lake Brentfurt': np.int64(346), 'Lake Brianbury': np.int64(347), 'Lake Brittanyberg': np.int64(348), 'Lake Brittanyburgh': np.int64(349), 'Lake Carla': np.int64(350), 'Lake Catherine': np.int64(351), 'Lake Charlestown': np.int64(352), 'Lake Cody': np.int64(353), 'Lake Cynthiastad': np.int64(354), 'Lake Ellen': np.int64(355), 'Lake Emily': np.int64(356), 'Lake Emilymouth': np.int64(357), 'Lake Gabriella': np.int64(358), 'Lake Hayley': np.int64(359), 'Lake Ian': np.int64(360), 'Lake Jasmineport': np.int64(361), 'Lake Jason': np.int64(362), 'Lake Jeanneview': np.int64(363), 'Lake Jeffrey': np.int64(364), 'Lake Jennifer': np.int64(365), 'Lake Jessefort': np.int64(366), 'Lake Jillton': np.int64(367), 'Lake Joanna': np.int64(368), 'Lake John': np.int64(369), 'Lake Johnland': np.int64(370), 'Lake Joseph': np.int64(371), 'Lake Kelly': np.int64(372), 'Lake Kimberlyburgh': np.int64(373), 'Lake Kristy': np.int64(374), 'Lake Linda': np.int64(375), 'Lake Lindafort': np.int64(376), 'Lake Lorichester': np.int64(377), 'Lake Loristad': np.int64(378), 'Lake Mallory': np.int64(379), 'Lake Maryborough': np.int64(380), 'Lake Matthew': np.int64(381), 'Lake Michael': np.int64(382), 'Lake Michaelfort': np.int64(383), 'Lake Michaelhaven': np.int64(384), 'Lake Michaelport': np.int64(385), 'Lake Nancy': np.int64(386), 'Lake Nicholas': np.int64(387), 'Lake Paulastad': np.int64(388), 'Lake Rachaelside': np.int64(389), 'Lake Rhondatown': np.int64(390), 'Lake Ryanland': np.int64(391), 'Lake Sara': np.int64(392), 'Lake Sarah': np.int64(393), 'Lake Scottfurt': np.int64(394), 'Lake Sethfurt': np.int64(395), 'Lake Sharonmouth': np.int64(396), 'Lake Sharonstad': np.int64(397), 'Lake Spencer': np.int64(398), 'Lake Teresafurt': np.int64(399), 'Lake Tiffanyfurt': np.int64(400), 'Lake Tinahaven': np.int64(401), 'Lake Toddside': np.int64(402), 'Lake Tracy': np.int64(403), 'Lake Triciaburgh': np.int64(404), 'Lake Troyshire': np.int64(405), 'Lake Victoriafort': np.int64(406), 'Lake Vincentview': np.int64(407), 'Lake Williamfort': np.int64(408), 'Landryburgh': np.int64(409), 'Larsonburgh': np.int64(410), 'Lauraberg': np.int64(411), 'Lauraburgh': np.int64(412), 'Laurenmouth': np.int64(413), 'Laurietown': np.int64(414), 'Leachstad': np.int64(415), 'Leeborough': np.int64(416), 'Lesliemouth': np.int64(417), 'Levyport': np.int64(418), 'Lewisburgh': np.int64(419), 'Lewisfort': np.int64(420), 'Lindsaybury': np.int64(421), 'Lisafurt': np.int64(422), 'Loribury': np.int64(423), 'Luketon': np.int64(424), 'Lunafort': np.int64(425), 'Lynnland': np.int64(426), 'Maddenview': np.int64(427), 'Marcusville': np.int64(428), 'Mariaborough': np.int64(429), 'Marieborough': np.int64(430), 'Markborough': np.int64(431), 'Markchester': np.int64(432), 'Markton': np.int64(433), 'Marshallside': np.int64(434), 'Marthabury': np.int64(435), 'Martinburgh': np.int64(436), 'Martinbury': np.int64(437), 'Martinezshire': np.int64(438), 'Martineztown': np.int64(439), 'Martinezview': np.int64(440), 'Martinside': np.int64(441), 'Matthewmouth': np.int64(442), 'Maxwellhaven': np.int64(443), 'Mayland': np.int64(444), 'Mccallhaven': np.int64(445), 'Mccannfurt': np.int64(446), 'Mcdanielchester': np.int64(447), 'Mcdonaldmouth': np.int64(448), 'Mcintyreburgh': np.int64(449), 'Mejiahaven': np.int64(450), 'Melanieberg': np.int64(451), 'Melanieborough': np.int64(452), 'Melanieton': np.int64(453), 'Mendezburgh': np.int64(454), 'Mendozatown': np.int64(455), 'Meyerchester': np.int64(456), 'Michaelchester': np.int64(457), 'Michaelfurt': np.int64(458), 'Michaelside': np.int64(459), 'Michaelstad': np.int64(460), 'Michellebury': np.int64(461), 'Michellefort': np.int64(462), 'Michelleview': np.int64(463), 'Millerborough': np.int64(464), 'Millerhaven': np.int64(465), 'Millermouth': np.int64(466), 'Mitchellfort': np.int64(467), 'Mitchellhaven': np.int64(468), 'Monicaland': np.int64(469), 'Moniquemouth': np.int64(470), 'Montgomeryberg': np.int64(471), 'Moraleshaven': np.int64(472), 'Moranland': np.int64(473), 'Morrisburgh': np.int64(474), 'Morrisonmouth': np.int64(475), 'Morrisport': np.int64(476), 'Murrayville': np.int64(477), 'Myershaven': np.int64(478), 'Nancytown': np.int64(479), 'Navarrostad': np.int64(480), 'New Alicia': np.int64(481), 'New Amberville': np.int64(482), 'New Amy': np.int64(483), 'New Amyfurt': np.int64(484), 'New Brandon': np.int64(485), 'New Brian': np.int64(486), 'New Brittanytown': np.int64(487), 'New Brooke': np.int64(488), 'New Carol': np.int64(489), 'New Carolfort': np.int64(490), 'New Christopherside': np.int64(491), 'New Coleside': np.int64(492), 'New Danielberg': np.int64(493), 'New David': np.int64(494), 'New Donnatown': np.int64(495), 'New Dylan': np.int64(496), 'New Edwardville': np.int64(497), 'New Felicia': np.int64(498), 'New Isaacmouth': np.int64(499), 'New Jenniferberg': np.int64(500), 'New Jeremy': np.int64(501), 'New Jonathan': np.int64(502), 'New Jose': np.int64(503), 'New Josephland': np.int64(504), 'New Joshua': np.int64(505), 'New Kelly': np.int64(506), 'New Kimberly': np.int64(507), 'New Kristen': np.int64(508), 'New Kurtmouth': np.int64(509), 'New Kyle': np.int64(510), 'New Lauramouth': np.int64(511), 'New Louis': np.int64(512), 'New Madeline': np.int64(513), 'New Matthew': np.int64(514), 'New Melissa': np.int64(515), 'New Michaeltown': np.int64(516), 'New Michealtown': np.int64(517), 'New Mindymouth': np.int64(518), 'New Miranda': np.int64(519), 'New Natalie': np.int64(520), 'New Norma': np.int64(521), 'New Oliviaberg': np.int64(522), 'New Patriciaville': np.int64(523), 'New Peterport': np.int64(524), 'New Raymond': np.int64(525), 'New Rhondaborough': np.int64(526), 'New Ronniebury': np.int64(527), 'New Sean': np.int64(528), 'New Seth': np.int64(529), 'New Shawn': np.int64(530), 'New Steven': np.int64(531), 'New Terrancetown': np.int64(532), 'New Terri': np.int64(533), 'Nguyenfort': np.int64(534), 'Nguyenmouth': np.int64(535), 'Nicholasfurt': np.int64(536), 'Nicolebury': np.int64(537), 'Nicoletown': np.int64(538), 'North Alexis': np.int64(539), 'North Amandaland': np.int64(540), 'North Angela': np.int64(541), 'North Anthony': np.int64(542), 'North Benjaminton': np.int64(543), 'North Bradleymouth': np.int64(544), 'North Carrie': np.int64(545), 'North Christinaview': np.int64(546), 'North Cristianview': np.int64(547), 'North Dana': np.int64(548), 'North Danielburgh': np.int64(549), 'North Danielmouth': np.int64(550), 'North David': np.int64(551), 'North Davidchester': np.int64(552), 'North Debraland': np.int64(553), 'North Diane': np.int64(554), 'North Donna': np.int64(555), 'North Elizabethbury': np.int64(556), 'North Erikbury': np.int64(557), 'North Heatherborough': np.int64(558), 'North Jacob': np.int64(559), 'North Jacobland': np.int64(560), 'North James': np.int64(561), 'North Jamesside': np.int64(562), 'North Janet': np.int64(563), 'North Jason': np.int64(564), 'North Jeannemouth': np.int64(565), 'North Jennifer': np.int64(566), 'North Jessica': np.int64(567), 'North Jessicabury': np.int64(568), 'North Jimmyborough': np.int64(569), 'North Johnland': np.int64(570), 'North Johnny': np.int64(571), 'North Jonathanborough': np.int64(572), 'North Juliaborough': np.int64(573), 'North Julie': np.int64(574), 'North Kathryn': np.int64(575), 'North Kelsey': np.int64(576), 'North Lisafort': np.int64(577), 'North Marissa': np.int64(578), 'North Mary': np.int64(579), 'North Matthew': np.int64(580), 'North Michaelborough': np.int64(581), 'North Michelletown': np.int64(582), 'North Nancyville': np.int64(583), 'North Rebeccashire': np.int64(584), 'North Ryanfort': np.int64(585), 'North Stevenborough': np.int64(586), 'North Stevenshire': np.int64(587), 'North Terrancehaven': np.int64(588), 'North Thomas': np.int64(589), 'North Wendyberg': np.int64(590), 'North Whitneytown': np.int64(591), 'North Zacharytown': np.int64(592), 'Osborneland': np.int64(593), 'Parkerfurt': np.int64(594), 'Patriciaberg': np.int64(595), 'Patriciafort': np.int64(596), 'Patriciaville': np.int64(597), 'Pattersonfort': np.int64(598), 'Paulabury': np.int64(599), 'Paulberg': np.int64(600), 'Paulborough': np.int64(601), 'Paulton': np.int64(602), 'Payneside': np.int64(603), 'Penningtonberg': np.int64(604), 'Perezmouth': np.int64(605), 'Peterston': np.int64(606), 'Pettymouth': np.int64(607), 'Phelpsstad': np.int64(608), 'Phillipsborough': np.int64(609), 'Phillipsport': np.int64(610), 'Pierceport': np.int64(611), 'Popeport': np.int64(612), 'Popeview': np.int64(613), 'Port Adrianhaven': np.int64(614), 'Port Alexanderton': np.int64(615), 'Port Allisonfort': np.int64(616), 'Port Andre': np.int64(617), 'Port Ashleyview': np.int64(618), 'Port Briana': np.int64(619), 'Port Catherine': np.int64(620), 'Port Christine': np.int64(621), 'Port Christopher': np.int64(622), 'Port Christopherbury': np.int64(623), 'Port Craigfort': np.int64(624), 'Port Cristianfort': np.int64(625), 'Port Dana': np.int64(626), 'Port Danielleview': np.int64(627), 'Port Darren': np.int64(628), 'Port Darrylstad': np.int64(629), 'Port Dawn': np.int64(630), 'Port Debbieborough': np.int64(631), 'Port Denisemouth': np.int64(632), 'Port Derek': np.int64(633), 'Port Diana': np.int64(634), 'Port Edward': np.int64(635), 'Port Elizabeth': np.int64(636), 'Port Emily': np.int64(637), 'Port George': np.int64(638), 'Port Ginaside': np.int64(639), 'Port Hectorbury': np.int64(640), 'Port Jackview': np.int64(641), 'Port James': np.int64(642), 'Port Jameston': np.int64(643), 'Port Jasmin': np.int64(644), 'Port Jasmine': np.int64(645), 'Port Jason': np.int64(646), 'Port Jeffrey': np.int64(647), 'Port Jenniferchester': np.int64(648), 'Port Jeremyfurt': np.int64(649), 'Port Jo': np.int64(650), 'Port Johnport': np.int64(651), 'Port Jordan': np.int64(652), 'Port Joseph': np.int64(653), 'Port Josephview': np.int64(654), 'Port Joseton': np.int64(655), 'Port Justinbury': np.int64(656), 'Port Kellyport': np.int64(657), 'Port Kellyview': np.int64(658), 'Port Kenneth': np.int64(659), 'Port Kimberlymouth': np.int64(660), 'Port Laurenfort': np.int64(661), 'Port Lindaton': np.int64(662), 'Port Lisa': np.int64(663), 'Port Luke': np.int64(664), 'Port Marcusmouth': np.int64(665), 'Port Markport': np.int64(666), 'Port Marvinmouth': np.int64(667), 'Port Matthew': np.int64(668), 'Port Matthewfort': np.int64(669), 'Port Maxwell': np.int64(670), 'Port Melissa': np.int64(671), 'Port Melissaborough': np.int64(672), 'Port Michaelville': np.int64(673), 'Port Michelle': np.int64(674), 'Port Pamelatown': np.int64(675), 'Port Patriciashire': np.int64(676), 'Port Paul': np.int64(677), 'Port Richardfurt': np.int64(678), 'Port Robertchester': np.int64(679), 'Port Ryanville': np.int64(680), 'Port Samantha': np.int64(681), 'Port Samanthafort': np.int64(682), 'Port Sandra': np.int64(683), 'Port Sarahfort': np.int64(684), 'Port Stacey': np.int64(685), 'Port Stephanie': np.int64(686), 'Port Steve': np.int64(687), 'Port Suzannebury': np.int64(688), 'Port Tammyberg': np.int64(689), 'Port Taraburgh': np.int64(690), 'Port Thomas': np.int64(691), 'Port Thomasstad': np.int64(692), 'Port Thomaston': np.int64(693), 'Port Timothy': np.int64(694), 'Port Timothyshire': np.int64(695), 'Port Tony': np.int64(696), 'Port Tracystad': np.int64(697), 'Port Victoriashire': np.int64(698), 'Port Vincenttown': np.int64(699), 'Port Wandashire': np.int64(700), 'Priceburgh': np.int64(701), 'Pughton': np.int64(702), 'Rachelborough': np.int64(703), 'Rachelburgh': np.int64(704), 'Rachelland': np.int64(705), 'Ramirezmouth': np.int64(706), 'Ramirezton': np.int64(707), 'Ramosport': np.int64(708), 'Randallburgh': np.int64(709), 'Ravenland': np.int64(710), 'Raymondchester': np.int64(711), 'Raymondland': np.int64(712), 'Raytown': np.int64(713), 'Rebeccaborough': np.int64(714), 'Rebeccahaven': np.int64(715), 'Reedside': np.int64(716), 'Reginachester': np.int64(717), 'Reidchester': np.int64(718), 'Reidville': np.int64(719), 'Reynoldsborough': np.int64(720), 'Rhodesfurt': np.int64(721), 'Ricemouth': np.int64(722), 'Richardshire': np.int64(723), 'Riveraview': np.int64(724), 'Robertbury': np.int64(725), 'Robertfort': np.int64(726), 'Robertmouth': np.int64(727), 'Robertsbury': np.int64(728), 'Robertton': np.int64(729), 'Robinhaven': np.int64(730), 'Robinsonstad': np.int64(731), 'Rodgersfurt': np.int64(732), 'Rodgershaven': np.int64(733), 'Rodriguezport': np.int64(734), 'Rogersfurt': np.int64(735), 'Romerostad': np.int64(736), 'Ronaldborough': np.int64(737), 'Rosebury': np.int64(738), 'Rossview': np.int64(739), 'Roychester': np.int64(740), 'Roymouth': np.int64(741), 'Russellton': np.int64(742), 'Ryanberg': np.int64(743), 'Sanchezborough': np.int64(744), 'Sanchezside': np.int64(745), 'Sandrafurt': np.int64(746), 'Sarahtown': np.int64(747), 'Saunderston': np.int64(748), 'Savannahmouth': np.int64(749), 'Schroederland': np.int64(750), 'Schultzborough': np.int64(751), 'Scottburgh': np.int64(752), 'Scottfort': np.int64(753), 'Scottmouth': np.int64(754), 'Scottville': np.int64(755), 'Sellersland': np.int64(756), 'Shanetown': np.int64(757), 'Shawberg': np.int64(758), 'Shawmouth': np.int64(759), 'Shawnburgh': np.int64(760), 'Shawnview': np.int64(761), 'Sheltonmouth': np.int64(762), 'Sherylfort': np.int64(763), 'Shortmouth': np.int64(764), 'Simmonsview': np.int64(765), 'Simonfort': np.int64(766), 'Simpsonshire': np.int64(767), 'Smithburgh': np.int64(768), 'Smithfort': np.int64(769), 'Smithmouth': np.int64(770), 'Smithstad': np.int64(771), 'Smithville': np.int64(772), 'Snyderborough': np.int64(773), 'South Anthony': np.int64(774), 'South Anthonyfurt': np.int64(775), 'South Antonioton': np.int64(776), 'South Ashleyshire': np.int64(777), 'South Becky': np.int64(778), 'South Brianna': np.int64(779), 'South Brianstad': np.int64(780), 'South Caroline': np.int64(781), 'South Carolynchester': np.int64(782), 'South Carriefurt': np.int64(783), 'South Christine': np.int64(784), 'South Christineberg': np.int64(785), 'South Christopherburgh': np.int64(786), 'South Coltonport': np.int64(787), 'South Donna': np.int64(788), 'South Douglasland': np.int64(789), 'South Edgartown': np.int64(790), 'South Elizabeth': np.int64(791), 'South Elizabethport': np.int64(792), 'South Holly': np.int64(793), 'South Huntermouth': np.int64(794), 'South Jacquelineside': np.int64(795), 'South Jeffrey': np.int64(796), 'South Jeffreystad': np.int64(797), 'South Jerry': np.int64(798), 'South Jessica': np.int64(799), 'South Jimmyland': np.int64(800), 'South John': np.int64(801), 'South Jonathan': np.int64(802), 'South Julieborough': np.int64(803), 'South Katherineside': np.int64(804), 'South Katiefurt': np.int64(805), 'South Kristenbury': np.int64(806), 'South Kristi': np.int64(807), 'South Lauramouth': np.int64(808), 'South Lauren': np.int64(809), 'South Lisaland': np.int64(810), 'South Luishaven': np.int64(811), 'South Mark': np.int64(812), 'South Matthew': np.int64(813), 'South Matthewburgh': np.int64(814), 'South Melinda': np.int64(815), 'South Melodystad': np.int64(816), 'South Michael': np.int64(817), 'South Omarport': np.int64(818), 'South Robert': np.int64(819), 'South Roger': np.int64(820), 'South Scott': np.int64(821), 'South Shanehaven': np.int64(822), 'South Sharonburgh': np.int64(823), 'South Stephenport': np.int64(824), 'South Susanstad': np.int64(825), 'South Taylorchester': np.int64(826), 'South Thomasmouth': np.int64(827), 'South Tonya': np.int64(828), 'South Veronica': np.int64(829), 'South Wanda': np.int64(830), 'South Wesley': np.int64(831), 'South William': np.int64(832), 'Spencerside': np.int64(833), 'Stacieberg': np.int64(834), 'Stephanieshire': np.int64(835), 'Stephenmouth': np.int64(836), 'Stevenfurt': np.int64(837), 'Stevensfurt': np.int64(838), 'Stevensonside': np.int64(839), 'Susanchester': np.int64(840), 'Suttonfort': np.int64(841), 'Tammymouth': np.int64(842), 'Taraborough': np.int64(843), 'Tatemouth': np.int64(844), 'Taylorland': np.int64(845), 'Taylorport': np.int64(846), 'Taylorview': np.int64(847), 'Teresaville': np.int64(848), 'Thomastown': np.int64(849), 'Tiffanyport': np.int64(850), 'Tiffanyshire': np.int64(851), 'Tiffanystad': np.int64(852), 'Timothychester': np.int64(853), 'Timothyland': np.int64(854), 'Tinaport': np.int64(855), 'Toddmouth': np.int64(856), 'Toddton': np.int64(857), 'Tonyamouth': np.int64(858), 'Townsendville': np.int64(859), 'Traciburgh': np.int64(860), 'Trevinoland': np.int64(861), 'Valerieview': np.int64(862), 'Vasquezmouth': np.int64(863), 'Veronicaburgh': np.int64(864), 'Veronicaland': np.int64(865), 'Vickimouth': np.int64(866), 'Villanuevaburgh': np.int64(867), 'Vincenttown': np.int64(868), 'Walkerland': np.int64(869), 'Washingtonmouth': np.int64(870), 'Watkinsburgh': np.int64(871), 'Watsonchester': np.int64(872), 'Wayneside': np.int64(873), 'Webbburgh': np.int64(874), 'Webbfort': np.int64(875), 'Webbton': np.int64(876), 'Webermouth': np.int64(877), 'Wendyborough': np.int64(878), 'Wendychester': np.int64(879), 'Wesleyborough': np.int64(880), 'Wesleytown': np.int64(881), 'West Alexfort': np.int64(882), 'West Alicia': np.int64(883), 'West Amanda': np.int64(884), 'West Amandamouth': np.int64(885), 'West Amyhaven': np.int64(886), 'West Anne': np.int64(887), 'West Antonio': np.int64(888), 'West April': np.int64(889), 'West Austin': np.int64(890), 'West Bradleymouth': np.int64(891), 'West Carlosberg': np.int64(892), 'West Charlestown': np.int64(893), 'West Courtneychester': np.int64(894), 'West Crystal': np.int64(895), 'West Cynthiaton': np.int64(896), 'West Daniel': np.int64(897), 'West Danielborough': np.int64(898), 'West Deanna': np.int64(899), 'West Denisemouth': np.int64(900), 'West Elizabethbury': np.int64(901), 'West Geraldhaven': np.int64(902), 'West Jacob': np.int64(903), 'West James': np.int64(904), 'West Jeffreyview': np.int64(905), 'West Jennifer': np.int64(906), 'West Jerome': np.int64(907), 'West Jerry': np.int64(908), 'West Jessica': np.int64(909), 'West Jesus': np.int64(910), 'West Jesusville': np.int64(911), 'West Jimmystad': np.int64(912), 'West Jonathanmouth': np.int64(913), 'West Jonathon': np.int64(914), 'West Joshuahaven': np.int64(915), 'West Justin': np.int64(916), 'West Justinburgh': np.int64(917), 'West Kathleen': np.int64(918), 'West Kendrafort': np.int64(919), 'West Krista': np.int64(920), 'West Kristinehaven': np.int64(921), 'West Larrymouth': np.int64(922), 'West Lisa': np.int64(923), 'West Louis': np.int64(924), 'West Mariaton': np.int64(925), 'West Mary': np.int64(926), 'West Masonton': np.int64(927), 'West Matthewton': np.int64(928), 'West Michaelton': np.int64(929), 'West Michellemouth': np.int64(930), 'West Molly': np.int64(931), 'West Nicholas': np.int64(932), 'West Patriciachester': np.int64(933), 'West Rebekahland': np.int64(934), 'West Reginald': np.int64(935), 'West Reginaldbury': np.int64(936), 'West Richard': np.int64(937), 'West Robertmouth': np.int64(938), 'West Rogerberg': np.int64(939), 'West Samuelhaven': np.int64(940), 'West Sandrachester': np.int64(941), 'West Sarah': np.int64(942), 'West Stevenburgh': np.int64(943), 'West Tamiville': np.int64(944), 'West Teresa': np.int64(945), 'West Thomas': np.int64(946), 'West Timothy': np.int64(947), 'West Tyler': np.int64(948), 'Whitakerview': np.int64(949), 'Whiteborough': np.int64(950), 'Williamsburgh': np.int64(951), 'Williamsfort': np.int64(952), 'Williamsside': np.int64(953), 'Williamston': np.int64(954), 'Williamton': np.int64(955), 'Woodshaven': np.int64(956), 'Woodsport': np.int64(957), 'Wrightfort': np.int64(958), 'Wrightmouth': np.int64(959), 'Wrightport': np.int64(960), 'Yatesstad': np.int64(961)}\n",
      "gender: {'F': np.int64(0), 'M': np.int64(1)}\n"
     ]
    }
   ],
   "source": [
    "for cat_dict in category_mappings.keys():\n",
    "  print(f'{cat_dict}: {category_mappings[cat_dict]}')"
   ]
  },
  {
   "cell_type": "code",
   "execution_count": 24,
   "metadata": {
    "colab": {
     "base_uri": "https://localhost:8080/",
     "height": 226
    },
    "id": "jy-oq_RyqcYa",
    "outputId": "663f4b16-b4e5-499d-8b04-f526a3738f32"
   },
   "outputs": [
    {
     "data": {
      "text/html": [
       "<div>\n",
       "<style scoped>\n",
       "    .dataframe tbody tr th:only-of-type {\n",
       "        vertical-align: middle;\n",
       "    }\n",
       "\n",
       "    .dataframe tbody tr th {\n",
       "        vertical-align: top;\n",
       "    }\n",
       "\n",
       "    .dataframe thead th {\n",
       "        text-align: right;\n",
       "    }\n",
       "</style>\n",
       "<table border=\"1\" class=\"dataframe\">\n",
       "  <thead>\n",
       "    <tr style=\"text-align: right;\">\n",
       "      <th></th>\n",
       "      <th>customer_id</th>\n",
       "      <th>order_date</th>\n",
       "      <th>product_id</th>\n",
       "      <th>category_id</th>\n",
       "      <th>category_name</th>\n",
       "      <th>product_name</th>\n",
       "      <th>quantity</th>\n",
       "      <th>price</th>\n",
       "      <th>payment_method</th>\n",
       "      <th>city</th>\n",
       "      <th>review_score</th>\n",
       "      <th>gender</th>\n",
       "      <th>age</th>\n",
       "      <th>order_month</th>\n",
       "    </tr>\n",
       "  </thead>\n",
       "  <tbody>\n",
       "    <tr>\n",
       "      <th>0</th>\n",
       "      <td>13542</td>\n",
       "      <td>2024-12-17</td>\n",
       "      <td>784</td>\n",
       "      <td>10</td>\n",
       "      <td>1</td>\n",
       "      <td>16</td>\n",
       "      <td>2</td>\n",
       "      <td>373.36</td>\n",
       "      <td>2</td>\n",
       "      <td>522</td>\n",
       "      <td>1.0</td>\n",
       "      <td>0</td>\n",
       "      <td>56</td>\n",
       "      <td>12</td>\n",
       "    </tr>\n",
       "    <tr>\n",
       "      <th>1</th>\n",
       "      <td>23188</td>\n",
       "      <td>2024-06-01</td>\n",
       "      <td>682</td>\n",
       "      <td>50</td>\n",
       "      <td>4</td>\n",
       "      <td>18</td>\n",
       "      <td>5</td>\n",
       "      <td>299.34</td>\n",
       "      <td>2</td>\n",
       "      <td>668</td>\n",
       "      <td>5.0</td>\n",
       "      <td>1</td>\n",
       "      <td>59</td>\n",
       "      <td>6</td>\n",
       "    </tr>\n",
       "    <tr>\n",
       "      <th>2</th>\n",
       "      <td>55098</td>\n",
       "      <td>2025-02-04</td>\n",
       "      <td>684</td>\n",
       "      <td>50</td>\n",
       "      <td>4</td>\n",
       "      <td>22</td>\n",
       "      <td>5</td>\n",
       "      <td>23.00</td>\n",
       "      <td>2</td>\n",
       "      <td>942</td>\n",
       "      <td>5.0</td>\n",
       "      <td>0</td>\n",
       "      <td>64</td>\n",
       "      <td>2</td>\n",
       "    </tr>\n",
       "    <tr>\n",
       "      <th>3</th>\n",
       "      <td>65208</td>\n",
       "      <td>2024-10-28</td>\n",
       "      <td>204</td>\n",
       "      <td>40</td>\n",
       "      <td>0</td>\n",
       "      <td>19</td>\n",
       "      <td>2</td>\n",
       "      <td>230.11</td>\n",
       "      <td>0</td>\n",
       "      <td>244</td>\n",
       "      <td>5.0</td>\n",
       "      <td>1</td>\n",
       "      <td>34</td>\n",
       "      <td>10</td>\n",
       "    </tr>\n",
       "    <tr>\n",
       "      <th>4</th>\n",
       "      <td>63872</td>\n",
       "      <td>2024-05-10</td>\n",
       "      <td>202</td>\n",
       "      <td>20</td>\n",
       "      <td>2</td>\n",
       "      <td>15</td>\n",
       "      <td>4</td>\n",
       "      <td>176.72</td>\n",
       "      <td>2</td>\n",
       "      <td>281</td>\n",
       "      <td>1.0</td>\n",
       "      <td>0</td>\n",
       "      <td>33</td>\n",
       "      <td>5</td>\n",
       "    </tr>\n",
       "  </tbody>\n",
       "</table>\n",
       "</div>"
      ],
      "text/plain": [
       "   customer_id order_date  product_id  category_id  category_name  \\\n",
       "0        13542 2024-12-17         784           10              1   \n",
       "1        23188 2024-06-01         682           50              4   \n",
       "2        55098 2025-02-04         684           50              4   \n",
       "3        65208 2024-10-28         204           40              0   \n",
       "4        63872 2024-05-10         202           20              2   \n",
       "\n",
       "   product_name  quantity   price  payment_method  city  review_score  gender  \\\n",
       "0            16         2  373.36               2   522           1.0       0   \n",
       "1            18         5  299.34               2   668           5.0       1   \n",
       "2            22         5   23.00               2   942           5.0       0   \n",
       "3            19         2  230.11               0   244           5.0       1   \n",
       "4            15         4  176.72               2   281           1.0       0   \n",
       "\n",
       "   age  order_month  \n",
       "0   56           12  \n",
       "1   59            6  \n",
       "2   64            2  \n",
       "3   34           10  \n",
       "4   33            5  "
      ]
     },
     "execution_count": 24,
     "metadata": {},
     "output_type": "execute_result"
    }
   ],
   "source": [
    "df.head()"
   ]
  },
  {
   "cell_type": "code",
   "execution_count": 27,
   "metadata": {
    "colab": {
     "base_uri": "https://localhost:8080/",
     "height": 576
    },
    "id": "SS7OKKsFymeK",
    "outputId": "e56fb0b4-ccc9-4efc-a0a6-a48f13911c7f"
   },
   "outputs": [
    {
     "data": {
      "image/png": "[encoded data removed]",
      "text/plain": [
       "<Figure size 700x500 with 2 Axes>"
      ]
     },
     "metadata": {},
     "output_type": "display_data"
    }
   ],
   "source": [
    "plt.figure(figsize=(7, 5))\n",
    "sns.heatmap(df.corr(), cmap='viridis')\n",
    "plt.title('Checking co-relation in the dataframe')\n",
    "plt.show()"
   ]
  },
  {
   "cell_type": "markdown",
   "metadata": {
    "id": "aYBwJgJkIyf7"
   },
   "source": [
    "✅ **Step-by-step Manual Calculation**  \n",
    "Let’s use the formula for **Simple Linear Regression**:\n",
    "\n",
    "### 🔁 Linear Regression Equation\n",
    "\n",
    "$$\n",
    "\\hat{y} = w \\cdot x + b\n",
    "$$\n",
    "\n",
    "---\n",
    "\n",
    "### 1. **Slope (w)**\n",
    "\n",
    "$$\n",
    "w = \\frac{\\sum (x_i - \\bar{x})(y_i - \\bar{y})}{\\sum (x_i - \\bar{x})^2}\n",
    "$$\n",
    "\n",
    "Where:\n",
    "- `xᵢ`: individual value from the independent variable  \n",
    "- `x̄`: mean of all xᵢ  \n",
    "- `yᵢ`: individual value from the dependent variable  \n",
    "- `ȳ`: mean of all yᵢ\n",
    "\n",
    "---\n",
    "\n",
    "### 2. **Intercept (b)**\n",
    "\n",
    "$$\n",
    "b = \\bar{y} - w \\cdot \\bar{x}\n",
    "$$\n"
   ]
  },
  {
   "cell_type": "markdown",
   "metadata": {
    "id": "bSEiUSlr1_r3"
   },
   "source": [
    "### Let's create a Simple Regression Model"
   ]
  },
  {
   "cell_type": "code",
   "execution_count": 28,
   "metadata": {
    "id": "SODUz3hezpwM"
   },
   "outputs": [],
   "source": [
    "simple_linear_model = LinearRegression()"
   ]
  },
  {
   "cell_type": "markdown",
   "metadata": {},
   "source": [
    "### In this project I am using 10 rows only for the manual calculation"
   ]
  },
  {
   "cell_type": "code",
   "execution_count": 29,
   "metadata": {
    "colab": {
     "base_uri": "https://localhost:8080/",
     "height": 363
    },
    "id": "oFAdRnwp3bLf",
    "outputId": "63e3c863-77bf-4799-870c-1a66b993ce74"
   },
   "outputs": [
    {
     "data": {
      "text/html": [
       "<div>\n",
       "<style scoped>\n",
       "    .dataframe tbody tr th:only-of-type {\n",
       "        vertical-align: middle;\n",
       "    }\n",
       "\n",
       "    .dataframe tbody tr th {\n",
       "        vertical-align: top;\n",
       "    }\n",
       "\n",
       "    .dataframe thead th {\n",
       "        text-align: right;\n",
       "    }\n",
       "</style>\n",
       "<table border=\"1\" class=\"dataframe\">\n",
       "  <thead>\n",
       "    <tr style=\"text-align: right;\">\n",
       "      <th></th>\n",
       "      <th>age</th>\n",
       "      <th>category_name</th>\n",
       "    </tr>\n",
       "  </thead>\n",
       "  <tbody>\n",
       "    <tr>\n",
       "      <th>0</th>\n",
       "      <td>56</td>\n",
       "      <td>1</td>\n",
       "    </tr>\n",
       "    <tr>\n",
       "      <th>1</th>\n",
       "      <td>59</td>\n",
       "      <td>4</td>\n",
       "    </tr>\n",
       "    <tr>\n",
       "      <th>2</th>\n",
       "      <td>64</td>\n",
       "      <td>4</td>\n",
       "    </tr>\n",
       "    <tr>\n",
       "      <th>3</th>\n",
       "      <td>34</td>\n",
       "      <td>0</td>\n",
       "    </tr>\n",
       "    <tr>\n",
       "      <th>4</th>\n",
       "      <td>33</td>\n",
       "      <td>2</td>\n",
       "    </tr>\n",
       "    <tr>\n",
       "      <th>5</th>\n",
       "      <td>21</td>\n",
       "      <td>1</td>\n",
       "    </tr>\n",
       "    <tr>\n",
       "      <th>6</th>\n",
       "      <td>57</td>\n",
       "      <td>1</td>\n",
       "    </tr>\n",
       "    <tr>\n",
       "      <th>7</th>\n",
       "      <td>60</td>\n",
       "      <td>4</td>\n",
       "    </tr>\n",
       "    <tr>\n",
       "      <th>8</th>\n",
       "      <td>69</td>\n",
       "      <td>3</td>\n",
       "    </tr>\n",
       "    <tr>\n",
       "      <th>9</th>\n",
       "      <td>34</td>\n",
       "      <td>3</td>\n",
       "    </tr>\n",
       "  </tbody>\n",
       "</table>\n",
       "</div>"
      ],
      "text/plain": [
       "   age  category_name\n",
       "0   56              1\n",
       "1   59              4\n",
       "2   64              4\n",
       "3   34              0\n",
       "4   33              2\n",
       "5   21              1\n",
       "6   57              1\n",
       "7   60              4\n",
       "8   69              3\n",
       "9   34              3"
      ]
     },
     "execution_count": 29,
     "metadata": {},
     "output_type": "execute_result"
    }
   ],
   "source": [
    "x = df[['age']][:10]\n",
    "y = df['category_name'][:10]\n",
    "df[['age', 'category_name']][:10]"
   ]
  },
  {
   "cell_type": "markdown",
   "metadata": {
    "id": "X4XNGqTwMSMO"
   },
   "source": [
    "\n",
    "\n",
    "### 🔢 Step 3: Calculate Mean of x and y\n",
    "\n",
    "$$\n",
    "\\bar{x} = \\frac{56 + 59 + 64 + 34 + 33 + 21 + 57 + 60 + 69 + 34}{10} = \\frac{487}{10} = 48.7\n",
    "$$\n",
    "\n",
    "$$\n",
    "\\bar{y} = \\frac{1 + 4 + 4 + 0 + 2 + 1 + 1 + 4 + 3 + 3}{10} = \\frac{23}{10} = 2.3\n",
    "$$\n",
    "\n",
    "---\n",
    "\n",
    "### 📋 Full Table with Calculations\n",
    "\n",
    "| x   | y | x - x̄  | y - ȳ  | (x - x̄)² | (x - x̄)(y - ȳ) |\n",
    "|-----|---|--------|--------|-----------|------------------|\n",
    "| 56  | 1 | 7.3    | -1.3   | 53.29     | -9.49            |\n",
    "| 59  | 4 | 10.3   | 1.7    | 106.09    | 17.51            |\n",
    "| 64  | 4 | 15.3   | 1.7    | 234.09    | 26.01            |\n",
    "| 34  | 0 | -14.7  | -2.3   | 216.09    | 33.81            |\n",
    "| 33  | 2 | -15.7  | -0.3   | 246.49    | 4.71             |\n",
    "| 21  | 1 | -27.7  | -1.3   | 767.29    | 36.01            |\n",
    "| 57  | 1 | 8.3    | -1.3   | 68.89     | -10.79           |\n",
    "| 60  | 4 | 11.3   | 1.7    | 127.69    | 19.21            |\n",
    "| 69  | 3 | 20.3   | 0.7    | 412.09    | 14.21            |\n",
    "| 34  | 3 | -14.7  | 0.7    | 216.09    | -10.29           |\n",
    "|     |   |        |        | **2447.10** | **120.90**       |\n",
    "\n",
    "---\n",
    "\n",
    "### 🧮 Final Calculations\n",
    "\n",
    "#### **Slope (w)**\n",
    "\n",
    "$$\n",
    "w =  \\frac{\\sum (x_i - \\bar{x})(y_i - \\bar{y})}{\\sum (x_i - \\bar{x})^2} = \\frac{120.90}{2447.10} \\approx 0.0494\n",
    "$$\n",
    "\n",
    "#### **Intercept (b)**\n",
    "\n",
    "$$\n",
    "b = 2.3 - (0.0494 \\cdot 48.7) \\approx -0.1078\n",
    "$$\n",
    "\n",
    "---\n",
    "\n",
    "### ✅ Final Linear Regression Equation\n",
    "\n",
    "$$\n",
    "\\hat{y} = 0.0494 \\cdot x - 0.1078\n",
    "$$\n"
   ]
  },
  {
   "cell_type": "code",
   "execution_count": 30,
   "metadata": {
    "colab": {
     "base_uri": "https://localhost:8080/",
     "height": 80
    },
    "id": "YWgNjFlt2H-b",
    "outputId": "e63f2ee6-e73c-4ee3-a11b-1c5d626e57f4"
   },
   "outputs": [
    {
     "data": {
      "text/html": [
       "<style>#sk-container-id-1 {\n",
       "  /* Definition of color scheme common for light and dark mode */\n",
       "  --sklearn-color-text: #000;\n",
       "  --sklearn-color-text-muted: #666;\n",
       "  --sklearn-color-line: gray;\n",
       "  /* Definition of color scheme for unfitted estimators */\n",
       "  --sklearn-color-unfitted-level-0: #fff5e6;\n",
       "  --sklearn-color-unfitted-level-1: #f6e4d2;\n",
       "  --sklearn-color-unfitted-level-2: #ffe0b3;\n",
       "  --sklearn-color-unfitted-level-3: chocolate;\n",
       "  /* Definition of color scheme for fitted estimators */\n",
       "  --sklearn-color-fitted-level-0: #f0f8ff;\n",
       "  --sklearn-color-fitted-level-1: #d4ebff;\n",
       "  --sklearn-color-fitted-level-2: #b3dbfd;\n",
       "  --sklearn-color-fitted-level-3: cornflowerblue;\n",
       "\n",
       "  /* Specific color for light theme */\n",
       "  --sklearn-color-text-on-default-background: var(--sg-text-color, var(--theme-code-foreground, var(--jp-content-font-color1, black)));\n",
       "  --sklearn-color-background: var(--sg-background-color, var(--theme-background, var(--jp-layout-color0, white)));\n",
       "  --sklearn-color-border-box: var(--sg-text-color, var(--theme-code-foreground, var(--jp-content-font-color1, black)));\n",
       "  --sklearn-color-icon: #696969;\n",
       "\n",
       "  @media (prefers-color-scheme: dark) {\n",
       "    /* Redefinition of color scheme for dark theme */\n",
       "    --sklearn-color-text-on-default-background: var(--sg-text-color, var(--theme-code-foreground, var(--jp-content-font-color1, white)));\n",
       "    --sklearn-color-background: var(--sg-background-color, var(--theme-background, var(--jp-layout-color0, #111)));\n",
       "    --sklearn-color-border-box: var(--sg-text-color, var(--theme-code-foreground, var(--jp-content-font-color1, white)));\n",
       "    --sklearn-color-icon: #878787;\n",
       "  }\n",
       "}\n",
       "\n",
       "#sk-container-id-1 {\n",
       "  color: var(--sklearn-color-text);\n",
       "}\n",
       "\n",
       "#sk-container-id-1 pre {\n",
       "  padding: 0;\n",
       "}\n",
       "\n",
       "#sk-container-id-1 input.sk-hidden--visually {\n",
       "  border: 0;\n",
       "  clip: rect(1px 1px 1px 1px);\n",
       "  clip: rect(1px, 1px, 1px, 1px);\n",
       "  height: 1px;\n",
       "  margin: -1px;\n",
       "  overflow: hidden;\n",
       "  padding: 0;\n",
       "  position: absolute;\n",
       "  width: 1px;\n",
       "}\n",
       "\n",
       "#sk-container-id-1 div.sk-dashed-wrapped {\n",
       "  border: 1px dashed var(--sklearn-color-line);\n",
       "  margin: 0 0.4em 0.5em 0.4em;\n",
       "  box-sizing: border-box;\n",
       "  padding-bottom: 0.4em;\n",
       "  background-color: var(--sklearn-color-background);\n",
       "}\n",
       "\n",
       "#sk-container-id-1 div.sk-container {\n",
       "  /* jupyter's `normalize.less` sets `[hidden] { display: none; }`\n",
       "     but bootstrap.min.css set `[hidden] { display: none !important; }`\n",
       "     so we also need the `!important` here to be able to override the\n",
       "     default hidden behavior on the sphinx rendered scikit-learn.org.\n",
       "     See: https://github.com/scikit-learn/scikit-learn/issues/21755 */\n",
       "  display: inline-block !important;\n",
       "  position: relative;\n",
       "}\n",
       "\n",
       "#sk-container-id-1 div.sk-text-repr-fallback {\n",
       "  display: none;\n",
       "}\n",
       "\n",
       "div.sk-parallel-item,\n",
       "div.sk-serial,\n",
       "div.sk-item {\n",
       "  /* draw centered vertical line to link estimators */\n",
       "  background-image: linear-gradient(var(--sklearn-color-text-on-default-background), var(--sklearn-color-text-on-default-background));\n",
       "  background-size: 2px 100%;\n",
       "  background-repeat: no-repeat;\n",
       "  background-position: center center;\n",
       "}\n",
       "\n",
       "/* Parallel-specific style estimator block */\n",
       "\n",
       "#sk-container-id-1 div.sk-parallel-item::after {\n",
       "  content: \"\";\n",
       "  width: 100%;\n",
       "  border-bottom: 2px solid var(--sklearn-color-text-on-default-background);\n",
       "  flex-grow: 1;\n",
       "}\n",
       "\n",
       "#sk-container-id-1 div.sk-parallel {\n",
       "  display: flex;\n",
       "  align-items: stretch;\n",
       "  justify-content: center;\n",
       "  background-color: var(--sklearn-color-background);\n",
       "  position: relative;\n",
       "}\n",
       "\n",
       "#sk-container-id-1 div.sk-parallel-item {\n",
       "  display: flex;\n",
       "  flex-direction: column;\n",
       "}\n",
       "\n",
       "#sk-container-id-1 div.sk-parallel-item:first-child::after {\n",
       "  align-self: flex-end;\n",
       "  width: 50%;\n",
       "}\n",
       "\n",
       "#sk-container-id-1 div.sk-parallel-item:last-child::after {\n",
       "  align-self: flex-start;\n",
       "  width: 50%;\n",
       "}\n",
       "\n",
       "#sk-container-id-1 div.sk-parallel-item:only-child::after {\n",
       "  width: 0;\n",
       "}\n",
       "\n",
       "/* Serial-specific style estimator block */\n",
       "\n",
       "#sk-container-id-1 div.sk-serial {\n",
       "  display: flex;\n",
       "  flex-direction: column;\n",
       "  align-items: center;\n",
       "  background-color: var(--sklearn-color-background);\n",
       "  padding-right: 1em;\n",
       "  padding-left: 1em;\n",
       "}\n",
       "\n",
       "\n",
       "/* Toggleable style: style used for estimator/Pipeline/ColumnTransformer box that is\n",
       "clickable and can be expanded/collapsed.\n",
       "- Pipeline and ColumnTransformer use this feature and define the default style\n",
       "- Estimators will overwrite some part of the style using the `sk-estimator` class\n",
       "*/\n",
       "\n",
       "/* Pipeline and ColumnTransformer style (default) */\n",
       "\n",
       "#sk-container-id-1 div.sk-toggleable {\n",
       "  /* Default theme specific background. It is overwritten whether we have a\n",
       "  specific estimator or a Pipeline/ColumnTransformer */\n",
       "  background-color: var(--sklearn-color-background);\n",
       "}\n",
       "\n",
       "/* Toggleable label */\n",
       "#sk-container-id-1 label.sk-toggleable__label {\n",
       "  cursor: pointer;\n",
       "  display: flex;\n",
       "  width: 100%;\n",
       "  margin-bottom: 0;\n",
       "  padding: 0.5em;\n",
       "  box-sizing: border-box;\n",
       "  text-align: center;\n",
       "  align-items: start;\n",
       "  justify-content: space-between;\n",
       "  gap: 0.5em;\n",
       "}\n",
       "\n",
       "#sk-container-id-1 label.sk-toggleable__label .caption {\n",
       "  font-size: 0.6rem;\n",
       "  font-weight: lighter;\n",
       "  color: var(--sklearn-color-text-muted);\n",
       "}\n",
       "\n",
       "#sk-container-id-1 label.sk-toggleable__label-arrow:before {\n",
       "  /* Arrow on the left of the label */\n",
       "  content: \"▸\";\n",
       "  float: left;\n",
       "  margin-right: 0.25em;\n",
       "  color: var(--sklearn-color-icon);\n",
       "}\n",
       "\n",
       "#sk-container-id-1 label.sk-toggleable__label-arrow:hover:before {\n",
       "  color: var(--sklearn-color-text);\n",
       "}\n",
       "\n",
       "/* Toggleable content - dropdown */\n",
       "\n",
       "#sk-container-id-1 div.sk-toggleable__content {\n",
       "  max-height: 0;\n",
       "  max-width: 0;\n",
       "  overflow: hidden;\n",
       "  text-align: left;\n",
       "  /* unfitted */\n",
       "  background-color: var(--sklearn-color-unfitted-level-0);\n",
       "}\n",
       "\n",
       "#sk-container-id-1 div.sk-toggleable__content.fitted {\n",
       "  /* fitted */\n",
       "  background-color: var(--sklearn-color-fitted-level-0);\n",
       "}\n",
       "\n",
       "#sk-container-id-1 div.sk-toggleable__content pre {\n",
       "  margin: 0.2em;\n",
       "  border-radius: 0.25em;\n",
       "  color: var(--sklearn-color-text);\n",
       "  /* unfitted */\n",
       "  background-color: var(--sklearn-color-unfitted-level-0);\n",
       "}\n",
       "\n",
       "#sk-container-id-1 div.sk-toggleable__content.fitted pre {\n",
       "  /* unfitted */\n",
       "  background-color: var(--sklearn-color-fitted-level-0);\n",
       "}\n",
       "\n",
       "#sk-container-id-1 input.sk-toggleable__control:checked~div.sk-toggleable__content {\n",
       "  /* Expand drop-down */\n",
       "  max-height: 200px;\n",
       "  max-width: 100%;\n",
       "  overflow: auto;\n",
       "}\n",
       "\n",
       "#sk-container-id-1 input.sk-toggleable__control:checked~label.sk-toggleable__label-arrow:before {\n",
       "  content: \"▾\";\n",
       "}\n",
       "\n",
       "/* Pipeline/ColumnTransformer-specific style */\n",
       "\n",
       "#sk-container-id-1 div.sk-label input.sk-toggleable__control:checked~label.sk-toggleable__label {\n",
       "  color: var(--sklearn-color-text);\n",
       "  background-color: var(--sklearn-color-unfitted-level-2);\n",
       "}\n",
       "\n",
       "#sk-container-id-1 div.sk-label.fitted input.sk-toggleable__control:checked~label.sk-toggleable__label {\n",
       "  background-color: var(--sklearn-color-fitted-level-2);\n",
       "}\n",
       "\n",
       "/* Estimator-specific style */\n",
       "\n",
       "/* Colorize estimator box */\n",
       "#sk-container-id-1 div.sk-estimator input.sk-toggleable__control:checked~label.sk-toggleable__label {\n",
       "  /* unfitted */\n",
       "  background-color: var(--sklearn-color-unfitted-level-2);\n",
       "}\n",
       "\n",
       "#sk-container-id-1 div.sk-estimator.fitted input.sk-toggleable__control:checked~label.sk-toggleable__label {\n",
       "  /* fitted */\n",
       "  background-color: var(--sklearn-color-fitted-level-2);\n",
       "}\n",
       "\n",
       "#sk-container-id-1 div.sk-label label.sk-toggleable__label,\n",
       "#sk-container-id-1 div.sk-label label {\n",
       "  /* The background is the default theme color */\n",
       "  color: var(--sklearn-color-text-on-default-background);\n",
       "}\n",
       "\n",
       "/* On hover, darken the color of the background */\n",
       "#sk-container-id-1 div.sk-label:hover label.sk-toggleable__label {\n",
       "  color: var(--sklearn-color-text);\n",
       "  background-color: var(--sklearn-color-unfitted-level-2);\n",
       "}\n",
       "\n",
       "/* Label box, darken color on hover, fitted */\n",
       "#sk-container-id-1 div.sk-label.fitted:hover label.sk-toggleable__label.fitted {\n",
       "  color: var(--sklearn-color-text);\n",
       "  background-color: var(--sklearn-color-fitted-level-2);\n",
       "}\n",
       "\n",
       "/* Estimator label */\n",
       "\n",
       "#sk-container-id-1 div.sk-label label {\n",
       "  font-family: monospace;\n",
       "  font-weight: bold;\n",
       "  display: inline-block;\n",
       "  line-height: 1.2em;\n",
       "}\n",
       "\n",
       "#sk-container-id-1 div.sk-label-container {\n",
       "  text-align: center;\n",
       "}\n",
       "\n",
       "/* Estimator-specific */\n",
       "#sk-container-id-1 div.sk-estimator {\n",
       "  font-family: monospace;\n",
       "  border: 1px dotted var(--sklearn-color-border-box);\n",
       "  border-radius: 0.25em;\n",
       "  box-sizing: border-box;\n",
       "  margin-bottom: 0.5em;\n",
       "  /* unfitted */\n",
       "  background-color: var(--sklearn-color-unfitted-level-0);\n",
       "}\n",
       "\n",
       "#sk-container-id-1 div.sk-estimator.fitted {\n",
       "  /* fitted */\n",
       "  background-color: var(--sklearn-color-fitted-level-0);\n",
       "}\n",
       "\n",
       "/* on hover */\n",
       "#sk-container-id-1 div.sk-estimator:hover {\n",
       "  /* unfitted */\n",
       "  background-color: var(--sklearn-color-unfitted-level-2);\n",
       "}\n",
       "\n",
       "#sk-container-id-1 div.sk-estimator.fitted:hover {\n",
       "  /* fitted */\n",
       "  background-color: var(--sklearn-color-fitted-level-2);\n",
       "}\n",
       "\n",
       "/* Specification for estimator info (e.g. \"i\" and \"?\") */\n",
       "\n",
       "/* Common style for \"i\" and \"?\" */\n",
       "\n",
       ".sk-estimator-doc-link,\n",
       "a:link.sk-estimator-doc-link,\n",
       "a:visited.sk-estimator-doc-link {\n",
       "  float: right;\n",
       "  font-size: smaller;\n",
       "  line-height: 1em;\n",
       "  font-family: monospace;\n",
       "  background-color: var(--sklearn-color-background);\n",
       "  border-radius: 1em;\n",
       "  height: 1em;\n",
       "  width: 1em;\n",
       "  text-decoration: none !important;\n",
       "  margin-left: 0.5em;\n",
       "  text-align: center;\n",
       "  /* unfitted */\n",
       "  border: var(--sklearn-color-unfitted-level-1) 1pt solid;\n",
       "  color: var(--sklearn-color-unfitted-level-1);\n",
       "}\n",
       "\n",
       ".sk-estimator-doc-link.fitted,\n",
       "a:link.sk-estimator-doc-link.fitted,\n",
       "a:visited.sk-estimator-doc-link.fitted {\n",
       "  /* fitted */\n",
       "  border: var(--sklearn-color-fitted-level-1) 1pt solid;\n",
       "  color: var(--sklearn-color-fitted-level-1);\n",
       "}\n",
       "\n",
       "/* On hover */\n",
       "div.sk-estimator:hover .sk-estimator-doc-link:hover,\n",
       ".sk-estimator-doc-link:hover,\n",
       "div.sk-label-container:hover .sk-estimator-doc-link:hover,\n",
       ".sk-estimator-doc-link:hover {\n",
       "  /* unfitted */\n",
       "  background-color: var(--sklearn-color-unfitted-level-3);\n",
       "  color: var(--sklearn-color-background);\n",
       "  text-decoration: none;\n",
       "}\n",
       "\n",
       "div.sk-estimator.fitted:hover .sk-estimator-doc-link.fitted:hover,\n",
       ".sk-estimator-doc-link.fitted:hover,\n",
       "div.sk-label-container:hover .sk-estimator-doc-link.fitted:hover,\n",
       ".sk-estimator-doc-link.fitted:hover {\n",
       "  /* fitted */\n",
       "  background-color: var(--sklearn-color-fitted-level-3);\n",
       "  color: var(--sklearn-color-background);\n",
       "  text-decoration: none;\n",
       "}\n",
       "\n",
       "/* Span, style for the box shown on hovering the info icon */\n",
       ".sk-estimator-doc-link span {\n",
       "  display: none;\n",
       "  z-index: 9999;\n",
       "  position: relative;\n",
       "  font-weight: normal;\n",
       "  right: .2ex;\n",
       "  padding: .5ex;\n",
       "  margin: .5ex;\n",
       "  width: min-content;\n",
       "  min-width: 20ex;\n",
       "  max-width: 50ex;\n",
       "  color: var(--sklearn-color-text);\n",
       "  box-shadow: 2pt 2pt 4pt #999;\n",
       "  /* unfitted */\n",
       "  background: var(--sklearn-color-unfitted-level-0);\n",
       "  border: .5pt solid var(--sklearn-color-unfitted-level-3);\n",
       "}\n",
       "\n",
       ".sk-estimator-doc-link.fitted span {\n",
       "  /* fitted */\n",
       "  background: var(--sklearn-color-fitted-level-0);\n",
       "  border: var(--sklearn-color-fitted-level-3);\n",
       "}\n",
       "\n",
       ".sk-estimator-doc-link:hover span {\n",
       "  display: block;\n",
       "}\n",
       "\n",
       "/* \"?\"-specific style due to the `<a>` HTML tag */\n",
       "\n",
       "#sk-container-id-1 a.estimator_doc_link {\n",
       "  float: right;\n",
       "  font-size: 1rem;\n",
       "  line-height: 1em;\n",
       "  font-family: monospace;\n",
       "  background-color: var(--sklearn-color-background);\n",
       "  border-radius: 1rem;\n",
       "  height: 1rem;\n",
       "  width: 1rem;\n",
       "  text-decoration: none;\n",
       "  /* unfitted */\n",
       "  color: var(--sklearn-color-unfitted-level-1);\n",
       "  border: var(--sklearn-color-unfitted-level-1) 1pt solid;\n",
       "}\n",
       "\n",
       "#sk-container-id-1 a.estimator_doc_link.fitted {\n",
       "  /* fitted */\n",
       "  border: var(--sklearn-color-fitted-level-1) 1pt solid;\n",
       "  color: var(--sklearn-color-fitted-level-1);\n",
       "}\n",
       "\n",
       "/* On hover */\n",
       "#sk-container-id-1 a.estimator_doc_link:hover {\n",
       "  /* unfitted */\n",
       "  background-color: var(--sklearn-color-unfitted-level-3);\n",
       "  color: var(--sklearn-color-background);\n",
       "  text-decoration: none;\n",
       "}\n",
       "\n",
       "#sk-container-id-1 a.estimator_doc_link.fitted:hover {\n",
       "  /* fitted */\n",
       "  background-color: var(--sklearn-color-fitted-level-3);\n",
       "}\n",
       "</style><div id=\"sk-container-id-1\" class=\"sk-top-container\"><div class=\"sk-text-repr-fallback\"><pre>LinearRegression()</pre><b>In a Jupyter environment, please rerun this cell to show the HTML representation or trust the notebook. <br />On GitHub, the HTML representation is unable to render, please try loading this page with nbviewer.org.</b></div><div class=\"sk-container\" hidden><div class=\"sk-item\"><div class=\"sk-estimator fitted sk-toggleable\"><input class=\"sk-toggleable__control sk-hidden--visually\" id=\"sk-estimator-id-1\" type=\"checkbox\" checked><label for=\"sk-estimator-id-1\" class=\"sk-toggleable__label fitted sk-toggleable__label-arrow\"><div><div>LinearRegression</div></div><div><a class=\"sk-estimator-doc-link fitted\" rel=\"noreferrer\" target=\"_blank\" href=\"https://scikit-learn.org/1.6/modules/generated/sklearn.linear_model.LinearRegression.html\">?<span>Documentation for LinearRegression</span></a><span class=\"sk-estimator-doc-link fitted\">i<span>Fitted</span></span></div></label><div class=\"sk-toggleable__content fitted\"><pre>LinearRegression()</pre></div> </div></div></div></div>"
      ],
      "text/plain": [
       "LinearRegression()"
      ]
     },
     "execution_count": 30,
     "metadata": {},
     "output_type": "execute_result"
    }
   ],
   "source": [
    "simple_linear_model.fit(x,y)"
   ]
  },
  {
   "cell_type": "code",
   "execution_count": 31,
   "metadata": {
    "colab": {
     "base_uri": "https://localhost:8080/"
    },
    "id": "fWt_Gk1z50Az",
    "outputId": "69a909c1-4742-427f-e487-01d33075ac76"
   },
   "outputs": [
    {
     "name": "stdout",
     "output_type": "stream",
     "text": [
      "Linear Equation: y = 0.05x + -0.11\n"
     ]
    }
   ],
   "source": [
    "slope = simple_linear_model.coef_[0]        # Coefficient (slope)\n",
    "intercept = simple_linear_model.intercept_  # Intercept\n",
    "\n",
    "print(f\"Linear Equation: y = {slope:.2f}x + {intercept:.2f}\")\n"
   ]
  },
  {
   "cell_type": "code",
   "execution_count": 38,
   "metadata": {
    "id": "Fv3yRgu_4Kzz"
   },
   "outputs": [],
   "source": [
    "y_pred_train = simple_linear_model.predict(x)"
   ]
  },
  {
   "cell_type": "code",
   "execution_count": 39,
   "metadata": {
    "colab": {
     "base_uri": "https://localhost:8080/",
     "height": 487
    },
    "id": "5ePNmovG6AZl",
    "outputId": "148fb982-a6a1-47de-816f-3d088782273d"
   },
   "outputs": [
    {
     "data": {
      "image/png": "[encoded data removed]",
      "text/plain": [
       "<Figure size 800x500 with 1 Axes>"
      ]
     },
     "metadata": {},
     "output_type": "display_data"
    }
   ],
   "source": [
    "plt.figure(figsize=(8,5))\n",
    "\n",
    "# Scatter plot of original data\n",
    "plt.scatter(x, y, color='blue', label='Actual data')\n",
    "\n",
    "# Plot regression line\n",
    "plt.plot(x, y_pred_train, color='red', linewidth=2, label='Regression line')\n",
    "\n",
    "plt.xlabel('X (Independent variable)')\n",
    "plt.ylabel('y (Dependent variable)')\n",
    "plt.title('Linear Regression')\n",
    "plt.legend()\n",
    "plt.grid(True)\n",
    "plt.show()\n"
   ]
  },
  {
   "cell_type": "markdown",
   "metadata": {
    "id": "IdZ8AuUDSid1"
   },
   "source": [
    "✅ **Error Metrics in Regression Models**\n",
    "\n",
    "Here are the most common ways to evaluate a regression model:\n",
    "\n",
    "---\n",
    "\n",
    "### ✅ 1. **Mean Absolute Error (MAE)**\n",
    "\n",
    "$$\n",
    "MAE = \\frac{1}{n} \\sum_{i=1}^{n} \\left| y_i - \\hat{y}_i \\right|\n",
    "$$\n",
    "\n",
    "- **MAE** is the average of the absolute differences between actual and predicted values.\n",
    "- It’s simple to understand and **less sensitive to outliers**.\n",
    "\n",
    "---\n",
    "\n",
    "### ✅ 2. **Mean Squared Error (MSE)**\n",
    "\n",
    "$$\n",
    "MSE = \\frac{1}{n} \\sum_{i=1}^{n} (y_i - \\hat{y}_i)^2\n",
    "$$\n",
    "\n",
    "- **MSE** squares the errors, so **larger errors have more impact**.\n",
    "- It’s commonly used during **model training/optimization**.\n",
    "\n",
    "---\n",
    "\n",
    "### ✅ 3. **Root Mean Squared Error (RMSE)**\n",
    "\n",
    "$$\n",
    "RMSE = \\sqrt{MSE}\n",
    "$$\n",
    "\n",
    "- **RMSE** brings the error back to the same **unit as the target variable**.\n",
    "- Easier to interpret than MSE.\n",
    "\n",
    "---\n",
    "\n",
    "### ✅ 4. **R² Score (Coefficient of Determination)**\n",
    "\n",
    "$$\n",
    "R^2 = 1 - \\frac{\\sum (y_i - \\hat{y}_i)^2}{\\sum (y_i - \\bar{y})^2}\n",
    "$$\n",
    "\n",
    "- Explains the **proportion of variance** in the target variable that is captured by the model.\n",
    "- Ranges from **0 to 1** (closer to 1 means better fit).\n"
   ]
  },
  {
   "cell_type": "markdown",
   "metadata": {
    "id": "ts1lYDXtRF0w"
   },
   "source": [
    "### Let's Evaluate the model"
   ]
  },
  {
   "cell_type": "code",
   "execution_count": 40,
   "metadata": {
    "colab": {
     "base_uri": "https://localhost:8080/"
    },
    "id": "zEJvVE3y5E5X",
    "outputId": "e3e958be-1a3e-459f-bcba-9ad9644d39d5"
   },
   "outputs": [
    {
     "data": {
      "text/html": [
       "<div>\n",
       "<style scoped>\n",
       "    .dataframe tbody tr th:only-of-type {\n",
       "        vertical-align: middle;\n",
       "    }\n",
       "\n",
       "    .dataframe tbody tr th {\n",
       "        vertical-align: top;\n",
       "    }\n",
       "\n",
       "    .dataframe thead th {\n",
       "        text-align: right;\n",
       "    }\n",
       "</style>\n",
       "<table border=\"1\" class=\"dataframe\">\n",
       "  <thead>\n",
       "    <tr style=\"text-align: right;\">\n",
       "      <th></th>\n",
       "      <th>Train Metrics</th>\n",
       "    </tr>\n",
       "  </thead>\n",
       "  <tbody>\n",
       "    <tr>\n",
       "      <th>MAE</th>\n",
       "      <td>1.049393</td>\n",
       "    </tr>\n",
       "    <tr>\n",
       "      <th>MSE</th>\n",
       "      <td>1.412932</td>\n",
       "    </tr>\n",
       "    <tr>\n",
       "      <th>RMSE</th>\n",
       "      <td>1.188668</td>\n",
       "    </tr>\n",
       "    <tr>\n",
       "      <th>R2_SCORE</th>\n",
       "      <td>0.297049</td>\n",
       "    </tr>\n",
       "  </tbody>\n",
       "</table>\n",
       "</div>"
      ],
      "text/plain": [
       "          Train Metrics\n",
       "MAE            1.049393\n",
       "MSE            1.412932\n",
       "RMSE           1.188668\n",
       "R2_SCORE       0.297049"
      ]
     },
     "execution_count": 40,
     "metadata": {},
     "output_type": "execute_result"
    }
   ],
   "source": [
    "evaluation_data = {}\n",
    "mae = mean_absolute_error(y, y_pred_train)\n",
    "mse = mean_squared_error(y, y_pred_train)\n",
    "rmse = np.sqrt(mse)\n",
    "r2 = r2_score(y, y_pred_train)\n",
    "\n",
    "evaluation_data['Train Metrics'] = dict(zip(['MAE', 'MSE', 'RMSE', 'R2_SCORE'], [mae, mse, rmse, r2]))\n",
    "pd.DataFrame(evaluation_data)"
   ]
  },
  {
   "cell_type": "code",
   "execution_count": 42,
   "metadata": {
    "id": "5t8hNUoHQ-Q2"
   },
   "outputs": [
    {
     "data": {
      "text/html": [
       "<div>\n",
       "<style scoped>\n",
       "    .dataframe tbody tr th:only-of-type {\n",
       "        vertical-align: middle;\n",
       "    }\n",
       "\n",
       "    .dataframe tbody tr th {\n",
       "        vertical-align: top;\n",
       "    }\n",
       "\n",
       "    .dataframe thead th {\n",
       "        text-align: right;\n",
       "    }\n",
       "</style>\n",
       "<table border=\"1\" class=\"dataframe\">\n",
       "  <thead>\n",
       "    <tr style=\"text-align: right;\">\n",
       "      <th></th>\n",
       "      <th>Train Metrics</th>\n",
       "      <th>Test Metrics</th>\n",
       "    </tr>\n",
       "  </thead>\n",
       "  <tbody>\n",
       "    <tr>\n",
       "      <th>MAE</th>\n",
       "      <td>1.049393</td>\n",
       "      <td>1.697537</td>\n",
       "    </tr>\n",
       "    <tr>\n",
       "      <th>MSE</th>\n",
       "      <td>1.412932</td>\n",
       "      <td>3.807832</td>\n",
       "    </tr>\n",
       "    <tr>\n",
       "      <th>RMSE</th>\n",
       "      <td>1.188668</td>\n",
       "      <td>1.951367</td>\n",
       "    </tr>\n",
       "    <tr>\n",
       "      <th>R2_SCORE</th>\n",
       "      <td>0.297049</td>\n",
       "      <td>-2.173193</td>\n",
       "    </tr>\n",
       "  </tbody>\n",
       "</table>\n",
       "</div>"
      ],
      "text/plain": [
       "          Train Metrics  Test Metrics\n",
       "MAE            1.049393      1.697537\n",
       "MSE            1.412932      3.807832\n",
       "RMSE           1.188668      1.951367\n",
       "R2_SCORE       0.297049     -2.173193"
      ]
     },
     "execution_count": 42,
     "metadata": {},
     "output_type": "execute_result"
    }
   ],
   "source": [
    "x_test, y_test = df[['age']][10:15], df.category_name[10:15]\n",
    "y_pred_test = simple_linear_model.predict(x_test)\n",
    "\n",
    "mae = mean_absolute_error(y_test, y_pred_test)\n",
    "mse = mean_squared_error(y_test, y_pred_test)\n",
    "rmse = np.sqrt(mse)\n",
    "r2 = r2_score(y_test, y_pred_test)\n",
    "\n",
    "evaluation_data['Test Metrics'] = dict(zip(['MAE', 'MSE', 'RMSE', 'R2_SCORE'], [mae, mse, rmse, r2]))\n",
    "pd.DataFrame(evaluation_data)"
   ]
  },
  {
   "cell_type": "code",
   "execution_count": null,
   "metadata": {},
   "outputs": [],
   "source": []
  }
 ],
 "metadata": {
  "colab": {
   "provenance": []
  },
  "kernelspec": {
   "display_name": "Python 3 (ipykernel)",
   "language": "python",
   "name": "python3"
  },
  "language_info": {
   "codemirror_mode": {
    "name": "ipython",
    "version": 3
   },
   "file_extension": ".py",
   "mimetype": "text/x-python",
   "name": "python",
   "nbconvert_exporter": "python",
   "pygments_lexer": "ipython3",
   "version": "3.12.3"
  }
 },
 "nbformat": 4,
 "nbformat_minor": 4
}
