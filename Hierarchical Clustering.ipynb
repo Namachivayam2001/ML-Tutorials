{
 "cells": [
  {
   "cell_type": "markdown",
   "id": "20d6bdba-c2e9-4c97-a125-68f2fcb607d5",
   "metadata": {},
   "source": [
    "## 🔍 Hierarchical Clustering\n",
    "Hierarchical Clustering is a type of unsupervised machine learning algorithm used to group similar data points into clusters. Unlike other clustering techniques (like K-Means), hierarchical clustering creates a hierarchy of clusters in a tree-like structure called a dendrogram.\n",
    "\n",
    "## 📂 Two Main Types of Hierarchical Clustering\n",
    "### 1. Agglomerative Clustering (Bottom-Up)\n",
    "- Starts with each data point as its own cluster.\n",
    "- At each step, the two closest clusters are merged.\n",
    "- Repeats until there’s only one cluster or a desired number of clusters.\n",
    "- This is the most common approach.\n",
    "\n",
    "### 2. Divisive Clustering (Top-Down)\n",
    "- Starts with all points in one cluster.\n",
    "- At each step, the algorithm splits the least similar cluster into two.\n",
    "- Repeats until every point is in its own cluster or a stopping point is reached.\n",
    "\n",
    "### 📌 Sample Dataset\n",
    "#### 📊 Let’s use a tiny 2D dataset for easy understanding:\n",
    "\n",
    "| Point | X | Y |\n",
    "|-------|---|---|\n",
    "| A     | 1 | 2 |\n",
    "| B     | 2 | 2 |\n",
    "| C     | 4 | 4 |\n",
    "| D     | 5 | 4 |\n"
   ]
  },
  {
   "cell_type": "code",
   "execution_count": 1,
   "id": "ec2832e1-e18e-49e3-a91a-6bfe0dce2440",
   "metadata": {},
   "outputs": [],
   "source": [
    "# Import required packages\n",
    "import numpy as np\n",
    "import pandas as pd\n",
    "import matplotlib.pyplot as plt\n",
    "import seaborn as sns\n",
    "from sklearn.cluster import AgglomerativeClustering"
   ]
  },
  {
   "cell_type": "code",
   "execution_count": 2,
   "id": "55dd06b9-35a6-4c56-8b01-f5909213f53d",
   "metadata": {},
   "outputs": [],
   "source": [
    "# Create Sample dataset\n",
    "data = {\n",
    "    'Point': ['A', 'B', 'C', 'D'],\n",
    "    'X': [1, 2, 4, 5],\n",
    "    'Y': [2, 2, 4, 4]\n",
    "}\n",
    "\n",
    "df = pd.DataFrame(data)\n",
    "X = df[['X', 'Y']].values"
   ]
  },
  {
   "cell_type": "code",
   "execution_count": 3,
   "id": "d1a67617-1bb4-438a-b080-6d7fad00ca47",
   "metadata": {},
   "outputs": [
    {
     "data": {
      "image/png": "[encoded data removed]",
      "text/plain": [
       "<Figure size 500x400 with 1 Axes>"
      ]
     },
     "metadata": {},
     "output_type": "display_data"
    }
   ],
   "source": [
    "# Plot the points before create model\n",
    "figure = plt.figure(figsize=(5,4))\n",
    "sns.scatterplot(x='X', y='Y', data=df, hue='Point', legend=True)\n",
    "plt.show()"
   ]
  },
  {
   "cell_type": "markdown",
   "id": "4f6bca1c-ee43-4ce8-a588-a96f31835b9b",
   "metadata": {},
   "source": [
    "### 📌 Manual Distance Calculations\n",
    "\n",
    "We’ll compute **Euclidean distance** between each pair using the formula:\n",
    "\n",
    "$$\n",
    "\\text{Distance}(P_i, P_j) = \\sqrt{(x_i - x_j)^2 + (y_i - y_j)^2}\n",
    "$$\n",
    "\n",
    "---\n",
    "\n",
    "| Pair | Calculation | Distance |\n",
    "|------|-------------|----------|\n",
    "| A-B  | √((1−2)² + (2−2)²) | √1 = **1.0** |\n",
    "| A-C  | √((1−4)² + (2−4)²) | √13 ≈ **3.61** |\n",
    "| A-D  | √((1−5)² + (2−4)²) | √20 ≈ **4.47** |\n",
    "| B-C  | √((2−4)² + (2−4)²) | √8 ≈ **2.83** |\n",
    "| B-D  | √((2−5)² + (2−4)²) | √13 ≈ **3.61** |\n",
    "| C-D  | √((4−5)² + (4−4)²) | √1 = **1.0** |\n",
    "\n",
    "---\n"
   ]
  },
  {
   "cell_type": "markdown",
   "id": "3e17e59c-a052-4769-82af-f9b325c2a4fb",
   "metadata": {},
   "source": [
    "## 1. Agglomerative Clustering (Bottom-Up)\n",
    "### 📌 Manual Hierarchical Clustering (Agglomerative)\n",
    "\n",
    "We’ll use the **Single Linkage** method (minimum distance between clusters) for this demo:\n",
    "\n",
    "---\n",
    "\n",
    "#### 🧩 Iteration 1\n",
    "\n",
    "- Closest pairs: **A-B** and **C-D**, both with distance = **1.0**\n",
    "- Merge: **A-B → cluster AB**\n",
    "\n",
    "---\n",
    "\n",
    "#### 🧩 Iteration 2\n",
    "\n",
    "Now compare clusters: **AB, C, D**\n",
    "\n",
    "- Distance **AB–C** = min(A–C, B–C) = min(3.61, 2.83) = **2.83**\n",
    "- Distance **AB–D** = min(A–D, B–D) = min(4.47, 3.61) = **3.61**\n",
    "- Distance **C–D** = **1.0**\n",
    "\n",
    "➡️ Merge: **C–D → cluster CD**\n",
    "\n",
    "---\n",
    "\n",
    "#### 🧩 Iteration 3\n",
    "\n",
    "Now compare clusters: **AB** and **CD**\n",
    "\n",
    "- Distance **AB–CD** = min(A–C, A–D, B–C, B–D)  \n",
    "  = min(3.61, 4.47, 2.83, 3.61) = **2.83**\n",
    "\n",
    "➡️ Final merge: **AB–CD** at distance **2.83**\n",
    "\n",
    "---\n",
    "\n",
    "🎯 Hierarchical Clustering Complete!\n"
   ]
  },
  {
   "cell_type": "code",
   "execution_count": 4,
   "id": "dd79cd1b-58e5-4528-98af-5f0186dd547d",
   "metadata": {},
   "outputs": [
    {
     "data": {
      "text/html": [
       "<div>\n",
       "<style scoped>\n",
       "    .dataframe tbody tr th:only-of-type {\n",
       "        vertical-align: middle;\n",
       "    }\n",
       "\n",
       "    .dataframe tbody tr th {\n",
       "        vertical-align: top;\n",
       "    }\n",
       "\n",
       "    .dataframe thead th {\n",
       "        text-align: right;\n",
       "    }\n",
       "</style>\n",
       "<table border=\"1\" class=\"dataframe\">\n",
       "  <thead>\n",
       "    <tr style=\"text-align: right;\">\n",
       "      <th></th>\n",
       "      <th>Point</th>\n",
       "      <th>X</th>\n",
       "      <th>Y</th>\n",
       "      <th>Cluster</th>\n",
       "    </tr>\n",
       "  </thead>\n",
       "  <tbody>\n",
       "    <tr>\n",
       "      <th>0</th>\n",
       "      <td>A</td>\n",
       "      <td>1</td>\n",
       "      <td>2</td>\n",
       "      <td>1</td>\n",
       "    </tr>\n",
       "    <tr>\n",
       "      <th>1</th>\n",
       "      <td>B</td>\n",
       "      <td>2</td>\n",
       "      <td>2</td>\n",
       "      <td>1</td>\n",
       "    </tr>\n",
       "    <tr>\n",
       "      <th>2</th>\n",
       "      <td>C</td>\n",
       "      <td>4</td>\n",
       "      <td>4</td>\n",
       "      <td>0</td>\n",
       "    </tr>\n",
       "    <tr>\n",
       "      <th>3</th>\n",
       "      <td>D</td>\n",
       "      <td>5</td>\n",
       "      <td>4</td>\n",
       "      <td>0</td>\n",
       "    </tr>\n",
       "  </tbody>\n",
       "</table>\n",
       "</div>"
      ],
      "text/plain": [
       "  Point  X  Y  Cluster\n",
       "0     A  1  2        1\n",
       "1     B  2  2        1\n",
       "2     C  4  4        0\n",
       "3     D  5  4        0"
      ]
     },
     "execution_count": 4,
     "metadata": {},
     "output_type": "execute_result"
    }
   ],
   "source": [
    "# Creating Model - Agglomerative clustering (with 2 clusters)\n",
    "model = AgglomerativeClustering(n_clusters=2, linkage='single')\n",
    "labels = model.fit_predict(X)\n",
    "\n",
    "df['Cluster'] = labels\n",
    "df\n"
   ]
  },
  {
   "cell_type": "code",
   "execution_count": null,
   "id": "372fcbcd-544b-4465-8ac2-194afaf07991",
   "metadata": {},
   "outputs": [],
   "source": []
  }
 ],
 "metadata": {
  "kernelspec": {
   "display_name": "Python 3 (ipykernel)",
   "language": "python",
   "name": "python3"
  },
  "language_info": {
   "codemirror_mode": {
    "name": "ipython",
    "version": 3
   },
   "file_extension": ".py",
   "mimetype": "text/x-python",
   "name": "python",
   "nbconvert_exporter": "python",
   "pygments_lexer": "ipython3",
   "version": "3.12.3"
  }
 },
 "nbformat": 4,
 "nbformat_minor": 5
}
