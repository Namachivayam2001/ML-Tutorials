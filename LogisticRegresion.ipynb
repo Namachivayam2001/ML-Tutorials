{
 "cells": [
  {
   "cell_type": "markdown",
   "id": "606b0892-0a63-48ad-a6e4-eed599c2f6bf",
   "metadata": {},
   "source": [
    "# LogisticRegression\n",
    "Logistic Regression is a statistical method used for binary classification — predicting one of two possible outcomes (e.g., yes/no, spam/not spam, pass/fail). Unlike linear regression which predicts continuous values, logistic regression predicts probabilities that map to binary outcomes.\n",
    "\n",
    "---\n",
    "\n",
    "### 1. Sigmoid Function\n",
    "At the core of logistic regression is the sigmoid (logistic) function:\n",
    "\n",
    "$$\n",
    "\\sigma(z) = \\frac{1}{1 + e^{-z}}\n",
    "$$\n",
    "\n",
    "It maps any real-valued number into the range (0, 1), which can then be interpreted as a probability.\n",
    "\n",
    "### 2. Linear Combination of Inputs:\n",
    "\n",
    "$$\n",
    "z = w_1x_1 + w_2x_2 + \\cdots + w_nx_n + b\n",
    "$$\n",
    "\n",
    "Where:  \n",
    "- **( x₁, x₂, ..., xₙ )** are input features  \n",
    "- **( w₁, w₂, ..., wₙ )** are corresponding weights  \n",
    "- **( b )** is the bias term  \n",
    "- **( σ(z) )** gives the output probability\n"
   ]
  },
  {
   "cell_type": "code",
   "execution_count": null,
   "id": "92470330-7049-4fb1-90dd-05382f9b33c0",
   "metadata": {},
   "outputs": [],
   "source": [
    "# import Required packages\n",
    "import pandas as pd\n",
    "import numpy as np\n",
    "import matplotlib.pyplot as plt\n",
    "import seaborn as sns\n",
    "from sklearn.linear_model import LogisticRegression\n",
    "from sklearn.metrics import accuracy_score, classification_report"
   ]
  },
  {
   "cell_type": "code",
   "execution_count": null,
   "id": "bc9dfe78-54b6-4ed6-b18c-7ea2a5155762",
   "metadata": {},
   "outputs": [],
   "source": []
  }
 ],
 "metadata": {
  "kernelspec": {
   "display_name": "Python 3 (ipykernel)",
   "language": "python",
   "name": "python3"
  },
  "language_info": {
   "codemirror_mode": {
    "name": "ipython",
    "version": 3
   },
   "file_extension": ".py",
   "mimetype": "text/x-python",
   "name": "python",
   "nbconvert_exporter": "python",
   "pygments_lexer": "ipython3",
   "version": "3.12.3"
  }
 },
 "nbformat": 4,
 "nbformat_minor": 5
}
