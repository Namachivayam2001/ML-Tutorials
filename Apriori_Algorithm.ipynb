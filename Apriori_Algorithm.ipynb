{
 "cells": [
  {
   "cell_type": "markdown",
   "id": "5ba35eca-8957-4956-9945-9cdf00c660e3",
   "metadata": {},
   "source": [
    "<div style=\"width: 100%; text-align: center;\">\n",
    "    <h2>Unsupervised Learning - Association Rule Learning</h2>\n",
    "</div>"
   ]
  },
  {
   "cell_type": "markdown",
   "id": "4dc83cd6-36ec-40eb-8750-bf5676d06267",
   "metadata": {},
   "source": [
    "`Association Rule Learning` is a type of unsupervised learning used to find interesting relationships (associations) or patterns among a set of items in large datasets. It’s commonly used in market basket analysis, where the goal is to discover rules that describe how products are purchased together.\n",
    "### 🔑 Key Concepts:\n",
    "\n",
    "**Itemset**: A collection of one or more items.\n",
    "\n",
    "**Support**: Frequency of an itemset in the dataset.\n",
    "\n",
    "$$\n",
    "\\text{Support}(A) = \\frac{\\text{Transactions containing A}}{\\text{Total transactions}}\n",
    "$$\n",
    "\n",
    "---\n",
    "\n",
    "**Confidence**: Likelihood that item B is bought when item A is bought.\n",
    "\n",
    "$$\n",
    "\\text{Confidence}(A \\Rightarrow B) = \\frac{\\text{Support}(A \\cup B)}{\\text{Support}(A)}\n",
    "$$\n",
    "\n",
    "---\n",
    "\n",
    "**Lift**: Measures how much more often A and B occur together than expected if they were independent.\n",
    "\n",
    "$$\n",
    "\\text{Lift}(A \\Rightarrow B) = \\frac{\\text{Confidence}(A \\Rightarrow B)}{\\text{Support}(B)}\n",
    "$$\n",
    "\n",
    "**Interpretation of Lift**:\n",
    "- **Lift > 1**: Positive association  \n",
    "- **Lift = 1**: No association  \n",
    "- **Lift < 1**: Negative association\n"
   ]
  },
  {
   "cell_type": "markdown",
   "id": "137b6f62-d0dc-43aa-b516-e1a064a93d9f",
   "metadata": {},
   "source": [
    "---\n",
    "# Apriori Algorithm\n",
    "The Apriori Algorithm is a classic algorithm used in Association Rule Learning to find frequent itemsets in a dataset and generate association rules. It's widely used for market basket analysis, where we look for combinations of items that frequently occur together in transactions."
   ]
  },
  {
   "cell_type": "code",
   "execution_count": 1,
   "id": "be139aca-62b0-421d-95ca-6f95284307d4",
   "metadata": {},
   "outputs": [],
   "source": [
    "# Import required packages\n",
    "import pandas as pd\n",
    "import numpy as np\n",
    "import matplotlib.pyplot as plt\n",
    "import seaborn as sns\n",
    "import nltk\n",
    "import json\n",
    "from mlxtend.frequent_patterns import apriori, association_rules\n",
    "from mlxtend.preprocessing import TransactionEncoder"
   ]
  },
  {
   "cell_type": "markdown",
   "id": "852f2aba-0e28-48b4-a95d-206fde724b02",
   "metadata": {},
   "source": [
    "### Find the information about dataset from the below Link \n",
    "- https://www.kaggle.com/datasets/samps74/e-commerce-customer-behavior-dataset/data"
   ]
  },
  {
   "cell_type": "markdown",
   "id": "4e67a383-a9ce-4d95-aa33-345824880866",
   "metadata": {},
   "source": [
    "## 1. Data Collection"
   ]
  },
  {
   "cell_type": "code",
   "execution_count": 2,
   "id": "b05176d4-0154-4044-b21a-bee95200e46a",
   "metadata": {},
   "outputs": [],
   "source": [
    "# read the csv \n",
    "df = pd.read_csv('https://github.com/Namachivayam2001/Public_Datasets/raw/main/E-commerce.csv')"
   ]
  },
  {
   "cell_type": "markdown",
   "id": "a6b9f4c1-1835-4e3e-b07c-cf2e19f17917",
   "metadata": {},
   "source": [
    "## 2. Data Inspection"
   ]
  },
  {
   "cell_type": "code",
   "execution_count": 3,
   "id": "3dd62c6d-4ba8-4d25-96a7-e16a0222a967",
   "metadata": {},
   "outputs": [
    {
     "data": {
      "text/html": [
       "<div>\n",
       "<style scoped>\n",
       "    .dataframe tbody tr th:only-of-type {\n",
       "        vertical-align: middle;\n",
       "    }\n",
       "\n",
       "    .dataframe tbody tr th {\n",
       "        vertical-align: top;\n",
       "    }\n",
       "\n",
       "    .dataframe thead th {\n",
       "        text-align: right;\n",
       "    }\n",
       "</style>\n",
       "<table border=\"1\" class=\"dataframe\">\n",
       "  <thead>\n",
       "    <tr style=\"text-align: right;\">\n",
       "      <th></th>\n",
       "      <th>Customer ID</th>\n",
       "      <th>Age</th>\n",
       "      <th>Gender</th>\n",
       "      <th>Location</th>\n",
       "      <th>Annual Income</th>\n",
       "      <th>Purchase History</th>\n",
       "      <th>Browsing History</th>\n",
       "      <th>Product Reviews</th>\n",
       "      <th>Time on Site</th>\n",
       "    </tr>\n",
       "  </thead>\n",
       "  <tbody>\n",
       "    <tr>\n",
       "      <th>0</th>\n",
       "      <td>1001</td>\n",
       "      <td>25</td>\n",
       "      <td>Female</td>\n",
       "      <td>City D</td>\n",
       "      <td>45000</td>\n",
       "      <td>[{\"Date\": \"2022-03-05\", \"Category\": \"Clothing\"...</td>\n",
       "      <td>[{\"Timestamp\": \"2022-03-10T14:30:00Z\"}, {\"Time...</td>\n",
       "      <td>Great pair of jeans, very comfortable. Rating:...</td>\n",
       "      <td>32.50</td>\n",
       "    </tr>\n",
       "    <tr>\n",
       "      <th>1</th>\n",
       "      <td>1001</td>\n",
       "      <td>28</td>\n",
       "      <td>Female</td>\n",
       "      <td>City D</td>\n",
       "      <td>52000</td>\n",
       "      <td>[{\"Product Category\": \"Clothing\", \"Purchase Da...</td>\n",
       "      <td>[{\"Product Category\": \"Home &amp; Garden\", \"Timest...</td>\n",
       "      <td>Great customer service!</td>\n",
       "      <td>123.45</td>\n",
       "    </tr>\n",
       "    <tr>\n",
       "      <th>2</th>\n",
       "      <td>1001</td>\n",
       "      <td>28</td>\n",
       "      <td>Female</td>\n",
       "      <td>City D</td>\n",
       "      <td>65000</td>\n",
       "      <td>[{\"Product Category\": \"Electronics\", \"Purchase...</td>\n",
       "      <td>[{\"Product Category\": \"Clothing\", \"Timestamp\":...</td>\n",
       "      <td>Great electronics. The sound quality is excell...</td>\n",
       "      <td>125.60</td>\n",
       "    </tr>\n",
       "    <tr>\n",
       "      <th>3</th>\n",
       "      <td>1001</td>\n",
       "      <td>45</td>\n",
       "      <td>Female</td>\n",
       "      <td>City D</td>\n",
       "      <td>70000</td>\n",
       "      <td>{'Purchase Date': '2022-08-15', 'Product Categ...</td>\n",
       "      <td>{'Timestamp': '2022-09-03 14:30:00'}</td>\n",
       "      <td>{\"Product 1\": {\"Rating\": 4, \"Review\": \"Great e...</td>\n",
       "      <td>327.60</td>\n",
       "    </tr>\n",
       "    <tr>\n",
       "      <th>4</th>\n",
       "      <td>1002</td>\n",
       "      <td>34</td>\n",
       "      <td>Male</td>\n",
       "      <td>City E</td>\n",
       "      <td>45000</td>\n",
       "      <td>{'Purchase Date': '2022-07-25', 'Product Categ...</td>\n",
       "      <td>{'Timestamp': '2022-08-10 17:15:00'}</td>\n",
       "      <td>{\"Product 1\": {\"Rating\": 3, \"Review\": \"Good pr...</td>\n",
       "      <td>214.90</td>\n",
       "    </tr>\n",
       "  </tbody>\n",
       "</table>\n",
       "</div>"
      ],
      "text/plain": [
       "   Customer ID  Age  Gender Location  Annual Income  \\\n",
       "0         1001   25  Female   City D          45000   \n",
       "1         1001   28  Female   City D          52000   \n",
       "2         1001   28  Female   City D          65000   \n",
       "3         1001   45  Female   City D          70000   \n",
       "4         1002   34    Male   City E          45000   \n",
       "\n",
       "                                    Purchase History  \\\n",
       "0  [{\"Date\": \"2022-03-05\", \"Category\": \"Clothing\"...   \n",
       "1  [{\"Product Category\": \"Clothing\", \"Purchase Da...   \n",
       "2  [{\"Product Category\": \"Electronics\", \"Purchase...   \n",
       "3  {'Purchase Date': '2022-08-15', 'Product Categ...   \n",
       "4  {'Purchase Date': '2022-07-25', 'Product Categ...   \n",
       "\n",
       "                                    Browsing History  \\\n",
       "0  [{\"Timestamp\": \"2022-03-10T14:30:00Z\"}, {\"Time...   \n",
       "1  [{\"Product Category\": \"Home & Garden\", \"Timest...   \n",
       "2  [{\"Product Category\": \"Clothing\", \"Timestamp\":...   \n",
       "3               {'Timestamp': '2022-09-03 14:30:00'}   \n",
       "4               {'Timestamp': '2022-08-10 17:15:00'}   \n",
       "\n",
       "                                     Product Reviews  Time on Site  \n",
       "0  Great pair of jeans, very comfortable. Rating:...         32.50  \n",
       "1                            Great customer service!        123.45  \n",
       "2  Great electronics. The sound quality is excell...        125.60  \n",
       "3  {\"Product 1\": {\"Rating\": 4, \"Review\": \"Great e...        327.60  \n",
       "4  {\"Product 1\": {\"Rating\": 3, \"Review\": \"Good pr...        214.90  "
      ]
     },
     "execution_count": 3,
     "metadata": {},
     "output_type": "execute_result"
    }
   ],
   "source": [
    "df.head()"
   ]
  },
  {
   "cell_type": "code",
   "execution_count": 4,
   "id": "89b5ba1f-10b6-485a-8f0c-c4263988409d",
   "metadata": {},
   "outputs": [
    {
     "data": {
      "text/plain": [
       "'[{\"Product Category\": \"Clothing\", \"Purchase Date\": \"2022-05-15\", \"Price\": 34.56}, {\"Product Category\": \"Electronics\", \"Purchase Date\": \"2022-06-02\", \"Price\": 150.99}]'"
      ]
     },
     "execution_count": 4,
     "metadata": {},
     "output_type": "execute_result"
    }
   ],
   "source": [
    "df['Purchase History'][1]"
   ]
  },
  {
   "cell_type": "code",
   "execution_count": 5,
   "id": "7583f369-acca-42db-bbce-1307d4b2b26e",
   "metadata": {},
   "outputs": [
    {
     "name": "stdout",
     "output_type": "stream",
     "text": [
      "<class 'pandas.core.frame.DataFrame'>\n",
      "RangeIndex: 50 entries, 0 to 49\n",
      "Data columns (total 9 columns):\n",
      " #   Column            Non-Null Count  Dtype  \n",
      "---  ------            --------------  -----  \n",
      " 0   Customer ID       50 non-null     int64  \n",
      " 1   Age               50 non-null     int64  \n",
      " 2   Gender            50 non-null     object \n",
      " 3   Location          50 non-null     object \n",
      " 4   Annual Income     50 non-null     int64  \n",
      " 5   Purchase History  50 non-null     object \n",
      " 6   Browsing History  50 non-null     object \n",
      " 7   Product Reviews   50 non-null     object \n",
      " 8   Time on Site      50 non-null     float64\n",
      "dtypes: float64(1), int64(3), object(5)\n",
      "memory usage: 3.6+ KB\n"
     ]
    }
   ],
   "source": [
    "df.info()"
   ]
  },
  {
   "cell_type": "code",
   "execution_count": 6,
   "id": "af052eae-ee8d-48e1-aa76-f274e316bf80",
   "metadata": {},
   "outputs": [
    {
     "data": {
      "text/plain": [
       "13"
      ]
     },
     "execution_count": 6,
     "metadata": {},
     "output_type": "execute_result"
    }
   ],
   "source": [
    "df['Customer ID'].nunique()"
   ]
  },
  {
   "cell_type": "markdown",
   "id": "85169c28-fc37-4a02-8cdb-498e48cc0845",
   "metadata": {},
   "source": [
    "## Purchases is in string datatype, We need to create a column with the list of Purchase product catagories to implement `Apriori Algoritham`\n",
    "json.load() method read only list of jsons, If Some contains single-cote(') instide of double-code(\") it will show error, So we should enclose the jsons with [] and replace single-cote(') to double-code(\") \n"
   ]
  },
  {
   "cell_type": "code",
   "execution_count": 7,
   "id": "17e1ad6f-7966-4186-836f-1d282f6d7ef9",
   "metadata": {},
   "outputs": [],
   "source": [
    "# def extract_product_category(history):\n",
    "#     try:\n",
    "#         history_list = json.loads(history)\n",
    "#         if isinstance(history_list, list):\n",
    "#             return [item.get('Product Category', '') for item in history_list if 'Product Category' in item]\n",
    "#     except (json.JSONDecodeError, TypeError):\n",
    "       \n",
    "#         return None\n",
    "\n",
    "def extract_product_category(history):\n",
    "    try:\n",
    "        history_list = json.loads(history)\n",
    "        if isinstance(history_list, list):\n",
    "            return [item.get('Product Category', '') for item in history_list if 'Product Category' in item]\n",
    "    except (json.JSONDecodeError, TypeError):\n",
    "        # Fix malformed string: wrap in brackets and replace single quotes with double quotes\n",
    "        try:\n",
    "            fixed_history = '[' + history + ']'\n",
    "            fixed_history = fixed_history.replace(\"'\", '\"')\n",
    "            history_list = json.loads(fixed_history)\n",
    "            if isinstance(history_list, list):\n",
    "                return [item.get('Product Category', '') for item in history_list if 'Product Category' in item]\n",
    "        except Exception:\n",
    "            return None"
   ]
  },
  {
   "cell_type": "code",
   "execution_count": 8,
   "id": "5a91e3a1-39bd-4e95-ae19-397d57d370ae",
   "metadata": {},
   "outputs": [],
   "source": [
    "df['Product Categories'] = df['Purchase History'].apply(extract_product_category)"
   ]
  },
  {
   "cell_type": "code",
   "execution_count": 9,
   "id": "4127c624-f115-481a-b4c4-753e32f0242e",
   "metadata": {},
   "outputs": [
    {
     "data": {
      "text/plain": [
       "np.int64(0)"
      ]
     },
     "execution_count": 9,
     "metadata": {},
     "output_type": "execute_result"
    }
   ],
   "source": [
    "df[['Customer ID', 'Purchase History']].duplicated().sum()"
   ]
  },
  {
   "cell_type": "code",
   "execution_count": 10,
   "id": "64a88c10-36f5-4b7c-a84c-2a41df8d3fbb",
   "metadata": {},
   "outputs": [
    {
     "data": {
      "text/html": [
       "<div>\n",
       "<style scoped>\n",
       "    .dataframe tbody tr th:only-of-type {\n",
       "        vertical-align: middle;\n",
       "    }\n",
       "\n",
       "    .dataframe tbody tr th {\n",
       "        vertical-align: top;\n",
       "    }\n",
       "\n",
       "    .dataframe thead th {\n",
       "        text-align: right;\n",
       "    }\n",
       "</style>\n",
       "<table border=\"1\" class=\"dataframe\">\n",
       "  <thead>\n",
       "    <tr style=\"text-align: right;\">\n",
       "      <th></th>\n",
       "      <th>Product Categories</th>\n",
       "    </tr>\n",
       "  </thead>\n",
       "  <tbody>\n",
       "    <tr>\n",
       "      <th>0</th>\n",
       "      <td>[]</td>\n",
       "    </tr>\n",
       "    <tr>\n",
       "      <th>1</th>\n",
       "      <td>[Clothing, Electronics]</td>\n",
       "    </tr>\n",
       "    <tr>\n",
       "      <th>2</th>\n",
       "      <td>[Electronics, Home &amp; Garden]</td>\n",
       "    </tr>\n",
       "    <tr>\n",
       "      <th>3</th>\n",
       "      <td>[Electronics, Clothing, Home &amp; Garden, Electro...</td>\n",
       "    </tr>\n",
       "    <tr>\n",
       "      <th>4</th>\n",
       "      <td>[Clothing, Home &amp; Garden, Electronics]</td>\n",
       "    </tr>\n",
       "  </tbody>\n",
       "</table>\n",
       "</div>"
      ],
      "text/plain": [
       "                                  Product Categories\n",
       "0                                                 []\n",
       "1                            [Clothing, Electronics]\n",
       "2                       [Electronics, Home & Garden]\n",
       "3  [Electronics, Clothing, Home & Garden, Electro...\n",
       "4             [Clothing, Home & Garden, Electronics]"
      ]
     },
     "execution_count": 10,
     "metadata": {},
     "output_type": "execute_result"
    }
   ],
   "source": [
    "final_df = df[['Product Categories']]\n",
    "final_df.head()"
   ]
  },
  {
   "cell_type": "code",
   "execution_count": 11,
   "id": "39367893-653b-4edf-a4d7-abc163926b0f",
   "metadata": {},
   "outputs": [
    {
     "data": {
      "text/html": [
       "<div>\n",
       "<style scoped>\n",
       "    .dataframe tbody tr th:only-of-type {\n",
       "        vertical-align: middle;\n",
       "    }\n",
       "\n",
       "    .dataframe tbody tr th {\n",
       "        vertical-align: top;\n",
       "    }\n",
       "\n",
       "    .dataframe thead th {\n",
       "        text-align: right;\n",
       "    }\n",
       "</style>\n",
       "<table border=\"1\" class=\"dataframe\">\n",
       "  <thead>\n",
       "    <tr style=\"text-align: right;\">\n",
       "      <th></th>\n",
       "      <th>count</th>\n",
       "    </tr>\n",
       "    <tr>\n",
       "      <th>Product Categories</th>\n",
       "      <th></th>\n",
       "    </tr>\n",
       "  </thead>\n",
       "  <tbody>\n",
       "    <tr>\n",
       "      <th>[Clothing, Home &amp; Garden]</th>\n",
       "      <td>13</td>\n",
       "    </tr>\n",
       "    <tr>\n",
       "      <th>[Electronics, Clothing, Home &amp; Garden]</th>\n",
       "      <td>9</td>\n",
       "    </tr>\n",
       "    <tr>\n",
       "      <th>[Electronics, Home &amp; Garden]</th>\n",
       "      <td>8</td>\n",
       "    </tr>\n",
       "    <tr>\n",
       "      <th>[Electronics, Clothing]</th>\n",
       "      <td>5</td>\n",
       "    </tr>\n",
       "    <tr>\n",
       "      <th>[Clothing, Electronics]</th>\n",
       "      <td>4</td>\n",
       "    </tr>\n",
       "    <tr>\n",
       "      <th>[Home &amp; Garden, Electronics]</th>\n",
       "      <td>4</td>\n",
       "    </tr>\n",
       "    <tr>\n",
       "      <th>[Electronics]</th>\n",
       "      <td>2</td>\n",
       "    </tr>\n",
       "    <tr>\n",
       "      <th>[]</th>\n",
       "      <td>1</td>\n",
       "    </tr>\n",
       "    <tr>\n",
       "      <th>[Electronics, Clothing, Home &amp; Garden, Electronics]</th>\n",
       "      <td>1</td>\n",
       "    </tr>\n",
       "    <tr>\n",
       "      <th>[Clothing, Home &amp; Garden, Electronics]</th>\n",
       "      <td>1</td>\n",
       "    </tr>\n",
       "    <tr>\n",
       "      <th>[Clothing]</th>\n",
       "      <td>1</td>\n",
       "    </tr>\n",
       "    <tr>\n",
       "      <th>[Clothing, Electronics, Home &amp; Garden]</th>\n",
       "      <td>1</td>\n",
       "    </tr>\n",
       "  </tbody>\n",
       "</table>\n",
       "</div>"
      ],
      "text/plain": [
       "                                                    count\n",
       "Product Categories                                       \n",
       "[Clothing, Home & Garden]                              13\n",
       "[Electronics, Clothing, Home & Garden]                  9\n",
       "[Electronics, Home & Garden]                            8\n",
       "[Electronics, Clothing]                                 5\n",
       "[Clothing, Electronics]                                 4\n",
       "[Home & Garden, Electronics]                            4\n",
       "[Electronics]                                           2\n",
       "[]                                                      1\n",
       "[Electronics, Clothing, Home & Garden, Electron...      1\n",
       "[Clothing, Home & Garden, Electronics]                  1\n",
       "[Clothing]                                              1\n",
       "[Clothing, Electronics, Home & Garden]                  1"
      ]
     },
     "execution_count": 11,
     "metadata": {},
     "output_type": "execute_result"
    }
   ],
   "source": [
    "pd.DataFrame(final_df['Product Categories'].value_counts())"
   ]
  },
  {
   "cell_type": "markdown",
   "id": "6454d44a-bec1-4beb-8580-c37e1f3b0495",
   "metadata": {},
   "source": [
    "## ✅ Apply the Apriori Algorithm Manually (Short Form)\n",
    "### 🔹 Step 1: Total Transactions\n",
    "Let’s assume all 50 transactions are valid. So,\n",
    "Total transactions (N) = 50\n",
    "\n",
    "---\n",
    "### 🔹 Step 2: Count 1-itemsets (Support Threshold = 0.5)\n",
    "We count the number of transactions each item appears in:\n",
    "\n",
    "| Item            | Count | Support (Count / 50) |\n",
    "|-----------------|-------|----------------------|\n",
    "| **Clothing**     | 35    | 0.70 ✅              |\n",
    "| **Electronics**  | 35    | 0.70 ✅              |\n",
    "| **Home & Garden**| 37    | 0.74 ✅              |\n",
    "\n",
    "✅ Since our minimum support threshold is 0.5, all 1-itemsets pass.\n",
    "\n",
    "---\n",
    "\n",
    "### 🔹 Step 3: Count 2-itemsets\n",
    "We now count how many times each pair occurs:\n",
    "\n",
    "| Itemset                        | Count | Support |\n",
    "|--------------------------------|-------|---------|\n",
    "| (Clothing, Electronics)        | 21    | 0.42 ❌ |\n",
    "| (Clothing, Home & Garden)      | 25    | 0.50 ✅ |\n",
    "| (Electronics, Home & Garden)   | 24    | 0.48 ❌ |\n",
    "\n",
    "The valid 2-itemsets passing the support threshold of 0.5:\n",
    "\n",
    "(Clothing, Home & Garden)\n",
    "\n",
    "---\n",
    "\n",
    "### 🔹 Step 4: Count 3-itemsets\n",
    "We check only combinations from the 2-itemsets that passed:\n",
    "\n",
    "| Itemset                                    | Count | Support |\n",
    "|-------------------------------------------|-------|---------|\n",
    "| (Clothing, Electronics, Home & Garden)    | 12     | 0.24 ❌ |\n",
    "\n",
    "❌ No 3-itemset passes the 0.5 threshold.\n",
    "\n",
    "---\n",
    "\n",
    "### ✅ Final Manual Output\n",
    "\n",
    "| Frequent Itemset | Count | Support (%) |\n",
    "|:----------------------------------:|:-----:|:-----------:|\n",
    "| {Home & Garden} | 37 | 74.0% |\n",
    "| {Clothing} | 35 | 70.0% |\n",
    "| {Electronics} | 35 | 70.0% |\n",
    "| {Home & Garden, Clothing} | 25 | 50.0% |\n",
    "| {Home & Garden, Electronics} | 24 | 48.0% |\n",
    "| {Clothing, Electronics} | 21 | 42.0% |\n",
    "| {Home & Garden, Clothing, Electronics} | 12 | 24.0% |\n",
    "\n",
    "#### 📌 Frequent Itemsets (min support = 0.5):\n",
    "\n",
    "#### 1-itemsets:\n",
    "- {Clothing}, {Electronics}, {Home & Garden}\n",
    "\n",
    "#### 2-itemsets:\n",
    "- {Clothing, Home & Garden}\n"
   ]
  },
  {
   "cell_type": "code",
   "execution_count": 12,
   "id": "9da7b3c3-62a1-4e13-87e9-b29c51652faf",
   "metadata": {},
   "outputs": [],
   "source": [
    "# Create TransactionEncoder object\n",
    "te = TransactionEncoder()"
   ]
  },
  {
   "cell_type": "code",
   "execution_count": 13,
   "id": "9e6a4d0b-5067-4f76-8407-c1f55e324895",
   "metadata": {},
   "outputs": [],
   "source": [
    "# Preprocessing: Convert dataset into a format suitable for apriori\n",
    "te_ary = te.fit(final_df['Product Categories']).transform(final_df['Product Categories'])\n",
    "te_df = pd.DataFrame(te_ary, columns=te.columns_)"
   ]
  },
  {
   "cell_type": "code",
   "execution_count": 14,
   "id": "022bc93c-ac60-4ddb-a9eb-5457eeb02a0d",
   "metadata": {},
   "outputs": [
    {
     "data": {
      "text/html": [
       "<div>\n",
       "<style scoped>\n",
       "    .dataframe tbody tr th:only-of-type {\n",
       "        vertical-align: middle;\n",
       "    }\n",
       "\n",
       "    .dataframe tbody tr th {\n",
       "        vertical-align: top;\n",
       "    }\n",
       "\n",
       "    .dataframe thead th {\n",
       "        text-align: right;\n",
       "    }\n",
       "</style>\n",
       "<table border=\"1\" class=\"dataframe\">\n",
       "  <thead>\n",
       "    <tr style=\"text-align: right;\">\n",
       "      <th></th>\n",
       "      <th>Clothing</th>\n",
       "      <th>Electronics</th>\n",
       "      <th>Home &amp; Garden</th>\n",
       "    </tr>\n",
       "  </thead>\n",
       "  <tbody>\n",
       "    <tr>\n",
       "      <th>0</th>\n",
       "      <td>False</td>\n",
       "      <td>False</td>\n",
       "      <td>False</td>\n",
       "    </tr>\n",
       "    <tr>\n",
       "      <th>1</th>\n",
       "      <td>True</td>\n",
       "      <td>True</td>\n",
       "      <td>False</td>\n",
       "    </tr>\n",
       "    <tr>\n",
       "      <th>2</th>\n",
       "      <td>False</td>\n",
       "      <td>True</td>\n",
       "      <td>True</td>\n",
       "    </tr>\n",
       "    <tr>\n",
       "      <th>3</th>\n",
       "      <td>True</td>\n",
       "      <td>True</td>\n",
       "      <td>True</td>\n",
       "    </tr>\n",
       "    <tr>\n",
       "      <th>4</th>\n",
       "      <td>True</td>\n",
       "      <td>True</td>\n",
       "      <td>True</td>\n",
       "    </tr>\n",
       "  </tbody>\n",
       "</table>\n",
       "</div>"
      ],
      "text/plain": [
       "   Clothing  Electronics  Home & Garden\n",
       "0     False        False          False\n",
       "1      True         True          False\n",
       "2     False         True           True\n",
       "3      True         True           True\n",
       "4      True         True           True"
      ]
     },
     "execution_count": 14,
     "metadata": {},
     "output_type": "execute_result"
    }
   ],
   "source": [
    "te_df.head()"
   ]
  },
  {
   "cell_type": "code",
   "execution_count": 20,
   "id": "55e3606b-d2c9-4a10-8c2e-a8a6435d1880",
   "metadata": {},
   "outputs": [],
   "source": [
    "# Running Apriori algorithm to find frequent itemsets with a minimum support of 0.5\n",
    "frequent_itemsets = apriori(te_df, min_support=0.5, use_colnames=True)"
   ]
  },
  {
   "cell_type": "code",
   "execution_count": 21,
   "id": "056eaa1a-e909-4563-8b2c-0e1c709357f0",
   "metadata": {},
   "outputs": [
    {
     "data": {
      "text/html": [
       "<div>\n",
       "<style scoped>\n",
       "    .dataframe tbody tr th:only-of-type {\n",
       "        vertical-align: middle;\n",
       "    }\n",
       "\n",
       "    .dataframe tbody tr th {\n",
       "        vertical-align: top;\n",
       "    }\n",
       "\n",
       "    .dataframe thead th {\n",
       "        text-align: right;\n",
       "    }\n",
       "</style>\n",
       "<table border=\"1\" class=\"dataframe\">\n",
       "  <thead>\n",
       "    <tr style=\"text-align: right;\">\n",
       "      <th></th>\n",
       "      <th>support</th>\n",
       "      <th>itemsets</th>\n",
       "    </tr>\n",
       "  </thead>\n",
       "  <tbody>\n",
       "    <tr>\n",
       "      <th>2</th>\n",
       "      <td>0.74</td>\n",
       "      <td>(Home &amp; Garden)</td>\n",
       "    </tr>\n",
       "    <tr>\n",
       "      <th>0</th>\n",
       "      <td>0.70</td>\n",
       "      <td>(Clothing)</td>\n",
       "    </tr>\n",
       "    <tr>\n",
       "      <th>1</th>\n",
       "      <td>0.70</td>\n",
       "      <td>(Electronics)</td>\n",
       "    </tr>\n",
       "    <tr>\n",
       "      <th>3</th>\n",
       "      <td>0.50</td>\n",
       "      <td>(Home &amp; Garden, Clothing)</td>\n",
       "    </tr>\n",
       "  </tbody>\n",
       "</table>\n",
       "</div>"
      ],
      "text/plain": [
       "   support                   itemsets\n",
       "2     0.74            (Home & Garden)\n",
       "0     0.70                 (Clothing)\n",
       "1     0.70              (Electronics)\n",
       "3     0.50  (Home & Garden, Clothing)"
      ]
     },
     "execution_count": 21,
     "metadata": {},
     "output_type": "execute_result"
    }
   ],
   "source": [
    "frequent_itemsets.sort_values(by='support', ascending=False)"
   ]
  },
  {
   "cell_type": "markdown",
   "id": "87947dd0-8928-4ba1-98c9-28180878903e",
   "metadata": {},
   "source": [
    "## 🔥 Code to generate association rules"
   ]
  },
  {
   "cell_type": "code",
   "execution_count": 22,
   "id": "13c6cd7d-1da6-4a6b-b7bf-83dccfbab04e",
   "metadata": {},
   "outputs": [],
   "source": [
    "# generate association rules\n",
    "rules = association_rules(frequent_itemsets, metric=\"confidence\", min_threshold=0.5)"
   ]
  },
  {
   "cell_type": "code",
   "execution_count": 23,
   "id": "21977d0f-d14c-4fab-a12b-c7d17a5c6ec3",
   "metadata": {},
   "outputs": [
    {
     "data": {
      "text/html": [
       "<div>\n",
       "<style scoped>\n",
       "    .dataframe tbody tr th:only-of-type {\n",
       "        vertical-align: middle;\n",
       "    }\n",
       "\n",
       "    .dataframe tbody tr th {\n",
       "        vertical-align: top;\n",
       "    }\n",
       "\n",
       "    .dataframe thead th {\n",
       "        text-align: right;\n",
       "    }\n",
       "</style>\n",
       "<table border=\"1\" class=\"dataframe\">\n",
       "  <thead>\n",
       "    <tr style=\"text-align: right;\">\n",
       "      <th></th>\n",
       "      <th>antecedents</th>\n",
       "      <th>consequents</th>\n",
       "      <th>support</th>\n",
       "      <th>confidence</th>\n",
       "      <th>lift</th>\n",
       "    </tr>\n",
       "  </thead>\n",
       "  <tbody>\n",
       "    <tr>\n",
       "      <th>1</th>\n",
       "      <td>(Clothing)</td>\n",
       "      <td>(Home &amp; Garden)</td>\n",
       "      <td>0.5</td>\n",
       "      <td>0.714286</td>\n",
       "      <td>0.965251</td>\n",
       "    </tr>\n",
       "    <tr>\n",
       "      <th>0</th>\n",
       "      <td>(Home &amp; Garden)</td>\n",
       "      <td>(Clothing)</td>\n",
       "      <td>0.5</td>\n",
       "      <td>0.675676</td>\n",
       "      <td>0.965251</td>\n",
       "    </tr>\n",
       "  </tbody>\n",
       "</table>\n",
       "</div>"
      ],
      "text/plain": [
       "       antecedents      consequents  support  confidence      lift\n",
       "1       (Clothing)  (Home & Garden)      0.5    0.714286  0.965251\n",
       "0  (Home & Garden)       (Clothing)      0.5    0.675676  0.965251"
      ]
     },
     "execution_count": 23,
     "metadata": {},
     "output_type": "execute_result"
    }
   ],
   "source": [
    "rules[['antecedents', 'consequents', 'support', 'confidence', 'lift']].sort_values(by='confidence', ascending=False)"
   ]
  },
  {
   "cell_type": "code",
   "execution_count": null,
   "id": "1558bd6f-dd51-4c2b-a3a0-463db29764a9",
   "metadata": {},
   "outputs": [],
   "source": []
  }
 ],
 "metadata": {
  "kernelspec": {
   "display_name": "Python 3 (ipykernel)",
   "language": "python",
   "name": "python3"
  },
  "language_info": {
   "codemirror_mode": {
    "name": "ipython",
    "version": 3
   },
   "file_extension": ".py",
   "mimetype": "text/x-python",
   "name": "python",
   "nbconvert_exporter": "python",
   "pygments_lexer": "ipython3",
   "version": "3.12.3"
  }
 },
 "nbformat": 4,
 "nbformat_minor": 5
}
